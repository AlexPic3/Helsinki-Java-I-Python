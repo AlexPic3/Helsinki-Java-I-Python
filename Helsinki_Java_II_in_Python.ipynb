{
  "cells": [
    {
      "cell_type": "markdown",
      "metadata": {
        "id": "view-in-github",
        "colab_type": "text"
      },
      "source": [
        "<a href=\"https://colab.research.google.com/github/AlexPic3/Helsinki-Java-I-Python/blob/main/Helsinki_Java_II_in_Python.ipynb\" target=\"_parent\"><img src=\"https://colab.research.google.com/assets/colab-badge.svg\" alt=\"Open In Colab\"/></a>"
      ]
    },
    {
      "cell_type": "markdown",
      "metadata": {
        "id": "4LjiusiRwaZv"
      },
      "source": [
        "# [Helsinki](https://java-programming.mooc.fi/) Java II in Python\n"
      ]
    },
    {
      "cell_type": "markdown",
      "source": [
        "<a name=\"cell-id\"></a>\n",
        "##### DRIVE_MOUNT"
      ],
      "metadata": {
        "id": "yYxfmQbCWHFo"
      }
    },
    {
      "cell_type": "code",
      "execution_count": null,
      "metadata": {
        "colab": {
          "base_uri": "https://localhost:8080/"
        },
        "id": "7FdW16kGd-yI",
        "outputId": "b026e40d-9473-4336-acf9-f147545e8313"
      },
      "outputs": [
        {
          "output_type": "stream",
          "name": "stdout",
          "text": [
            "Mounted at /content/gdrive\n"
          ]
        }
      ],
      "source": [
        "import os\n",
        "from google.colab import drive\n",
        " \n",
        "MOUNTPOINT = \"/content/gdrive\"\n",
        "DATADIR = os.path.join(MOUNTPOINT, \"MyDrive\")\n",
        "drive.mount(MOUNTPOINT)\n",
        "# once the drive has been mounted the new route to the data folder is:\n",
        "\n",
        "url = \"/content/gdrive/MyDrive/Colab Notebooks/Datos\"\n",
        "fileToRead = \"file.txt\""
      ]
    },
    {
      "cell_type": "markdown",
      "source": [
        "[Mount_Drive](#cell-id)"
      ],
      "metadata": {
        "id": "8uA2ct1DWHkj"
      }
    },
    {
      "cell_type": "markdown",
      "metadata": {
        "id": "N5qy1RzhVa8_"
      },
      "source": [
        "## Part 8"
      ]
    },
    {
      "cell_type": "markdown",
      "metadata": {
        "id": "KEGWOwWbVNCo"
      },
      "source": [
        "## Part 9"
      ]
    },
    {
      "cell_type": "markdown",
      "metadata": {
        "id": "f6nlO3rA2yWH"
      },
      "source": [
        "## Part 10"
      ]
    },
    {
      "cell_type": "markdown",
      "source": [
        "## Part 11"
      ],
      "metadata": {
        "id": "1nERmQvIr-i9"
      }
    },
    {
      "cell_type": "markdown",
      "source": [
        "## Part 12"
      ],
      "metadata": {
        "id": "mAHxqL_gr-v5"
      }
    },
    {
      "cell_type": "markdown",
      "source": [
        "## Part 13"
      ],
      "metadata": {
        "id": "yUVoP6EYr-4B"
      }
    },
    {
      "cell_type": "markdown",
      "source": [
        "## Part 14"
      ],
      "metadata": {
        "id": "hKVhTtNzr-7R"
      }
    }
  ],
  "metadata": {
    "colab": {
      "collapsed_sections": [],
      "name": "Helsinki Java II in Python.ipynb",
      "provenance": [],
      "toc_visible": true,
      "mount_file_id": "1Rm-aj5IHQj9RM4NtF1qgIh-tfhLkbyF6",
      "authorship_tag": "ABX9TyNbsJzx8gqlnD907m8EEp4n",
      "include_colab_link": true
    },
    "kernelspec": {
      "display_name": "Python 3",
      "name": "python3"
    },
    "language_info": {
      "name": "python"
    }
  },
  "nbformat": 4,
  "nbformat_minor": 0
}