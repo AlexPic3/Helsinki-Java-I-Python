{
  "cells": [
    {
      "cell_type": "markdown",
      "metadata": {
        "id": "view-in-github",
        "colab_type": "text"
      },
      "source": [
        "<a href=\"https://colab.research.google.com/github/AlexPic3/Helsinki-Java-I-Python/blob/main/Helsinki_Java_I_in_Python.ipynb\" target=\"_parent\"><img src=\"https://colab.research.google.com/assets/colab-badge.svg\" alt=\"Open In Colab\"/></a>"
      ]
    },
    {
      "cell_type": "markdown",
      "metadata": {
        "id": "4LjiusiRwaZv"
      },
      "source": [
        "# [Helsinki](https://java-programming.mooc.fi/) Java I in Python\n"
      ]
    },
    {
      "cell_type": "markdown",
      "metadata": {
        "id": "N5qy1RzhVa8_"
      },
      "source": [
        "## Part 1"
      ]
    },
    {
      "cell_type": "markdown",
      "metadata": {
        "id": "KEGWOwWbVNCo"
      },
      "source": [
        "## Part 2"
      ]
    },
    {
      "cell_type": "code",
      "execution_count": null,
      "metadata": {
        "colab": {
          "base_uri": "https://localhost:8080/"
        },
        "id": "d4GaJsNBvD-X",
        "outputId": "7082987f-0898-4d73-9d6a-409e96de6ba3"
      },
      "outputs": [
        {
          "name": "stdout",
          "output_type": "stream",
          "text": [
            "Integer: 3\n",
            "The squared of the number  3  is  9\n",
            "The squared of the number 3 is 9\n"
          ]
        }
      ],
      "source": [
        "# Part02_01.Squared\n",
        "number = int(input(\"Integer: \"))\n",
        "squarered = number * number\n",
        "squa = pow(number,2)\n",
        "print(\"The squared of the number \",number,\" is \",squarered)\n",
        "print(f\"The squared of the number {number} is {squa}\")"
      ]
    },
    {
      "cell_type": "code",
      "execution_count": null,
      "metadata": {
        "colab": {
          "base_uri": "https://localhost:8080/"
        },
        "id": "RISgTJ86wtDw",
        "outputId": "d4854ac5-9e15-4b7a-ce9e-0603144fb630"
      },
      "outputs": [
        {
          "name": "stdout",
          "output_type": "stream",
          "text": [
            "Integer: 50\n",
            "The squared root of the number 50 is 7.0710678118654755\n"
          ]
        }
      ],
      "source": [
        "# Part02_02.SquareRootOfSum\n",
        "import math\n",
        "number = int(input(\"Integer: \"))\n",
        "sqroot = math.sqrt(number)\n",
        "print(f\"The squared root of the number {number} is {sqroot}\")"
      ]
    },
    {
      "cell_type": "code",
      "execution_count": null,
      "metadata": {
        "colab": {
          "base_uri": "https://localhost:8080/"
        },
        "id": "8ZuIzV4kwtBZ",
        "outputId": "345ccfb1-d1d2-4aa1-dd2a-a704da65b2fa"
      },
      "outputs": [
        {
          "name": "stdout",
          "output_type": "stream",
          "text": [
            "Integer: -5\n",
            "5\n"
          ]
        }
      ],
      "source": [
        "# Part02_03.AbsoluteValue\n",
        "number = int(input(\"Integer: \"))\n",
        "if number <0:\n",
        "    #print (number*(-1))\n",
        "    print (abs(number))\n",
        "else:\n",
        "    print (number)"
      ]
    },
    {
      "cell_type": "code",
      "execution_count": null,
      "metadata": {
        "colab": {
          "base_uri": "https://localhost:8080/"
        },
        "id": "TVIZKTaJws_C",
        "outputId": "f810de67-a973-44ed-9244-f0f3a5e10cb5"
      },
      "outputs": [
        {
          "name": "stdout",
          "output_type": "stream",
          "text": [
            "First number 5\n",
            "Second number 6\n",
            "5, is samller that ,6\n"
          ]
        }
      ],
      "source": [
        "# Part02_04.ComparingNumbers\n",
        "first = int(input(\"First number \"))\n",
        "second = int(input(\"Second number \"))\n",
        "if first > second:\n",
        "    print('{}, is greater that ,{}'.format(first, second))\n",
        "elif first < second:\n",
        "    print('{}, is samller that ,{}'.format(first, second))\n",
        "else:\n",
        "    print('{}, is equal to ,{}'.format(first, second))"
      ]
    },
    {
      "cell_type": "markdown",
      "metadata": {
        "id": "S5RND0V8Qymf"
      },
      "source": [
        "### Ending a Loop"
      ]
    },
    {
      "cell_type": "code",
      "execution_count": null,
      "metadata": {
        "colab": {
          "base_uri": "https://localhost:8080/"
        },
        "id": "vK6l4zznws8v",
        "outputId": "ec4c0634-ce75-459a-a19d-56f59abf80df"
      },
      "outputs": [
        {
          "name": "stdout",
          "output_type": "stream",
          "text": [
            "Shall we carry on? (no, Exit)jo\n",
            "Shall we carry on? (no, Exit)nk\n",
            "Shall we carry on? (no, Exit)no\n"
          ]
        }
      ],
      "source": [
        "# Part02_05.CarryOn\n",
        "\n",
        "while True:\n",
        "    variable = input(\"Shall we carry on? (no, Exit)\")\n",
        "    if variable == \"no\":\n",
        "        break"
      ]
    },
    {
      "cell_type": "code",
      "execution_count": null,
      "metadata": {
        "colab": {
          "base_uri": "https://localhost:8080/"
        },
        "id": "ixAfY049ws6Z",
        "outputId": "cb74cfb8-1182-4ec6-ee43-e36519bf4291"
      },
      "outputs": [
        {
          "name": "stdout",
          "output_type": "stream",
          "text": [
            "Give a number:5\n",
            "Give a number:9\n",
            "Give a number:4\n"
          ]
        }
      ],
      "source": [
        "# Part02_06.AreWeThereYet\n",
        "\n",
        "while True:\n",
        "  number = int(input(\"Give a number: \"))\n",
        "  if number == 4:\n",
        "    break"
      ]
    },
    {
      "cell_type": "markdown",
      "metadata": {
        "id": "mU0I0mMuFxLd"
      },
      "source": [
        "### Returning to the Start of the Loop"
      ]
    },
    {
      "cell_type": "code",
      "execution_count": null,
      "metadata": {
        "colab": {
          "base_uri": "https://localhost:8080/"
        },
        "id": "dGLzhNp0ws4P",
        "outputId": "15c4032d-67a6-4c46-a264-39f2ef22454b"
      },
      "outputs": [
        {
          "name": "stdout",
          "output_type": "stream",
          "text": [
            "Give a number: 2\n",
            "4\n",
            "Give a number: 5\n",
            "25\n",
            "Give a number: 0\n"
          ]
        }
      ],
      "source": [
        "# Part02_07.OnlyPositives\n",
        "# Write a program that asks the user for numbers. If the number is negative \n",
        "# (smaller than zero), the program prints for user \"Unsuitable number\" and asks\n",
        "# the user for a new number. If the number is zero, the program exits the loop.\n",
        "# If the number is positive, the program prints the number to the power of two.\n",
        "\n",
        "while True:\n",
        "  number = int(input(\"Give a number: \"))\n",
        "  if number < 0:\n",
        "    print (\"Unsuitable number: \")\n",
        "    continue\n",
        "  if number > 0:\n",
        "    print(number * number)\n",
        "  if number == 0:\n",
        "    break\n",
        "\n"
      ]
    },
    {
      "cell_type": "code",
      "execution_count": null,
      "metadata": {
        "colab": {
          "base_uri": "https://localhost:8080/"
        },
        "id": "xlUv2d40ZqGZ",
        "outputId": "d0799d24-fba7-47ac-bd77-255514509c37"
      },
      "outputs": [
        {
          "name": "stdout",
          "output_type": "stream",
          "text": [
            "Give a number: 2\n",
            "4\n",
            "Give a number: 4\n",
            "16\n",
            "Give a number: 0\n"
          ]
        }
      ],
      "source": [
        "while True:\n",
        "  number = int(input(\"Give a number: \"))\n",
        "  if number < 0:\n",
        "    print (\"Unsuitable number: \")\n",
        "    continue\n",
        "  if number == 0:\n",
        "    break  \n",
        "  print(number * number)\n",
        "  "
      ]
    },
    {
      "cell_type": "markdown",
      "metadata": {
        "id": "Mi7ZIgGudTs5"
      },
      "source": [
        "### Calculation with Loops"
      ]
    },
    {
      "cell_type": "code",
      "execution_count": null,
      "metadata": {
        "colab": {
          "base_uri": "https://localhost:8080/"
        },
        "id": "GVStoSZfws14",
        "outputId": "f26aba00-51e9-4821-bb4b-ccec02c09754"
      },
      "outputs": [
        {
          "name": "stdout",
          "output_type": "stream",
          "text": [
            "Give a number: 3\n",
            "3\n",
            "Give a number: 5\n",
            "5\n",
            "Give a number: 6\n",
            "6\n",
            "Give a number: 0\n",
            "Number of numbers: 3\n"
          ]
        }
      ],
      "source": [
        "# Part02_08.NumberOfNumbers\n",
        "# Write a program that reads values from the user until they input a 0.\n",
        "# After this, the program prints the total number of inputted values.\n",
        "# The zero that's used to exit the loop should not be included in the total\n",
        "# number count.\n",
        "\n",
        "numval = 0\n",
        "\n",
        "while True:\n",
        "  number = int(input(\"Give a number: \"))\n",
        "  if number == 0:\n",
        "    break\n",
        "  else:\n",
        "    print(number)\n",
        "    numval +=1\n",
        "\n",
        "print ('Number of numbers: {}'. format(numval))\n"
      ]
    },
    {
      "cell_type": "code",
      "execution_count": null,
      "metadata": {
        "colab": {
          "base_uri": "https://localhost:8080/"
        },
        "id": "OOqXfpe7wszP",
        "outputId": "842925c9-ca0c-4af7-fad8-ee50decab8c5"
      },
      "outputs": [
        {
          "name": "stdout",
          "output_type": "stream",
          "text": [
            "Give a number: 4\n",
            "Give a number: 5\n",
            "Give a number: -1\n",
            "Give a number: -4\n",
            "Give a number: 0\n",
            "Number of negative numbers: 2\n"
          ]
        }
      ],
      "source": [
        "# Part02_09.NumberOfNegativeNumbers\n",
        "# Write a program that reads values from the user until they input a 0.\n",
        "# After this, the program prints the total number of inputted values that\n",
        "# are negative. The zero that's used to exit the loop should not be included\n",
        "# in the total number count.\n",
        "\n",
        "NumberOfNegativeNumbers = 0\n",
        "\n",
        "while True:\n",
        "  num = int(input(\"Give a number: \"))\n",
        "  if num < 0:\n",
        "    NumberOfNegativeNumbers +=1\n",
        "  elif num > 0:\n",
        "    continue\n",
        "  else:\n",
        "    break\n",
        "\n",
        "print('Number of negative numbers: {}'.format(NumberOfNegativeNumbers))     \n",
        "\n",
        "\n",
        "\n"
      ]
    },
    {
      "cell_type": "code",
      "execution_count": null,
      "metadata": {
        "colab": {
          "base_uri": "https://localhost:8080/"
        },
        "id": "yJOgqOjDxG0L",
        "outputId": "c2fd43ff-ec19-4589-a4df-52a53f477263"
      },
      "outputs": [
        {
          "name": "stdout",
          "output_type": "stream",
          "text": [
            "Give a number:-5\n",
            "Give a number:4\n",
            "Give a number:-3\n",
            "Give a number:1\n",
            "Give a number:0\n",
            "Sum of the numbers: -3\n"
          ]
        }
      ],
      "source": [
        "# Part02_10.SumOfNumbers\n",
        "# Write a program that reads numbers from the user until the user inputs a\n",
        "# number 0. After this the program outputs the sum of the numbers. The number\n",
        "# zero does not need to be added to the sum, even if it does not change the\n",
        "# results.\n",
        "\n",
        "result = 0\n",
        "while True:\n",
        "  num = int(input(\"Give a number:\"))\n",
        "  if num == 0:\n",
        "    break\n",
        "  else:\n",
        "    result = result + num\n",
        "print(f\"Sum of the numbers: {result}\")"
      ]
    },
    {
      "cell_type": "code",
      "execution_count": null,
      "metadata": {
        "colab": {
          "base_uri": "https://localhost:8080/"
        },
        "id": "88gL76vrwsw5",
        "outputId": "0ae9db72-843b-43b2-f887-ba14e07052c2"
      },
      "outputs": [
        {
          "name": "stdout",
          "output_type": "stream",
          "text": [
            "Give a number: 5\n",
            "Give a number: 22\n",
            "Give a number: 9\n",
            "Give a number: -2\n",
            "Give a number: 0\n",
            "Number of numbers: 4\n",
            "Sum of the numbers: 34\n"
          ]
        }
      ],
      "source": [
        "# Part02_11.NumberAndSumOfNumbers\n",
        "# Write a program that asks the user for input until the user inputs 0.\n",
        "# After this the program prints the amount of numbers inputted and the sum\n",
        "# of the numbers. The number zero does not need to be added to the sum, but\n",
        "# adding it does not change the results.\n",
        "\n",
        "# You need two variables to keep track of the information. Use one for\n",
        "# keeping track of the numbers inputted and other for keeping track of\n",
        "# the sum.\n",
        "numNumber = 0\n",
        "sumNumber = 0\n",
        "while True:\n",
        "  num = int(input(\"Give a number: \"))\n",
        "  if num == 0:\n",
        "    break\n",
        "  else :\n",
        "    numNumber += 1\n",
        "    sumNumber = sumNumber + num\n",
        "print (f\"Number of numbers: {numNumber}\")    \n",
        "print (f\"Sum of the numbers: {sumNumber}\")  \n",
        "\n"
      ]
    },
    {
      "cell_type": "code",
      "execution_count": null,
      "metadata": {
        "colab": {
          "base_uri": "https://localhost:8080/"
        },
        "id": "ve4zdnhnwsuB",
        "outputId": "ac31e42d-8284-4bfa-80c3-d6fae7929d00"
      },
      "outputs": [
        {
          "name": "stdout",
          "output_type": "stream",
          "text": [
            "Give a number: 5\n",
            "Give a number: 22\n",
            "Give a number: 9\n",
            "Give a number: -2\n",
            "Give a number: 0\n",
            "Average of the numbers: 8.5\n"
          ]
        }
      ],
      "source": [
        "# Part02_12.AverageOfNumbers\n",
        "# Write a program that asks the user for input until the user inputs 0. After\n",
        "# this, the program prints the average of the numbers. The number zero does\n",
        "# not need to be counted to the average. You may assume that the user inputs\n",
        "# at least one number.\n",
        "\n",
        "# The average of the numbers can be calculated by dividing the sum of numbers\n",
        "# with the amount of the numbers.\n",
        "numOfNumbers = 0\n",
        "sumNumbers = 0\n",
        "\n",
        "while True:\n",
        "  num = int(input(\"Give a number: \"))\n",
        "  if num == 0:\n",
        "    break\n",
        "  else:\n",
        "    numOfNumbers +=1\n",
        "    sumNumbers = sumNumbers + num\n",
        "average = sumNumbers / numOfNumbers\n",
        "print (f\"Average of the numbers: {average}\")   \n"
      ]
    },
    {
      "cell_type": "code",
      "execution_count": null,
      "metadata": {
        "colab": {
          "base_uri": "https://localhost:8080/"
        },
        "id": "cFI4ezcwwsrn",
        "outputId": "d374e94c-0778-4213-ac18-daf94869582f"
      },
      "outputs": [
        {
          "name": "stdout",
          "output_type": "stream",
          "text": [
            "Give a number: 3\n",
            "Give a number: 5\n",
            "Give a number: 1\n",
            "Give a number: -3\n",
            "Give a number: 0\n",
            "The average of the positive numbers: 3.0\n"
          ]
        }
      ],
      "source": [
        "# Part02_13.AverageOfPositiveNumbers\n",
        "# Write a program that asks the user for input until the user inputs 0.\n",
        "# After this, the program prints the average of the positive numbers\n",
        "# (numbers that are greater than zero).\n",
        "# If no positive number is inputted, the program prints \"Cannot calculate the\n",
        "# average\"Write a program that asks the user for input until the user inputs 0. After this, the program prints the average of the positive numbers (numbers that are greater than zero).\n",
        "# If no positive number is inputted, the program prints \"Cannot calculate\n",
        "# the average\".\n",
        "\n",
        "sumPositiveNumbers = 0\n",
        "nunPositiveNumbers = 0\n",
        "\n",
        "while True:\n",
        "  num = int(input(\"Give a number: \"))\n",
        "  if num == 0:\n",
        "    break\n",
        "  elif num > 0:\n",
        "    sumPositiveNumbers += num\n",
        "    nunPositiveNumbers +=1\n",
        "  else:\n",
        "    continue  \n",
        "\n",
        "if sumPositiveNumbers <=0:\n",
        "  print(\"Cannot calculate the average\")\n",
        "else:\n",
        "  average = sumPositiveNumbers / nunPositiveNumbers\n",
        "  print(f\"The average of the positive numbers: {average}\")     \n",
        "\n"
      ]
    },
    {
      "cell_type": "markdown",
      "metadata": {
        "id": "6x2MXbNGU_HM"
      },
      "source": [
        "### More loops, For Loop\n",
        "* for (*introducing a variable* *condition*; *increasing the counter*) {\n",
        "    // Functionality to be executed\n",
        "}"
      ]
    },
    {
      "cell_type": "code",
      "execution_count": null,
      "metadata": {
        "id": "JuubiCkTwspP"
      },
      "outputs": [],
      "source": [
        "# Part02_14.Counting\n",
        "# Write a program that reads an integer from the user. Next, the program\n",
        "# prints numbers from 0 to the number given by the user. You can assume that\n",
        "# the user always gives a positive number. Below are some examples of the\n",
        "# expected functionality.\n",
        "\n",
        "num = int(input(\"Give a number: \"))\n",
        "ini = 0\n",
        "for x in range (0,num):\n",
        "  print(num)\n",
        "  num -=1\n",
        "\n"
      ]
    },
    {
      "cell_type": "code",
      "execution_count": null,
      "metadata": {
        "id": "q3M-HkwqcPyf"
      },
      "outputs": [],
      "source": [
        "num = int(input(\"Give a number: \"))\n",
        "ini = 0\n",
        "while ini <= num:\n",
        "  print (ini)\n",
        "  ini +=1"
      ]
    },
    {
      "cell_type": "code",
      "execution_count": null,
      "metadata": {
        "id": "x2CFgPiPwskH"
      },
      "outputs": [],
      "source": [
        "# Part02_15.CountingToHundred\n",
        "# Write a program, which reads an integer from the user. Then the program\n",
        "# prints numbers from that number to 100. You can assume that the user always\n",
        "# gives a number less than 100. Below are some examples of the expected\n",
        "# functionality.\n",
        "num = int(input(\"Give a number\"))\n",
        "for x in range (num , 101):\n",
        "  print(num)\n",
        "  num +=1\n"
      ]
    },
    {
      "cell_type": "code",
      "execution_count": null,
      "metadata": {
        "id": "J2wFfT0pwsXn"
      },
      "outputs": [],
      "source": [
        "# Part02_16.FromWhereToWhere\n",
        "# Write a program which prints the integers from 1 to a number given by\n",
        "# the user.\n",
        "# Ask the user for the starting point as well.\n",
        "\n",
        "inicio = int(input(\"Start point\"))\n",
        "final =int(input(\"End point\"))\n",
        "\n",
        "while inicio <= final:\n",
        "  print (inicio)\n",
        "  inicio +=1"
      ]
    },
    {
      "cell_type": "code",
      "execution_count": null,
      "metadata": {
        "id": "FMrBsIEnxTBY"
      },
      "outputs": [],
      "source": [
        "# Part02_17.SumOfASequence\n",
        "# Implement a program, which calculates the sum 1+2+3+...+n where n is\n",
        "# given as user input.\n",
        "\n",
        "num = int(input(\"Last number? \"))\n",
        "resultat = 0\n",
        "i = 0\n",
        "\n",
        "while i <= num:\n",
        "  resultat +=i\n",
        "  i+=1\n",
        "print (f\"The sum is {resultat}\")"
      ]
    },
    {
      "cell_type": "code",
      "execution_count": null,
      "metadata": {
        "id": "SaMMf4ATxS-n"
      },
      "outputs": [],
      "source": [
        "# Part02_18.SumOfASequenceTheSequel\n",
        "# Implement a program which calculates the sum of a closed interval,\n",
        "# and prints it. Expect the user to write the smaller number first and\n",
        "# then the larger number.\n",
        "\n",
        "# You can base your solution to this exercise to the solution of last\n",
        "# exercise — add the functionality for the user to enter the starting\n",
        "# point as well.\n",
        "\n",
        "first = int(input(\"First number? \"))\n",
        "second = int(input(\"Last number? \"))\n",
        "resultat =0\n",
        "while first <= second:\n",
        "  resultat += first\n",
        "  first +=1\n",
        "print(f\"The sum is: {resultat}\")  "
      ]
    },
    {
      "cell_type": "code",
      "execution_count": null,
      "metadata": {
        "colab": {
          "base_uri": "https://localhost:8080/"
        },
        "id": "GW-3z1pKxS8P",
        "outputId": "0835f203-cd6e-41f7-a8e1-a283018c595d"
      },
      "outputs": [
        {
          "name": "stdout",
          "output_type": "stream",
          "text": [
            "Give a number: 10\n",
            "Factorial: 3628800\n"
          ]
        }
      ],
      "source": [
        "# Part02_19.Factorial\n",
        "# Implement a program which calculates the factorial of a number given\n",
        "# by the user.\n",
        "# Factorial of n, denoted n!, is calculated as 1 * 2 * 3 * ... * n.\n",
        "# For example, the factorial of 4 is 24 or 4! = 1 * 2 * 3 * 4 = 24.\n",
        "# Additionally, it has been specified that the factorial of 0 is 1,\n",
        "# so 0! = 1.\n",
        "\n",
        "num = int(input(\"Give a number: \"))\n",
        "resultat = 1\n",
        "i = 1\n",
        "# if num = 0:\n",
        "#   print(\"Factorial: 1\")\n",
        "while i <= num:\n",
        "  resultat = resultat * i\n",
        "  i +=1\n",
        "print(f\"Factorial: {resultat}\")"
      ]
    },
    {
      "cell_type": "markdown",
      "metadata": {
        "id": "EyvOjoyn5BP6"
      },
      "source": [
        "Additional info: Factorials are used especially in probability calculus when examining different possible orders of a set. For example, a group of five people can form 5! different lines, and a pack of 52 cards can be in 52! different orders. Factorial can also be used to calculate combinations; For example it is possible to deal 52! / (5! * (52-5)!) different hands from a 52 card pack, and you can form 40! / (7! * (40 - 7)!) different 7 number lottery lines from 40 numbers."
      ]
    },
    {
      "cell_type": "code",
      "execution_count": null,
      "metadata": {
        "id": "-BNn4zOKxS5n"
      },
      "outputs": [],
      "source": [
        "# Part02_20.RepeatingBreakingAndRemembering\n",
        "# Reading\n",
        "# Implement a program that asks the user for numbers (the program first\n",
        "# prints \"Write numbers: \") until the user gives the number -1. When the\n",
        "# user writes -1, the program prints \"Thx! Bye!\" and ends.\n",
        "print(\"Give numbers: \")\n",
        "sum = 0\n",
        "i =0\n",
        "average =0\n",
        "even = 0\n",
        "odd = 0\n",
        "\n",
        "while True:\n",
        "  num = int(input())\n",
        "  if num == -1:\n",
        "    print(\"Thx! Bye!\")\n",
        "    break\n",
        "  if num != -1:\n",
        "    sum = sum + num\n",
        "    i+=1\n",
        "    average =sum / i\n",
        "  if num % 2 == 0:\n",
        "    even +=1\n",
        "  else:\n",
        "    odd +=1   \n",
        "\n",
        "\n",
        "print(f\"Sum: {sum}\")\n",
        "print(f\"Numbers: {i}\")\n",
        "print(f\"Average: {average}\")\n",
        "print(f\"Evan: {even}\") \n",
        "print(f\"Odd: {odd}\")  "
      ]
    },
    {
      "cell_type": "markdown",
      "metadata": {
        "id": "bj6-Xq2QDpIn"
      },
      "source": [
        "### Methods and dividing the program into smaller parts"
      ]
    },
    {
      "cell_type": "code",
      "execution_count": null,
      "metadata": {
        "colab": {
          "base_uri": "https://localhost:8080/"
        },
        "id": "b85-Q2XexS3f",
        "outputId": "39324382-af10-420b-ad92-5f7fb4bb0fc0"
      },
      "outputs": [
        {
          "name": "stdout",
          "output_type": "stream",
          "text": [
            "In a hole in the ground there lived a method\n"
          ]
        }
      ],
      "source": [
        "# Part02_21.InAHoleInTheGround\n",
        "def printText():\n",
        "  print (\"In a hole in the ground there lived a method\")\n",
        "\n",
        "printText()"
      ]
    },
    {
      "cell_type": "code",
      "execution_count": null,
      "metadata": {
        "colab": {
          "base_uri": "https://localhost:8080/"
        },
        "id": "2D1aMp7rxS1W",
        "outputId": "45da262e-7fd0-4367-98c5-a7495dc5dca7"
      },
      "outputs": [
        {
          "name": "stdout",
          "output_type": "stream",
          "text": [
            "How many times?4\n",
            "In a hole in the ground there lived a method\n",
            "In a hole in the ground there lived a method\n",
            "In a hole in the ground there lived a method\n",
            "In a hole in the ground there lived a method\n"
          ]
        }
      ],
      "source": [
        "# Part02_22.Reprint\n",
        "def printText():\n",
        "  print (\"In a hole in the ground there lived a method\")\n",
        "  \n",
        "i=0\n",
        "num = int(input(\"How many times?\"))  \n",
        "while i<num:\n",
        "  printText()\n",
        "  i+=1\n",
        "\n",
        "\n"
      ]
    },
    {
      "cell_type": "code",
      "execution_count": null,
      "metadata": {
        "colab": {
          "base_uri": "https://localhost:8080/"
        },
        "id": "PGwbIV6TxSy3",
        "outputId": "758c1e7c-504d-4cb0-bc51-da9a748a9dd8"
      },
      "outputs": [
        {
          "name": "stdout",
          "output_type": "stream",
          "text": [
            "How many times?3\n",
            "In a hole in the ground there lived a method\n",
            "In a hole in the ground there lived a method\n",
            "In a hole in the ground there lived a method\n"
          ]
        }
      ],
      "source": [
        "# Part02_23.FromOneToParameter\n",
        "def printText(num):\n",
        "  i=1\n",
        "  while i<=num:\n",
        "    i+=1\n",
        "    print (\"In a hole in the ground there lived a method\")\n",
        "  \n",
        "num = int(input(\"How many times?\"))  \n",
        "printText(num)"
      ]
    },
    {
      "cell_type": "code",
      "execution_count": null,
      "metadata": {
        "colab": {
          "base_uri": "https://localhost:8080/"
        },
        "id": "-miungwmxSwe",
        "outputId": "1b3a3235-bd8f-4ac0-f79c-9d46d89a8ab8"
      },
      "outputs": [
        {
          "name": "stdout",
          "output_type": "stream",
          "text": [
            "5\n",
            "4\n",
            "3\n",
            "2\n",
            "1\n"
          ]
        }
      ],
      "source": [
        "# Part02_24.FromParameterToOne\n",
        "# Create the following method in the exercise template: public static void\n",
        "# printUntilNumber(int number). It should print the numbers from one to the\n",
        "# number passed as a parameter. Two examples of the method's usage are given\n",
        "# below.\n",
        "def printFromNumberToOne(number):\n",
        "  while number>0:\n",
        "    print(number)\n",
        "    number -=1\n",
        "printFromNumberToOne(5)\n"
      ]
    },
    {
      "cell_type": "markdown",
      "metadata": {
        "id": "GqCDW5_PmEAM"
      },
      "source": [
        "### Multiple Parameters"
      ]
    },
    {
      "cell_type": "code",
      "execution_count": null,
      "metadata": {
        "colab": {
          "base_uri": "https://localhost:8080/"
        },
        "id": "qJm2WuOyxSt3",
        "outputId": "28983a6f-c850-4902-f8cb-db813bdad6f1"
      },
      "outputs": [
        {
          "name": "stdout",
          "output_type": "stream",
          "text": [
            "0.6\n"
          ]
        }
      ],
      "source": [
        "# Part02_25.Division\n",
        "# Write a method public static void division(int numerator, int denominator)\n",
        "# that prints the result of the division of the numerator by the denominator.\n",
        "# Keep in mind that the result of the division of the integers is an\n",
        "# integer — in this case we want the result to be a floating point number.\n",
        "def division(numerator, denominator):\n",
        "  division = numerator/denominator\n",
        "  print(division)\n",
        "\n",
        "division (3,5)\n"
      ]
    },
    {
      "cell_type": "code",
      "execution_count": null,
      "metadata": {
        "id": "1_QvCN0qxSrf"
      },
      "outputs": [],
      "source": [
        "# Part02_26.DivisibleByThree\n",
        "# Write a method public static void divisibleByThreeInRange(int beginning, int end)\n",
        "# that prints all the numbers divisible by three in the given range. The\n",
        "# numbers are to be printed in order from the smallest to the greatest.\n",
        "\n",
        "def divisibleByThreeInRange(begining, end):\n",
        "  while begining <= end:\n",
        "    if begining % 3 == 0:\n",
        "      print(begining) \n",
        "    begining +=1\n",
        "\n",
        "divisibleByThreeInRange(3,28)\n"
      ]
    },
    {
      "cell_type": "markdown",
      "metadata": {
        "id": "T_UD-CVVrX6d"
      },
      "source": [
        "### Parameter Values Are Copied in a Method Call"
      ]
    },
    {
      "cell_type": "markdown",
      "metadata": {
        "id": "4cLWB1Wfw2zs"
      },
      "source": [
        "### Methods Can Return Values"
      ]
    },
    {
      "cell_type": "code",
      "execution_count": null,
      "metadata": {
        "colab": {
          "base_uri": "https://localhost:8080/"
        },
        "id": "lCNEIFKMxSo_",
        "outputId": "40706d73-16e2-46ce-cf33-d4a1d5463675"
      },
      "outputs": [
        {
          "name": "stdout",
          "output_type": "stream",
          "text": [
            "1\n"
          ]
        }
      ],
      "source": [
        "# Part02_27.NumberUno\n",
        "def numberUno():\n",
        "  return 1\n",
        "print(numberUno())  "
      ]
    },
    {
      "cell_type": "code",
      "execution_count": null,
      "metadata": {
        "colab": {
          "base_uri": "https://localhost:8080/"
        },
        "id": "RaCjrfCPxSkf",
        "outputId": "d9bf0bdd-40e4-43ff-c09d-ee64ce297cb9"
      },
      "outputs": [
        {
          "name": "stdout",
          "output_type": "stream",
          "text": [
            "Hola\n"
          ]
        }
      ],
      "source": [
        "# Part02_28.Word\n",
        "def word():\n",
        "  return \"Hola\"\n",
        "\n",
        "print(word())  "
      ]
    },
    {
      "cell_type": "markdown",
      "metadata": {
        "id": "7xT7g-tfw-Qv"
      },
      "source": [
        "### Defining Variables Inside Methods"
      ]
    },
    {
      "cell_type": "markdown",
      "metadata": {
        "id": "_9e4Cyk3xHPs"
      },
      "source": [
        "### Calculating the Return Value Inside a Method"
      ]
    },
    {
      "cell_type": "code",
      "execution_count": null,
      "metadata": {
        "colab": {
          "base_uri": "https://localhost:8080/"
        },
        "id": "KNLNNJvRxShf",
        "outputId": "139416ec-18fa-4657-f92d-93b845b1658f"
      },
      "outputs": [
        {
          "name": "stdout",
          "output_type": "stream",
          "text": [
            "Sum is 14\n"
          ]
        }
      ],
      "source": [
        "# Part02_29.Summation\n",
        "# Expand the method sum in the exercise template so that it calculates and\n",
        "# returns the sum of the numbers that are given as the parameters.\n",
        "def sum (num1,num2,num3,num4):\n",
        "  return num1+num2+num3+num4\n",
        "print(f\"Sum is {sum(4,3,6,1)}\") "
      ]
    },
    {
      "cell_type": "code",
      "execution_count": null,
      "metadata": {
        "id": "6C54GzGExkBP"
      },
      "outputs": [],
      "source": [
        "# Part02_30.Smallest\n",
        "def smallest(num1,num2):\n",
        "  if num1 < num2:\n",
        "    return num1\n",
        "  else:\n",
        "    return num2\n",
        "\n",
        "print(f\"Smallest is {smallest(28,7)}\")      \n"
      ]
    },
    {
      "cell_type": "code",
      "execution_count": null,
      "metadata": {
        "colab": {
          "base_uri": "https://localhost:8080/"
        },
        "id": "UjrNLXfZxj9H",
        "outputId": "4e450634-c91f-4535-b10a-043ee092a889"
      },
      "outputs": [
        {
          "name": "stdout",
          "output_type": "stream",
          "text": [
            "Greatest 28\n"
          ]
        }
      ],
      "source": [
        "# Part02_31.Greatest\n",
        "# Define a method called greatest that takes three numbers and returns the\n",
        "# greatest of them. If there are multiple greatest values, returning one of\n",
        "# them is enough. Printing will take place in the main program.\n",
        "\n",
        "def greatest(num1,num2,num3):\n",
        "  if num1 > num2 and num1 > num3:\n",
        "    return num1\n",
        "  elif num2 > num1 and num2 > num3:\n",
        "    return num2\n",
        "  else:\n",
        "    return num3\n",
        "\n",
        "print(f\"Greatest {greatest(28,7,3)}\")"
      ]
    },
    {
      "cell_type": "code",
      "execution_count": null,
      "metadata": {
        "colab": {
          "base_uri": "https://localhost:8080/"
        },
        "id": "n-vxuPrlxj7B",
        "outputId": "42270657-afef-452f-f77f-2a77ea5a3443"
      },
      "outputs": [
        {
          "name": "stdout",
          "output_type": "stream",
          "text": [
            "Average: 3.5\n"
          ]
        }
      ],
      "source": [
        "# Part02_32.Averaging\n",
        "# Create a method called average that calculates the average of the numbers\n",
        "# passed as parameters. The previously created method sum must be used inside\n",
        "# this method!\n",
        "def sum(num1,num2,num3,num4):\n",
        "  sum = num1+num2+num3+num4\n",
        "  return sum\n",
        "  \n",
        "def average(num1,num2,num3,num4):\n",
        "  average = (sum(num1,num2,num3,num4))/4\n",
        "  return average\n",
        "\n",
        "average = average(4,3,6,1)\n",
        "print(f\"Average: {average}\")  \n"
      ]
    },
    {
      "cell_type": "markdown",
      "metadata": {
        "id": "nKZZpxoKxOGq"
      },
      "source": [
        "### Execution of Method Calls and the Call Stack\n",
        "How does the computer remember where to return after the execution of a method?\n",
        "\n",
        "The environment that executes Java source code keeps track of the method being executed in the call stack. **The call stack** contains frames, each of which includes information about a specific method's internal variables and their values. When a method is called, a new frame containing its variables is created in the call stack. When the execution of a method ends, the frame relating to a method is removed from the call stack, which leads to execution resuming at the previous method of the stack."
      ]
    },
    {
      "cell_type": "markdown",
      "metadata": {
        "id": "-u1ptk_mxZFw"
      },
      "source": [
        "### Call Stack and Method Parameters"
      ]
    },
    {
      "cell_type": "markdown",
      "metadata": {
        "id": "WcvG5XOixcb9"
      },
      "source": [
        "### Call Stack and Returning a Value from a Method"
      ]
    },
    {
      "cell_type": "markdown",
      "metadata": {
        "id": "3etjVWg-xfs4"
      },
      "source": [
        "### Method Calling Another Method"
      ]
    },
    {
      "cell_type": "code",
      "execution_count": null,
      "metadata": {
        "colab": {
          "base_uri": "https://localhost:8080/"
        },
        "id": "AXneIDV5xj4b",
        "outputId": "aa4a8e8e-c888-445f-b55d-aecc710f3de3"
      },
      "outputs": [
        {
          "name": "stdout",
          "output_type": "stream",
          "text": [
            "***\n",
            "-----\n",
            "****\n",
            "****\n",
            "****\n",
            "****\n",
            "-----\n",
            "*****************\n",
            "*****************\n",
            "*****************\n",
            "*****************\n",
            "-----\n",
            "*\n",
            "**\n",
            "***\n",
            "****\n",
            "-----\n"
          ]
        }
      ],
      "source": [
        "# Part02_33.StarSign\n",
        "\n",
        "def printStarts (num):\n",
        "  i = 1\n",
        "  while i<=num:\n",
        "    print(\"*\" , end=\"\")\n",
        "    i +=1\n",
        "\n",
        "\n",
        "printStarts(3)\n",
        "print(\"\\n-----\")\n",
        "\n",
        "def printSquare (size):\n",
        "  row = 1\n",
        "  while row <= size:\n",
        "    printStarts(size)\n",
        "    print(\"\")\n",
        "    row +=1\n",
        "\n",
        "printSquare(4)   \n",
        "print(\"-----\")\n",
        "\n",
        "def printRectangle(width,height):\n",
        "  row = 1\n",
        "  while row <= height:\n",
        "    printStarts(width)\n",
        "    print(\"\")\n",
        "    row +=1\n",
        "\n",
        "printRectangle(17, 4)\n",
        "print(\"-----\")\n",
        "\n",
        "def printTriangle(size):\n",
        "  row =1\n",
        "  while row<= size:\n",
        "    printStarts(row)\n",
        "    print(\"\")\n",
        "    row +=1\n",
        "\n",
        "\n",
        "printTriangle(4)\n",
        "print(\"-----\")"
      ]
    },
    {
      "cell_type": "code",
      "execution_count": null,
      "metadata": {
        "colab": {
          "base_uri": "https://localhost:8080/"
        },
        "id": "eEn287YMxj2X",
        "outputId": "44654f72-bc73-4075-c040-0b633e1eb05b"
      },
      "outputs": [
        {
          "name": "stdout",
          "output_type": "stream",
          "text": [
            "***\n",
            "----\n",
            "     \n",
            "----\n",
            "   *\n",
            "  **\n",
            " ***\n",
            "****\n",
            "\n",
            "----\n",
            "         *\n",
            "        ***\n",
            "       *****\n",
            "      *******\n",
            "     *********\n",
            "    ***********\n",
            "   *************\n",
            "  ***************\n",
            " *****************\n",
            "*******************\n",
            "        ***\n",
            "        ***\n"
          ]
        }
      ],
      "source": [
        "# Part02_34.AdvancedAstrology\n",
        "def printStarts (num):\n",
        "  i = 1\n",
        "  while i<=num:\n",
        "    print(\"*\" , end=\"\")\n",
        "    i +=1\n",
        "\n",
        "printStarts(3)\n",
        "print(\"\\n----\")\n",
        "\n",
        "def printSpaces(number):\n",
        "    i = 1\n",
        "    while i<=number:\n",
        "      print(\" \",end=\"\")\n",
        "      i +=1\n",
        "\n",
        "printSpaces(5)\n",
        "print(\"\\n----\")\n",
        "\n",
        "def printTriangle(size):\n",
        "  row = 1\n",
        "  while row <= size:\n",
        "    printSpaces(size-row)\n",
        "    printStarts(row)\n",
        "    print(\"\")\n",
        "    row +=1\n",
        "\n",
        "printTriangle(4)\n",
        "print(\"\\n----\")\n",
        "\n",
        "\n",
        "def christmasTree(height):\n",
        "  row = 1\n",
        "  base = 1\n",
        "  while row <= height:\n",
        "    printSpaces(height-row)\n",
        "    printStarts(row)\n",
        "    printStarts(row-1)\n",
        "    print(\"\")\n",
        "    row +=1\n",
        "  while base <=2:\n",
        "    printSpaces(height-2)\n",
        "    printStarts(3)\n",
        "    print(\"\")\n",
        "    base +=1\n",
        "\n",
        "christmasTree(10)\n"
      ]
    },
    {
      "cell_type": "markdown",
      "metadata": {
        "id": "_G3Op9BZjAgt"
      },
      "source": [
        "## Part 3"
      ]
    },
    {
      "cell_type": "markdown",
      "metadata": {
        "id": "qrc37un4jHhl"
      },
      "source": [
        "The main themes in the third part of the course are adding information to list and array data structures, and handling information in string form."
      ]
    },
    {
      "cell_type": "markdown",
      "metadata": {
        "id": "XN71czt5luHz"
      },
      "source": [
        "* Com crear un usuari amb totes els camps de dades al mateix temps sense tenor que introduir-les de forma manual cada vegada que volem fer un test d algun objecte o funcio(Metode). En la imatge inferior es veu un exemple de codi amb Java.\n"
      ]
    },
    {
      "cell_type": "markdown",
      "metadata": {
        "id": "C7bUIMRKnJwL"
      },
      "source": [
        "![fakeUsersMultipleInputsSameTime.PNG](data:image/png;base64,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)"
      ]
    },
    {
      "cell_type": "markdown",
      "metadata": {
        "id": "PuhjR7mbqOpx"
      },
      "source": [
        "![CreateUserMetodObject.PNG](data:image/png;base64,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)"
      ]
    },
    {
      "cell_type": "code",
      "execution_count": null,
      "metadata": {
        "colab": {
          "base_uri": "https://localhost:8080/"
        },
        "id": "zhi1ZPT6IFi-",
        "outputId": "5a353a0e-bb59-4379-baba-e6e858694dc4"
      },
      "outputs": [
        {
          "name": "stdout",
          "output_type": "stream",
          "text": [
            "{'Employee': {'Dave': {'ID': '001', 'Salary': '2000.00', 'Designation': 'Team Leader'}, 'Victoria': {'ID': '002', 'Salary': '3500.00', 'Designation': 'Manager'}}}\n",
            "{'name': 'Alex', 'surname': 'Jhones', 'age': '12', 'number': '12234123412341234', 'amount': '500.00', 'tipus': 'Visa'}\n",
            "Alex\n",
            "Alex\n",
            "-------------\n",
            "Alex\n",
            "Maria\n",
            "Tom\n",
            "Karla\n",
            "Salvador\n"
          ]
        }
      ],
      "source": [
        "# Creacio automatica de una llita fent servir una variable de amb varis inputs\n",
        "fakeData=dict(name='Alex', surname='Jhones', age='12', number='12234123412341234', amount='500.00', tipus='Visa')\n",
        "fakeDataScrip = f\"Alex\\nMaria\\nTom\\nKarla\\nSalvador\"\n",
        "fakeDataDictAnidat ={'Employee':{'Dave':{'ID':'001','Salary': '2000.00','Designation':'Team Leader'},\n",
        "                                'Victoria':{'ID':'002','Salary': '3500.00','Designation':'Manager'}}}\n",
        "llista=[]\n",
        "print(fakeDataDictAnidat)\n",
        "print(fakeData)\n",
        "print(fakeData.get('name'))\n",
        "print(fakeData['name'])\n",
        "print(\"-------------\")\n",
        "print(fakeDataScrip)\n"
      ]
    },
    {
      "cell_type": "code",
      "execution_count": null,
      "metadata": {
        "id": "Y3Jt-Z-rWNpR"
      },
      "outputs": [],
      "source": [
        "def CreateUser():\n",
        "  name = input('Name?: ')\n",
        "  surname = input('Surname?: ')\n",
        "  age = input('Age?: ')\n",
        "  number = input('Number?: ')\n",
        "  amount = input('Amount?: ')\n",
        "  tipus = input('Tipus?: ')\n",
        "  User = dict(name = name, surname = surname, age = age, number = number, amount = amount, tipus = tipus)\n",
        "  print(User)\n"
      ]
    },
    {
      "cell_type": "code",
      "execution_count": null,
      "metadata": {
        "id": "tanu44yvjIFN"
      },
      "outputs": [],
      "source": [
        "# List\n",
        "# Tuplas\n",
        "# Sets\n",
        "# Diccionaris\n"
      ]
    },
    {
      "cell_type": "code",
      "execution_count": null,
      "metadata": {
        "id": "EMs4q4KXjIYV"
      },
      "outputs": [],
      "source": [
        "lista = []\n",
        "lista.append(\"Alex\")\n",
        "lista.append(\"Tom\")\n",
        "lista.append(\"Sara\")\n",
        "lista.append(\"Maria\")\n",
        "print(lista.pop(3))\n",
        "print(lista.count(\"Tom\"))\n",
        "print(lista)"
      ]
    },
    {
      "cell_type": "code",
      "execution_count": null,
      "metadata": {
        "id": "-7D1FHi2Phot"
      },
      "outputs": [],
      "source": [
        "llista =[]\n",
        "while True:\n",
        "  nom = input(\"Introdueix nom a la llista o 0 per sortir: \")\n",
        "  if nom == \"0\":\n",
        "    break\n",
        "  else:\n",
        "    llista.append(nom)\n",
        "print(llista)\n",
        "print(len(llista))    "
      ]
    },
    {
      "cell_type": "code",
      "execution_count": null,
      "metadata": {
        "id": "dDEcQxE_R-LT"
      },
      "outputs": [],
      "source": [
        "tupla=()\n",
        "while True:\n",
        "  nom = input(\"Introdueix nom a la llista o 0 per sortir: \")\n",
        "  if nom == \"0\":\n",
        "    break\n",
        "  else:\n",
        "    tupla.append(nom)\n",
        "print(tupla)"
      ]
    },
    {
      "cell_type": "code",
      "execution_count": null,
      "metadata": {
        "id": "j4KXgt4iSjOL"
      },
      "outputs": [],
      "source": [
        "sets={}\n",
        "while True:\n",
        "  nom = input(\"Introdueix nom a la llista o 0 per sortir: \")\n",
        "  if nom == \"0\":\n",
        "    break\n",
        "  else:\n",
        "    sets.(nom)\n",
        "print(sets)"
      ]
    },
    {
      "cell_type": "code",
      "execution_count": null,
      "metadata": {
        "id": "i0-2UOzkTPU0"
      },
      "outputs": [],
      "source": [
        "thisset = {\"apple\", \"banana\", \"cherry\"}\n",
        "\n",
        "thisset.add(\"orange\")\n",
        "\n",
        "print(thisset)\n"
      ]
    },
    {
      "cell_type": "code",
      "execution_count": null,
      "metadata": {
        "id": "e1MrbxMoTonG"
      },
      "outputs": [],
      "source": [
        "thisdict = {\n",
        "  \"brand\": \"Ford\",\n",
        "  \"model\": \"Mustang\",\n",
        "  \"year\": 1964\n",
        "}\n",
        "thisdict.update({\"color\": \"red\"})"
      ]
    },
    {
      "cell_type": "markdown",
      "metadata": {
        "id": "JD8fc_TSlSZE"
      },
      "source": [
        "### Lists"
      ]
    },
    {
      "cell_type": "markdown",
      "metadata": {
        "id": "lv5U68zgaNow"
      },
      "source": [
        "#### Using and Creating Lists"
      ]
    },
    {
      "cell_type": "markdown",
      "metadata": {
        "id": "Fz7oS3HSaNb9"
      },
      "source": [
        "#### Defining the Type of Values That a List Can Contain"
      ]
    },
    {
      "cell_type": "markdown",
      "metadata": {
        "id": "vFgYDUKIaNSF"
      },
      "source": [
        "#### Adding to a List and Retrieving a Value from a Specific Place"
      ]
    },
    {
      "cell_type": "markdown",
      "metadata": {
        "id": "zt7xMVAqaM7t"
      },
      "source": [
        "#### Retrieving Information from a \"Non-Existent\" Place"
      ]
    },
    {
      "cell_type": "markdown",
      "metadata": {
        "id": "GQ3o-XdqabQU"
      },
      "source": [
        "#### Iterating Over a List"
      ]
    },
    {
      "cell_type": "code",
      "execution_count": null,
      "metadata": {
        "id": "o_jEKrsqWcr7"
      },
      "outputs": [],
      "source": [
        "# Part03_04.ListSize\n",
        "llista =[]\n",
        "while True:\n",
        "  nom = input(\"Introdueix nom a la llista o 'Intro' per sortir: \")\n",
        "  if nom == \"\":\n",
        "    break\n",
        "  else:\n",
        "    llista.append(nom)\n",
        "print(llista)\n",
        "#print(f\"El numero de items dins de la llista es de: {len(llista)} itemsef\")\n",
        "\n",
        "#for i in llista:\n",
        "#  print(i)"
      ]
    },
    {
      "cell_type": "markdown",
      "metadata": {
        "id": "zukGGyfqZuW0"
      },
      "source": [
        "#### Iterating Over a List Continued"
      ]
    },
    {
      "cell_type": "code",
      "execution_count": null,
      "metadata": {
        "id": "ST12D7pBYUOw"
      },
      "outputs": [],
      "source": [
        "# Part03_05.LastInList\n",
        "llista =[]\n",
        "while True:\n",
        "  nom = input(\"Introdueix nom a la llista o 'Intro' per sortir: \")\n",
        "  if nom == \"\":\n",
        "    break\n",
        "  else:\n",
        "    llista.append(nom)\n",
        "lastValue = len(llista)-1    \n",
        "print(llista[lastValue])"
      ]
    },
    {
      "cell_type": "code",
      "execution_count": null,
      "metadata": {
        "id": "b7e2CnBnYULj"
      },
      "outputs": [],
      "source": [
        "# Part03_06.FirstAndLast\n",
        "llista =[]\n",
        "while True:\n",
        "  nom = input(\"Introdueix nom a la llista o 'Intro' per sortir: \")\n",
        "  if nom == \"\":\n",
        "    break\n",
        "  else:\n",
        "    llista.append(nom)\n",
        "lastValue = len(llista)-1 \n",
        "print(llista[0])  \n",
        "print(llista[lastValue])"
      ]
    },
    {
      "cell_type": "code",
      "execution_count": null,
      "metadata": {
        "id": "NFVjC0JZYUFS"
      },
      "outputs": [],
      "source": [
        "# Part03_07.RememberTheseNumbers\n",
        "\n",
        "llista =[]\n",
        "while True:\n",
        "  nom = input(\"Introdueix nom a la llista o 'Intro' per sortir: \")\n",
        "  if nom == \"\":\n",
        "    break\n",
        "  else:\n",
        "    llista.append(nom)\n",
        " \n",
        "print(llista)\n",
        "print('---------')\n",
        "\n",
        "i = 0\n",
        "while i < len(llista):\n",
        "  print (llista[i])\n",
        "  i +=1\n",
        "\n",
        "print('---------')\n",
        "ii = 0\n",
        "for ii in range(len(llista)):\n",
        "  print(llista[ii])\n",
        "  ii +=1\n",
        "\n",
        "print('---------')  \n",
        "for iii in llista:\n",
        "  print(iii) \n",
        "\n",
        "print('list comprehension---------')\n",
        "\n",
        "[print(x) for x in llista] \n",
        "\n",
        "print('Loop reverso---------')\n",
        "\n",
        "lastIndex = len(llista)-1\n",
        "while lastIndex >= 0:\n",
        "  print(llista[lastIndex])\n",
        "  lastIndex -=1\n",
        "\n",
        "\n",
        "print (\"Range ----\")\n",
        "print (range(len(llista)))\n"
      ]
    },
    {
      "cell_type": "code",
      "execution_count": null,
      "metadata": {
        "id": "CP_JYW19YUDW"
      },
      "outputs": [],
      "source": [
        "# Part03_08.OnlyTheseNumbers\n",
        "\n",
        "llista =[]\n",
        "while True:\n",
        "  nom = input(\"Introdueix nom a la llista o 'Intro' per sortir: \")\n",
        "  if nom == \"\":\n",
        "    break\n",
        "  else:\n",
        "    llista.append(nom)\n",
        "start = int(input(\"From where?\"))\n",
        "end = int(input(\"To where?\")) \n",
        "\n",
        "# v[i for i in llista if start <= end]\n",
        "for i in range(start,end+1):\n",
        "  print(llista[i])\n",
        "\n",
        "while start<=end:\n",
        "  print(llista[start])\n",
        "  start+=1d"
      ]
    },
    {
      "cell_type": "code",
      "execution_count": null,
      "metadata": {
        "id": "2YIFNhJYYUA-"
      },
      "outputs": [],
      "source": [
        "# Part03_09.GreatestInList and smallest\n",
        "llista1 = []\n",
        "while True:\n",
        "  num = int(input('Numero?: '))\n",
        "  if num == -1:\n",
        "    break\n",
        "  llista1.append(num)\n",
        "print(llista1)\n",
        "#llista1Sort = llista1.sort()\n",
        "#print(llista1Sort)\n",
        "greatest = llista1[0]\n",
        "for numero in llista1:\n",
        "  if greatest < numero:\n",
        "    greatest = numero\n",
        "print(f\"The greatest number using for loop: {greatest}\")\n",
        "\n",
        "smallest = llista1[0]\n",
        "i=0\n",
        "while i < len(llista1):\n",
        "  if smallest > llista1[i]:\n",
        "    smallest = llista1[i]\n",
        "  i +=1  \n",
        "print(f\"The smallest number using while loop: {smallest}\")\n",
        "  "
      ]
    },
    {
      "cell_type": "code",
      "execution_count": null,
      "metadata": {
        "id": "YvkdFf8bYT-i"
      },
      "outputs": [],
      "source": [
        "# Part03_10.IndexOf\n",
        "llista03_10 = []\n",
        "while True:\n",
        "  num = int(input())\n",
        "  if num == -1:\n",
        "    break\n",
        "  llista03_10.append(num)\n",
        "search = int(input(\"Search for? \"))\n",
        "i = 0\n",
        "for i in range(len(llista03_10)):\n",
        "  if llista03_10[i] == search:\n",
        "    print(f\"{search} is at index {i}\")"
      ]
    },
    {
      "cell_type": "code",
      "execution_count": null,
      "metadata": {
        "colab": {
          "base_uri": "https://localhost:8080/"
        },
        "id": "PWU6a6xmYT8U",
        "outputId": "6b6609bb-2ca3-4d82-a2ad-6aa08b51a03e"
      },
      "outputs": [
        {
          "name": "stdout",
          "output_type": "stream",
          "text": [
            "75\n",
            "44\n",
            "8\n",
            "8\n",
            "11\n",
            "9999\n",
            "Smallest number: 8\n",
            "Found at index: 2\n",
            "Found at index: 3\n"
          ]
        }
      ],
      "source": [
        "# Part03_11.IndexOfSmallest\n",
        "\n",
        "llista03_11 = []\n",
        "while True:\n",
        "  num = int(input())\n",
        "  if num == 9999:\n",
        "    break\n",
        "  llista03_11.append(num)\n",
        "\n",
        "smallest = llista03_11[0]\n",
        "for num in llista03_11:\n",
        "  if smallest > num:\n",
        "    smallest = num\n",
        "print(f\"Smallest number: {smallest}\")\n",
        "\n",
        "for i in range(len(llista03_11)):\n",
        "  if smallest == llista03_11[i]:\n",
        "    print(f\"Found at index: {i}\")\n",
        "    "
      ]
    },
    {
      "cell_type": "markdown",
      "metadata": {
        "id": "D7s9dPoRZnQE"
      },
      "source": [
        "#### Iterating Over a List with a For-Each Loop"
      ]
    },
    {
      "cell_type": "code",
      "execution_count": null,
      "metadata": {
        "colab": {
          "base_uri": "https://localhost:8080/"
        },
        "id": "T-YXIhicYT6B",
        "outputId": "932cc62b-9abc-4c0d-e345-d066afbe4c2c"
      },
      "outputs": [
        {
          "name": "stdout",
          "output_type": "stream",
          "text": [
            "72\n",
            "2\n",
            "8\n",
            "11\n",
            "-1\n",
            "Sum: 93\n"
          ]
        }
      ],
      "source": [
        "# Part03_12.SumOfAList\n",
        "\n",
        "llista03_12 = []\n",
        "while True:\n",
        "  num = int(input())\n",
        "  if num == -1:\n",
        "    break\n",
        "  llista03_12.append(num)\n",
        "# Iterating Over a List with a For-Each Loop in Python\n",
        "sum = 0\n",
        "for num in llista03_12:\n",
        "  sum += num\n",
        "print(f\"Sum: {sum}\")  "
      ]
    },
    {
      "cell_type": "code",
      "execution_count": null,
      "metadata": {
        "colab": {
          "base_uri": "https://localhost:8080/"
        },
        "id": "10ij2vmpYT3k",
        "outputId": "f827eaee-8a16-442d-f9e9-986fcd376ebb"
      },
      "outputs": [
        {
          "name": "stdout",
          "output_type": "stream",
          "text": [
            "72\n",
            "2\n",
            "8\n",
            "11\n",
            "-1\n",
            "Average: 23.25\n"
          ]
        }
      ],
      "source": [
        "# Part03_13.AverageOfAList\n",
        "\n",
        "llista03_13 = []\n",
        "while True:\n",
        "  num = int(input())\n",
        "  if num == -1:\n",
        "    break\n",
        "  llista03_13.append(num)\n",
        "sum = 0\n",
        "for num in llista03_13:\n",
        "  sum += num\n",
        "average = sum/ len(llista03_13)\n",
        "print(f\"Average: {average}\")  "
      ]
    },
    {
      "cell_type": "markdown",
      "metadata": {
        "id": "n3s-gub2Zhht"
      },
      "source": [
        "#### Removing from a List and Checking the Existence of a Value"
      ]
    },
    {
      "cell_type": "code",
      "execution_count": null,
      "metadata": {
        "id": "_jcSxuOhYT1L"
      },
      "outputs": [],
      "source": [
        "# Part03_14.OnTheList\n",
        "\n",
        "llista03_14 = []\n",
        "while True:\n",
        "  nom = input()\n",
        "  if nom == (\"\"):\n",
        "    break\n",
        "  llista03_14.append(nom)\n",
        "\n",
        "# Python dosen´t have a method like contains like Java to return a bolean if a certin value is \n",
        "# in the ArrayList. So, it is necesary to use some kind of loop to check in a list for a value.\n",
        "\n",
        "busca = input(\"Search for? \")\n",
        "\n",
        "for nom in llista03_14:\n",
        "  if nom == busca:\n",
        "    trobat = True\n",
        "    break\n",
        "  else:\n",
        "    trobat = False  \n",
        "if trobat == True:\n",
        "  print(f\"{busca} was found!\")\n",
        "else:\n",
        "  print(f\"{busca} was not found!\")  \n",
        "\n"
      ]
    },
    {
      "cell_type": "markdown",
      "metadata": {
        "id": "NTzT5EHHZZHV"
      },
      "source": [
        "#### List as a Method Parameter"
      ]
    },
    {
      "cell_type": "code",
      "execution_count": null,
      "metadata": {
        "colab": {
          "base_uri": "https://localhost:8080/"
        },
        "id": "gTsEKqIJYTyz",
        "outputId": "55ca21c9-d89f-4d25-83bc-56ea2d5385a0"
      },
      "outputs": [
        {
          "name": "stdout",
          "output_type": "stream",
          "text": [
            "3\n",
            "2\n",
            "5\n",
            "1\n",
            "\n",
            "3\n",
            "6\n",
            "5\n"
          ]
        }
      ],
      "source": [
        "# Part03_15.PrintInRange\n",
        "llista03_15 = [3,2,6,-1,5,1]\n",
        "llista03_15_1 = [3,2,6,-1,5,1,5,7,8,10,21,32,43]\n",
        "\n",
        "def printNumbersInRange(llista, lowerLimit, upperLimit):\n",
        "  for num in llista:\n",
        "    if lowerLimit <= num <= upperLimit:\n",
        "      print(num)\n",
        "\n",
        "printNumbersInRange(llista03_15,0,5)\n",
        "print(\"\")\n",
        "printNumbersInRange(llista03_15,3,10)"
      ]
    },
    {
      "cell_type": "code",
      "execution_count": null,
      "metadata": {
        "colab": {
          "base_uri": "https://localhost:8080/"
        },
        "id": "aXrb-WnqYTwb",
        "outputId": "7b96b3af-ee30-4508-c326-f27af74a93f3"
      },
      "outputs": [
        {
          "data": {
            "text/plain": [
              "10"
            ]
          },
          "execution_count": 23,
          "metadata": {},
          "output_type": "execute_result"
        }
      ],
      "source": [
        "# Part03_16.Sum\n",
        "llista03_16 = [3,2,6,-1]\n",
        "def sum (llista):\n",
        "  suma = 0\n",
        "  for num in llista:\n",
        "    suma += num\n",
        "  # print(suma)\n",
        "  return suma\n",
        "\n",
        "sum(llista03_16)"
      ]
    },
    {
      "cell_type": "markdown",
      "metadata": {
        "id": "sJjOEQ3Gkrnj"
      },
      "source": [
        "#### On Copying the List to a Method Parameter"
      ]
    },
    {
      "cell_type": "code",
      "execution_count": null,
      "metadata": {
        "colab": {
          "base_uri": "https://localhost:8080/"
        },
        "id": "LoZF0foPYTt9",
        "outputId": "d10447c9-f138-4d85-dc1a-95982b3764b6"
      },
      "outputs": [
        {
          "name": "stdout",
          "output_type": "stream",
          "text": [
            "['Firts', 'Second']\n"
          ]
        }
      ],
      "source": [
        "# Part03_17.RemoveLast\n",
        "llista03_17 = [\"Firts\",\"Second\",\"Third\"]\n",
        "len(llista03_17)\n",
        "def removeLast(llista):\n",
        "  lastIn = len(llista)-1\n",
        "  llista.pop(lastIn)\n",
        "\n",
        "removeLast(llista03_17)\n",
        "# removeLast(llista03_17)\n",
        "print(llista03_17)"
      ]
    },
    {
      "cell_type": "markdown",
      "metadata": {
        "id": "j76xGLPyk2yb"
      },
      "source": [
        "#### A Summary of List Methods"
      ]
    },
    {
      "cell_type": "markdown",
      "metadata": {
        "id": "uxk63E5nlifk"
      },
      "source": [
        "### Arrays\n",
        "The values in an Array are called **elements**. List, tuple , set, Dictionary are the four collection data types in the Python."
      ]
    },
    {
      "cell_type": "markdown",
      "metadata": {
        "id": "yDm2DHLFtb_1"
      },
      "source": [
        "####  Creating an Array"
      ]
    },
    {
      "cell_type": "markdown",
      "metadata": {
        "id": "wVqLZ8RMtkKF"
      },
      "source": [
        "#### Assigning and accessing elements"
      ]
    },
    {
      "cell_type": "code",
      "execution_count": null,
      "metadata": {
        "colab": {
          "base_uri": "https://localhost:8080/"
        },
        "id": "JNVTfWLVYTrq",
        "outputId": "bc51a5cd-3424-463e-f8e5-53137b56ac27"
      },
      "outputs": [
        {
          "name": "stdout",
          "output_type": "stream",
          "text": [
            "[1, 3, 5, 7, 9]\n",
            "Give two indices to swap: \n",
            "First Index: 2\n",
            "Second Index: 4\n",
            "[1, 3, 9, 7, 5]\n"
          ]
        }
      ],
      "source": [
        "# Part03_18.Swap\n",
        "array03_18 = [1,3,5,7,9]\n",
        "# tupla03_18 =(1,2,2,5,7,9)\n",
        "print(array03_18)\n",
        "\n",
        "print(\"Give two indices to swap: \")\n",
        "\n",
        "ind1 = int(input(\"First Index: \"))\n",
        "ind2 = int(input(\"Second Index: \"))\n",
        "help = array03_18[ind1]\n",
        "array03_18[ind1] = array03_18[ind2]\n",
        "array03_18[ind2] = help\n",
        "print(array03_18)"
      ]
    },
    {
      "cell_type": "markdown",
      "metadata": {
        "id": "xf3K_efHSI3F"
      },
      "source": [
        "#### Size of an array and iterating"
      ]
    },
    {
      "cell_type": "code",
      "execution_count": null,
      "metadata": {
        "colab": {
          "base_uri": "https://localhost:8080/"
        },
        "id": "lDwgZ3StYTpU",
        "outputId": "11082b14-6d04-4e6c-f4a8-40e46aa479fe"
      },
      "outputs": [
        {
          "name": "stdout",
          "output_type": "stream",
          "text": [
            "Search for? 8\n",
            "8 is at index 2.\n"
          ]
        }
      ],
      "source": [
        "# Part03_19.IndexWasNotFound\n",
        "array03_19 = [6,2,8,1,3,0,9,7,0,0]\n",
        "\n",
        "searching = int(input(\"Search for? \"))\n",
        "i=0\n",
        "find = False\n",
        "while i<len(array03_19):\n",
        "  if searching == array03_19[i]:\n",
        "    print(f\"{searching} is at index {i}.\")\n",
        "  i += 1\n",
        "  find = True \n",
        "if find == False:\n",
        "   print(f\"{searching} was not found.\") \n"
      ]
    },
    {
      "cell_type": "markdown",
      "metadata": {
        "id": "65B0s3_tqag6"
      },
      "source": [
        "#### Type of the elements"
      ]
    },
    {
      "cell_type": "markdown",
      "metadata": {
        "id": "HswK9CsxqlCp"
      },
      "source": [
        "#### Array as a parameter of a method"
      ]
    },
    {
      "cell_type": "code",
      "execution_count": null,
      "metadata": {
        "colab": {
          "base_uri": "https://localhost:8080/"
        },
        "id": "VMQ3wEkAYTmz",
        "outputId": "59c5fa82-fc4a-4d0a-e45f-da2e6b460b86"
      },
      "outputs": [
        {
          "name": "stdout",
          "output_type": "stream",
          "text": [
            "6 2 8 1 3 0 9 7 0 0 "
          ]
        }
      ],
      "source": [
        "# Part03_20.SumOfArray\n",
        "array03_20 = [6,2,8,1,3,0,9,7,0,0]\n",
        "\n",
        "def listElements(list):\n",
        "  index = 0\n",
        "  for number in list:\n",
        "    print(number, end=' ')\n",
        "listElements(array03_20)   "
      ]
    },
    {
      "cell_type": "code",
      "execution_count": null,
      "metadata": {
        "colab": {
          "base_uri": "https://localhost:8080/"
        },
        "id": "VMSfji6IYTkn",
        "outputId": "c90568b4-41f4-469b-fa79-fb4430b448d4"
      },
      "outputs": [
        {
          "name": "stdout",
          "output_type": "stream",
          "text": [
            "[6, 2, 8, 1, 3, 0, 9, 7, 0, 0]\n",
            "6, 2, 8, 1, 3, 0, 9, 7, 0, 0\n"
          ]
        }
      ],
      "source": [
        "# Part03_21.PrintNeatly\n",
        "array03_21 = [6,2,8,1,3,0,9,7,0,0]\n",
        "print(array03_21)\n",
        "def printNeatly(array):\n",
        "  if len(array)>1:\n",
        "    i=0\n",
        "    while i < len(array)-1:\n",
        "      print(array[i], end=\", \")\n",
        "      i +=1\n",
        "    print(array[len(array)-1])\n",
        "  else:\n",
        "    print(array[0])\n",
        "\n",
        "printNeatly(array03_21)"
      ]
    },
    {
      "cell_type": "code",
      "execution_count": null,
      "metadata": {
        "colab": {
          "base_uri": "https://localhost:8080/"
        },
        "id": "23MI-sn_YTiS",
        "outputId": "1c714d2b-9ed9-4cfa-add9-ecbc6e08acc8"
      },
      "outputs": [
        {
          "name": "stdout",
          "output_type": "stream",
          "text": [
            "******\n",
            "**\n",
            "********\n",
            "*\n",
            "***\n",
            "-0-\n",
            "*********\n",
            "*******\n",
            "-0-\n",
            "-0-\n"
          ]
        }
      ],
      "source": [
        "# Part03_22.PrintInStars\n",
        "array03_22 = [6,2,8,1,3,0,9,7,0,0]\n",
        "def printArrayInStars(array):\n",
        "  star = \"*\"\n",
        "  numStars = 0\n",
        "  for num in array:\n",
        "    numStars = num\n",
        "    if numStars !=0:\n",
        "      i=1\n",
        "      while i <= numStars:\n",
        "        print(star, end=\"\")\n",
        "        i +=1\n",
        "      print(\"\")  \n",
        "    else:\n",
        "      print(\"-0-\")\n",
        "\n",
        "printArrayInStars(array03_22)"
      ]
    },
    {
      "cell_type": "markdown",
      "metadata": {
        "id": "xSYWZjEnlf3S"
      },
      "source": [
        "#### The shorter way to create an array"
      ]
    },
    {
      "cell_type": "markdown",
      "metadata": {
        "id": "j9o3DDqKo69a"
      },
      "source": [
        "![arrayJava01.PNG](data:image/png;base64,iVBORw0KGgoAAAANSUhEUgAAAlsAAACLCAYAAABWZFx3AAAAAXNSR0IArs4c6QAAAARnQU1BAACxjwv8YQUAAAAJcEhZcwAADsMAAA7DAcdvqGQAACOOSURBVHhe7Z27jh430obnunQJDgfQLSw2cmAHDhzIEMaZsx+GMYbhyPMtsKHkMRTY2UhyJGBhw3KycCBgR5aV+QL6ZxXJbrJYPPSB8x3mfQAK090km0WyWe9X3eo+GwAAAAAAQDcgtgAAAAAAOgKxBQAAAADQEYgtAAAAAICOQGwBAAAAAHTkIMTW308+G/77wT+HN6/cjg15fX05XF66tLsZ/nL7La+Hp/6YSU9fu933iNvd+XB2dubSxfDC7b8LXjymc54PV2/cjlPi3c2w43m1G27euX3E64vhH5fnw7XZ97/n5+bvi6HDtF/Fq+uzsY13x+1wvTPnvaYZ+GL46vJsePT81h7ahKDOd1fDI/P3Vwd2vdv5cPftCuchj/3uavifPbQB6PcslbVg9F3X99AxnSANYuvV8MYIIRJDPsWi6Ha4/WidUOottnbPY4mV8tdwszs1sXU7XD30Isqkh1dmj+DN1XCeETuxCFPKc9l14ux0xZadT+q8Ky2wfCxc9J0AmeP82KEVBBydo1LfYrHVUHeePYottx2ez/bBHCFs25912LVxMSxz+tYuKjcm7sN29ie2lPmdXAN1qM35uVIZF8OSfucyWj/NuQbY1toPr1P0TfeTitiyQuqPJ6VFb73Y6sn9FFtWaJ3v/Lg54fVYLMIvL3QRRvtrQmoDsXW6UMRURLQ8odMVCzMtuI+MyB0dB+Wl7TnOr+bUVwmiCivrnpxm3UHOJ6yTBEAgJrndpp9HkWKO03ZFHMWsF1vLsGJmOq8TMHMEVzBu7PRnirUyhX532492U7+8uqbteWO/Vmwtgscz/UFSbougsBaE/PV81+DDwKFTFltvfxj++OCz4fat2xa8/zKOePk0ibNJiE15w/rCqJlynleXw3+/fDVGvuK6LVobwjx9xdaL4SKM/oRiZhQjQZ5Q2Hihw/mU8oY4uhREgDQxFO7TRJQijrh+mc/AEScpzEaEzbn2lWwL9yeCjYQh1RWeR+SJymt5RBsVG/tSEFsFWGw9vzKO3ju+i+H6tXTS1rmmUQyxf0zOIfDCrh0P6o7yLBAGPYVcT6jd11fGKU+O76vXmjAI+i0QJBwNCo+5ZJ1uZVyYME/qwMvYspGYIHu6CLutobabOW7m/SjGTL/GgsWJR98/wfyy0aDgmE9ubMrjQqzpd9uuWFhRfXPrqVMUW+5xBYixw6cpsqUKoZFSZMuXnwQQiyMjoGJIdGXEFgkon5+3L4f3dktsu3OJunuKrRePUwd/8dJtjoLAixBxnMVRIBI4fyBYzPbFGJky1kXCSNRlCAUS503E0lTG3r5L0xgJ823LCi4Dt1cKJUfNNo9ah7/96fPrUbq4rXHdZN+Ufx+sEVu3xknQgm0WcyMA/iciIq+uQyeqOFqRP6FFENXqyHHUYusF9z/1pe3j2HFW+93My2IEpalPlzhrpS1HJrZeUd+QQDLttv0/iRj+wTH2hyZw4vwplXFhlvS7E3vhfO80/yG2ToOmB+RLkSWazFWxFQogEkgf/TD87TYtBbEV5Y3zSeHG7RR13+VtxMjJs5BIBVFeJFgREeaPEMIkFlQkpKa6dLGR1p+LbFmsOItEU0hVbDXYVhBbSTu9rVwmrDsjPLN2lXn/7OPh6w8fJOn7/7gMLfAC+NRIrnmMTsMs2o+Mc/+K/q446cTRQGzNhp0mOXt2+qbfOTJSdsCpgz8UsWW38+LjgBj7hPqO+t32T0k8jWMVsC+xZds/lSu3YwWvnyr/uQscG01ia4RvK8roUV1s1Z/nWia2rAiMI1tSDHYVW2MEZ0qx2MqIEYLKFgWBFR1x/UF9Yf1UVxCFyke24ghQWWxNsHgRZatiq6HeRWKL7ZCiVa/D91si8rrh/nfrwoVxWqzDxZ/+Dpw0CRrjTPXbIoaaU4fYSpgceOiY6e/AAdf6PSqr0Fls5dt1wAR9Eooo+nu0gfPE9h2M2HJ123MvraMRElyIYB0188SWIY0e7U9s2duINuLGSUS1iG5ii4VCGlHZSmwl0ZmkvkmUUN5IUGh1K+1pFVu0kMjoUdG+rmIrFaFRuyR8jkqegH1HtlKnECzizvGEeRJHU3PqEFsJkXMfCZx0S7+H+TWa+nS52Mqe95ChPlHmyyS8rG1hP4eizLM/seXaQzZ0nPt0GxGvfzh+ZootK57kc1H6c1hET7HVVndfsRVEezjCsrHYSgSGqI/rOB/Ok3pE9MeVn7YtzWKLbRORLXcOVcT0FFutdY8U2tmNZc9stYmtwCm4aEvsaCrOV9ah0SQMFFocjmuzdJit0PW89Tvx2sRWrd/t+OXtahFFS5x+S70GtsG0b6kgcJGVTZ0+talBbI22eRtEH4+Cx21LyuNCLOl3h5sb9D8odcFn59H8B/AnWp7Zghg7fMpiS0aOKKmiikTQlGe6lVcRRFr9MnI1J7JFSUS3et5GtLfXXHp4NVxtGNnyEZkxemMWk7Q+KapC7DFfXsuji600cpQKLQeLMCVPxTY+b1Q/JW9bRWyp7Qvzx3ZT0vunJ0vEVu4XeOwI2HGQw3GO81r7Ve8FDad0kWfnNB6fRFW8Pz1eJTqvS9IJrhRbPW6n6JGReDya+p3HasrXPC5avzU75zsSWytvkauQ3Up7JrGVzlX6n4vp3PGCxqXkeGZcVvW7pyamOostPy4LIungbpl9G/Fw0ISc3Xd3r37YNyQsMkLoVNGEHIu+grC9c5ZFtkAD7pf88V2rx45dIxFBuXvKYgvjciwcsdiy0bRIbLkH+MN9pyy24luN9wMtGpc837Z3jlW8HzLOqUBo3Tn8zBBFT+DQ90B+LcG4HBdHLLYMym1EecvSP+PB6US+jTjevjwogXFXKLcRD7Ef/LMUiHABABYw+i689uEkOG6xBQAAAABw4EBsAQAAAAB0BGILAAAAAKAjEFsAAAAAAB2B2AIAAAAA6AjEFgAAAABARyC2AAAAAAA6ArEFAAAAANCR2WLrxXf/Hs5//NNtreTXn4azL34uvJDyt+Hik38PZ5yeDFcLXg55ii813ZL4O4Wtn7wJvz+4p88F+W9HHuQb9F3/nOpLZ/HCVgBOG1zjm3PgYstDomu52DrdbyOWEG9a1xw/CxZNLKUfc9aFWL9vM9Jb8osfkD5ZsZV+iPuwsNdK/pr6ZXh69nC4fPhs9luvXz825ahsrvzLb6bjZ58ONxvOu+jcJj1d0v9vng07Kv/4F7cjxZ9nUf1FSv3+53DzcLItbZ8r69JuN3N97zgu9bY34Mcl076/dp9O9Sv9VzsezR2lfeXjcd8n86LS9qW2yfnuU3J++vA73mC/CRBbzKmJLeuwJ7HihJcUJtpHnZlWEbVHsXWyHLrYKnxkm53uN+ZaMgu86vQLUNnRETkHGzomdiqTM7FO5BvTmg6Ic7XA7TE235ATywkCsvHhN8NTY9umYqvS7+xYxzZZ5z4JKtvX47Zz3s3t6zwu5bY3wH2TH0uuvzBXy8eVeRpROV7r60rb19oWkZ3zdL0/7XOd3TMaxNafw9UX/laeTZHYevfzcB4cO/vuN3eASEVSJNac2Hrx4xO97pG82LoNyp598lMSfekrtkQEKBQzHHmhaFCQJxQ2Xuj4CI0sb4hv8QWihsrKSFO4TxNRY3smtI86W9aLrfH7jbLtjpxt8f4gBX0T1p0KMmqTsTPsV2Gjeg5XPx2jOsNzSOFTsi2qW4pbFlKUP5w305jE9U4pspHHOXPsTsiJLeMI3cLuhUfTIp9B1hE7XcI63k1FywjVXXByEnJUrm1pOz2+vdYBb9fuSr8rTjTK54RauPTlbUjpOi61tlehvi6MI9Vfqqt2nPqu1E+V49R3+X6qtH2tbQLuV7WtJbHlHsPBh7CbqIotEkehgIojW/aZqotf3abbjo9XxBaJJF8/CzdNVGXEFpefBBYLLxEp6ym2XjwOxYt1oKNjHp29d8bi+Og0XR2cP3DcZvsicKTsxEfRIOoysKMOBEPq6KcydadOeWMRoaPni9vqtkOhV7TNQm2sCQk9j7VzOp/oK9HP3BdJW4N6hbCt2ubg/arYorb588sIJFGKbLWOS08KkS3HPIeoE9chBYrdptses295tUBOcmH7c0Jl2i9t2Q6136UtLK6o76zAkk6Wt+l4k/2dx6XS9ios1lzEj8vFdlnbn41tlu2uHacx3e2esbj0x8NxLR93gn7nbaIU2FVp+1rbYko/LiC2tqIstlj8xNGiUCxp4ia+NdggtqLyNoo2iTWPLraorknoEWm+u7yNGDl/J7akIIqdeOg4K7ePuD7h9EdnHjthXYSk9UvhMOEFS5Cy+aTzF+KGmWcbodsQo+dJ2xTmS2zWxFQkksL62m0ria1kDKJ8pb6y56/1S47fv30wfP2hTB8PN29dhhb4wdnybQVe6JucdQZ2JKkTp20WLc5xWIeSjxzMYxIKlEKnOQdVbDnHaPtsT2LL9al16JNzHfvQC5kxb4ug6TwulbZXcTZNIsONsWubbXNQl5h35eN+vgT9xOfz+SvHvU1BP/H5/PhV2r7WtpDyeJ3aIzb7Y73Yim4bGlaJLXF8RBNb6e1Nm+5QbIlbOpRGR6gIiAgqqwoYj3W6cf1BfWH9VFfgsHVHn4qQRHiMpHl1tHzaPikgKrYZeoktKXLpWLnvqD7f9hbbLH3ElsGJeK3P+uJ+xTY8LKs6/WbsbajJiRDeccX7yaHE+bbCnm9J3ezkIsdl65qcnNzejqzYMv2mRU1om8vQ8bAclWkav87jUml7Fc2OYJ/WznBf+bg2juG+ynHNjnBfpe1rbZuw11t5Plr/eIlnt1axeWQr3rcsshVHq4i82ErzxnQTW87phU4xcuorxRaLgPB4Ut/klClv5Jy1upX29BNbUizE++q22TxdxJYbt5zI08WWr69um6eb2ArgsqU5Jjj8yJZd+LVf2eQoyiJmW8q/9vMk7XQRBSsaRFrUR3nUfufzBxEOQjpt4fTn2N51XGptr6EJmqC8ZmcoSGrHw78tse3l40qELmxvpe1rbfOocyai/tgAaKPyzBaJnEnQsJAy26NYcg/Hy2e2cttJeSm2aFt5yF0XW74+Lf9EX7EVOHWOmGwstkYnbB1w4li5jvPhPKnHCoBJiNjyUpj0EVuu7UG98jwttuXbNrFEbOllJqT4kbbI7Vw7ZT2WFrHlzpGUVeA51y62tmHlM1vs3KWDJvJCi3HlRifO28LZuOt4/buBMr/2s22fIIdWOl4SI7RWrXnfn97v9nzTfrs9OV3Z7zNt7zoutbY7WHiE+Twyv9jmcvJW24xtaevMbTlX4u1K29faxmTGOqLhmS28GqKJ6gPyVgC5W3Tf/cYCJ7rN5wSXzxMdI0T5JLIVlE2EU3KcUiy6vIAbk4i09byNyE6RoyPWAV+Fjnyl2JIRmIudVp8UVSH2mC+v5ckLmorYcsIyTqnAmY6JdjfZ5kWYS6P4iO3yabKvLLbkuW2azs19Eh5T+idvm2izT2Pb28SWtHFse9LvhTHqRk5s2cWeHXKYpANkh2P2C6fNQkGWNSlyBL4sJ+nQLX893y0QLGnbVQeUafsoWGRK8hH2XGr99E4j0/b6ehXS0u9xnslBe+L2z7Pd0G1ciFrbDSwkzPFEbBGxbUn5qO1SjBgqx+N5m9pePi7GrjKvauM21zYWd2qfhZTE1lY/bu4HdbF15HR9ZmvvVEQRSIiEl4PFkxM8uvgBE/XI1l5hwXKki797a/fxrUMNHPO43GtKYsv6V0S22oDYYo5TbIUiAbRgI0ux2LJRJL8PYqvGoV4r7pbGUTp0HyE4RaF1zOMCsm+Qd1FYCK127oXY4kmhTgy/ENh0LAvdeBvrYeE2JNBRbiOG4gtiqwF8Nw2A02a8xk800roHTl5sAQAAAADsE4gtAAAAAICOQGwBAAAAAHQEYgsAAAAAoCMQWwAAAAAAHYHYAgAAAADoCMQWAAAAAEBHILYAAAAAADoCsQUAAAAA0BGILQAAAACAjkBsAQAAAAB0BGILAAAAAKAjEFsAAAAAAB2B2AIAAAAA6AjEFgAAAABARyC2AAAAAAA6ArEFAAAAANARiC0AAAAAgI5AbAEAAAAAdARiCwAAAACgIxBbAAAAAAAdgdgCAAAAAOgIxBYAAAAAQEcgtgAAAAAAOgKxBQAAAADQEYgtAAAAAICOQGwBAAAAAHQEYgsAAAAAoCMQWwAAAAAAHWkXW7/+NJx98m+XngxX79z+O+Ov4WZ3OTx97TYDXny3rzYZ3lwN52dnw9njF27HCXHKtnXnxXBBfefS+e7W7S/z4vH8Mltj23A+XL1xOw6I2905983FS7fjQDiEcdO5Ha4e9u+vfuPyenh6+dT8u5LXT4fLy0uTNqgLgAU0iq3fhgsjsi5+dZt74PW1uVCu9ctkjdiisuc//um2FrA3QfLncPPw4XB55tLjX9z+DYHYUvGOxSZdlLDzVfotLmuT5pypfBen/fJiOHt4ZVxwnpMVWw22r6XbuFXIn/fYxZb5mf18N1zubszP7aWQYNN/qANwV7SJrXc/D+ef/GR+q+8J/lXS5xfJarG1J14/DgXWL8NTI7h2u8O04/dvHwz/evbebR037FQCh22dzIW4NvIOjvM3iNd9iq2TBWLraKEf27vnC+XWu5thh4gW2DNtYotvIWbEFgsxf3vRpO9+cweIP4erL2xEzEaflkSg8rcP43PL9tG56Vw2Kifz3P74xO0TKWp/GVrgStGJbrx5NuzOPh1ugsjDX7tPh8uHz8SvP/uLLhcRLLGNbe+Hm88fDF9//sT8NQfrIPz5pYP0jsX/mqY0OZPJuUw2iCgNOV1ft1I2tjfcR7cGZcRHc2b2FqLm4FaLLR9t9EnWlbNNlhtTIBSjPJqAJNvD26MyT3zr1CbfX3TM5A/PIcY1HE9KWp/GdU5QWeqvcN7Ost2No36sney4ReOizEczjqH9so7QrjCP7LMxjfPCz8/SuBlYkCwRNOVx8bx/9nFxHagdXyWYILbAAVAUW3VBIm8v2u0pUmTFFpXx+1h0zRA0TReKGnnz5/bizm7LKNYWka3sAtuLl9/Ewoq2+XbiN6Kflostz3Lbfhm+/9AIrW/n39683V0Ei3Yodiyj43EOhR3O6Lgnp+nLcP7R+RjnEAoUdoKT84nrMrCjdk6E/04d1Vh/g1Pn+sPzZ9D73Tq2SYTY7Slf2TaG9gmRk6Da6fvVO9TMuPjzu76QbZ3aI8rLtvK25rypnnS/Fx2+vmQciYLtreNSQx23cA4Rqq1B36nH436TbdXnC1EfN2ax2PLo4+JZLbZKP7prQGyBA2BVZIvF2Bc/x4sX5R33OcETiqvoeAN0C7F2v74gtsLnzLi9QujtS2zRrbWvSYxE6ePh5q3LUMKLLY5weZFFtxLjaNcWLLFtePtk+JexZ6tbh9IRslNPBFHBGRWcbOok4u3o3Jl6UkdthUUcmbFwXhYdU9Lyaf3OZWcIiNQ2QzG/oyC2wrbGdkubpVNP2zKV1wWAPvcUmwzJGGg2FGy34yJtnk9u3OJ9oi+TdsU28nwPbOO2Cjv0viJq47YV+rh41outFbcSW3wIAJ1ZL7ZklEoRW2serG96OPIIxdYqtEgWCy8Z2VrPEtt44VwjtlxUJBIlgXMotyl1LhJ2XlH9sZOY6qe6gmOqCNHaI4XHRKuj02xUywpHXbOtn9iyx8dtriM8d0ZscVv0MdP6QKuHSPpmptgiwr7Lz68yWpvTMbFptLcitti20RbbV9o59DbXxm0rlHFxP7rSH5VubagdF7AvmBOld9G6NZF9ALZi88hWvG+92EJkS0F5Ziu5tbgRS2yzLL2NaIVKeE7pHMpt0h23J3ZchOIkvPMjh11wghbtfNYGrQ2tjk6zkcsKsRDum2Wb21RZJLZsm0MxEbc/bctUXhMQ2j5CG4O0LUvE1oQdv/wcy6ONW/UaqogtPh70q2ZD/hz1cdsGfVw8iGyB+866B+TdA+qToJHPcG0gtlY+s1UTW5pgnEt1Md0c99qHUVzZ7fR/I7pntlYsNOtsW/KAvHV0o3Ngp2kcjHDq+TZp4meCHU3grKiu9Nkg5+gfnif1cP6gvKzPImwIaHV0qo2uL6Z64/M02cZ15J0is0RsqWVChDMWtnBdYXkWGFp9ulNP+lVrT4vtTEbo8f+KLkdK1HFjWwrnLYqt8nz2yLGfqIybZ3UUSB8Xz3qxhWe2wHGzTmwRTnD5h+fjKNEGYstdZNovGhZKwblt8u1sE1s+31g+OZ7DOrroF6dJy4XJXOL3bOmvfbB9d3m5G27euV1NbGvb3Fc/WMfrz3sxXAnnoDq0kZpzim07312pTiJx/gFWxLikOjh7Dq0NqqMbaeh3J1LUY7Ns8/kmG+P98njdaUf94tLUvtQ22T/x+UW7ZXRH5En6NSP+dNutbVHd2hhlxVbDuCXtD9pWFFsGzfZk3gkbxvY3ii3/w2yuKKmMi2e12FojmCC2wAHQJrb2DS9yuFiWwC+DRQh9NrpDAlmqkSQhIEAj2o8Huy//g2MJ7ofZgT7fhPdsgWPnOMSWgUUDHnRsx/8Kh9CaT/PtJjDCEY5YbNkokt8HsbUMGzWLxJaLbsrI4FL4wfNVtxD7ss0b5OdG9wHYlqMRW/6XFz65ALrhnBjdCtnKkd0n0tuIofiC2FqMcqvu/sxPEkobRKX8j09EuMCeOCKxBQAAAABwfEBsAQAAAAB0BGILAAAAAKAjEFsAAAAAAB2B2AIAAAAA6AjEFgAAAABARyC2AAAAAAA6ArEFAAAAANARiC2wmL+ffDb894N/Dm9euR0b4evl9OW6yvnt0yf45QH9G393gX2juf5NyM74jyW7pL3g2L5YVX95Kn+Fwpe/0zlxO1zvzoZ/XNMovRi+ujwbHj2f03tBmXdXwyPz91d4M+eG5L4rWSF4CfLdXoMBvg0H+WmxPa4V40tsKelfD8ivFf47oTal68yyF+0evNiKHC+lj34Y/nbHtuD9l/8c/nhy51NhE2iybPt9tHmsEluvLqtjyfWvEVtH+U1Nt0D5pC2ihc8JxSLMJLnQJR89nsu+xVZ5PEtiy3P3Ahxia3/Urye+ZtT5LMpyUkQVX489xJb2XUzByYqtBttL0Npf+cRTfa3If7VmySekDltskUP+4DL/JfgNgNjaE93Flv11clyfd7KL07TA2O1kjHOCSfk+YcJqsbVHNvqg8D6ina+uvcCywmueWArLkPA6H67f8QFQpO16yq+jlL8s3Jl9iq2Tpb/YqlP+RODcj6MftNgiIZR3tq+GN0lURe67HW4/CqJigXBLImY+Reez9fljoSij8n88+cEdN/WyMJTly1hl7VN8UfOvrfDXSnBBJ9ELn5p/3ZBdps1vfxj+8PaFwof3U18F9kfCKOyXz4bbt263w/bNrR0/l28ck/CcUUpFtS62Km13FB2q+NZcdEGP/WwXZs4TihMvVvwvSkpRv4tbErKsXJSDfcmYE4o4yv0S5/mUmwNhe6MUtKdiWzTvkvNQf5m6wrKyjWobxPmDY4kDLImtqG7Rx4LlYuuX4fsPHwzf/8dtHhXvh5vPHwz/etbhp6sYt+O6nmz9vcRWaY0v2RaXm1LYzjBP0n6y09geXrMyT3Q9++T6i45R/vAcsfAJxpNS1Kei7plrRYvtdpwzx4iS2GpeKyrfYy6tR+6Rh1CMHUFkyzjTjIBJxJiIhLVERvKRLSvUpmNWYHjRYMUaCQ0n6MjhjyKlDk/GYILZyTkNPG+Hk1S5oGlSJpOsCS+WfFuFraOQ8UIqtn2C9utii8bN18fbUhAtjmzJtmttK10k5kIP+1Uu2OOF6BdGu6iMC814kbsynH9aRG93F8GCKhdyUZeBFxbXHnU8g/qri5BvW7K4BVAesTCOVGzzJHOT8Yuv70tpq+gLPldYN+VPzxXREtlSrhMJxNaWmHE7yuvJlvXX0JRmzkkiM+fqa3zJNsLuC+3TUO30/erHRh2XyTbut6St8nr15WVb7ba27ixbK4iS7Q3j0hLZyozbREVslY4fndhivHMNHaxDiBspnKzTL4ufrNiiuoUYCJ3/9LcVKuzsm8VWfXIlk1SZGOpF1kQqkiJh48RWKGD0fiqIrVAkaf2ySmzF50zbRrcQ9YciU8SFy/0cj03Uz7zohBd6eUGU4xhvh+fO1ZMuLFxHTjC5uWUdh7KQUPuLYqtuW34BjdsZ9ZtY3H07p7rtdnE+Q2ytoGNkK0LMg4O/nmw+fd7ZOTkJMZO0a0edc7ZsfP55ttXye1Q/kFznsd3JGsLjMNmQtiUoL/IymesurYeQY6DZULLd9m1xrbgTsTXvVuIRiK0JcqrxbatA6LATToWOLWOTJqqyYstH1WTaTGzFk01OrmSSKhNDvciayIgtL36a7ThQscVOOS+2qN+iBTQci9oFmCxiAi4v6s+NI9UVHFPHU2lPslBmsHaKeVZqf802x7IFVCyQ2QXb95syBnsSW79/+2D42oisNP3f8LvLc6i8f/ax0m5KHw834rpdynFfTzWxJddpBdXG+hpftU3mz6DamfSraA9ff9M2j2Fwbl1subZoY6b2wdK1gqjYHvWdMr/uSGzNWUuOSmxZRxtHXEaHTM47ccwhtqwUVkWxVRAD68WWnEjxvr2ILd9/xy62CpEt7teoH8WFX7sAi87BjmE4JuliMy0iNH7hHFAXJuV8nC/bhhBlnpXaX7RtQm2n7EdDPD+t3aFjied/TDpOBkS2VtAnspWO07FdT7a8vo6mc1pFtVG59qJ982wrofqBxE5hC7c5vB7j9qdtCcpT3dJebZ9BHQPZFkNqQ5vtBJ9DnhuRrZVwtEk6d+t8//godfox4rkkBzt01enr4szTKrb8u33kgNHkCi8GnjDZbXthqhdEdEEJ3H3jdNIJwcLtDkTsXYgt3lces+ViK3+RyD7jcdjYOYwLhF/Q1AX/fDiX9bj80wIj6nNUx93DC6BwFnwOsc9TtG2Czz93AW2se4TbLsYBYmsFHcVWMK7Hdz31EluuL4I2xX3VZhvXkVxrMdF15kn6NbZFLRMgr/HYFtv2qXy+DxetFY4W2xltrTiQZ7bCdeaAxZYVMfFtPN05k7NNBZNSPnHchMgX5bGCK6zDC5K1YovgyUQXGCc56HYC22NmYr7UJkaYxyQ5MYtiS7eLqYktFr1x+XBsmsSWgfON5f1xbdxNGutrEVvOoaoXm10ofJ+d767iC792ARadg2k9LS5j/RfDVXaxySx2ftF1SQotQjo4i5gLnHRHIds4tq5om1a/SaNttQVULz/axwtmeExpe0FsxTb5pI8jxNaWHPv1ZOelWlaZ0yEtc660xs+xzeeb2hnvT44n/SpsEf1i09S+xLZkjMT5o3avXSs8Gdtb1oqC2GpfKypiq/jjz78YdTp+ZLcRdbK3AkEGPSJ1Whzye7bSxebk0ZwqL5oFRyxpiWw1sFxsgcPkHl5PK9HEDQtDJ4hYkCTC74hoiWxVKYut8i1EW/ZIIluNcJSlEIUBCvdBbBnogtvAOW9NuKjdF3jxFmKL+6EQ1UiA2AIK9/F6WocWzbNRJL8PYovIi638nRN3TNxCJI5XbI23su6BaNiceyK2DIfkWNkpUMh6jsA4GZRbC3P7wd8Wd2lu1NLf0tcWQnB83O/raSXKbcRQfJ2E2BrXitbXAHn8LUCb0nWGjs//0XcStxEBAAAAAA4ViC0AAAAAgI5AbAEAAAAAdARiCwAAAACgIxBbAAAAAAAdgdgCAAAAAOgIxBYAAAAAQEcgtgAAAAAAOlIVW+PbUFe/jRUAAAAA4P7RHNkqfwcIAAAAAABotN9GpNff4xMXAAAAAACzgNgCAAAAAOgIxBYAAAAAQEfaxRZ/cX/+l64BAAAAAO4z7WKLYMF1iQgXAAAAAEAj824j4vUPAAAAAACzwDNbAAAAAAAdgdgCAAAAAOgIxBYAAAAAQEeaxRbeIA8AAAAAMJ+q2Bq/jYjXPgAAAAAAzKb9NiIAAAAAAJgNxBYAAAAAQEcgtgAAAAAAOgKxBQAAAADQEYgtAAAAAICOQGwBAAAAAHQEYgsAAAAAoCMQWwAAAAAAHYHYAgAAAADoCMQWAAAAAEBHILYAAAAAADoCsQUAAAAA0BGILQAAAACAjkBsAQAAAAB0BGILAAAAAKAjEFsAAAAAAN0Yhv8HBiMckD5+9PMAAAAASUVORK5CYII=)"
      ]
    },
    {
      "cell_type": "markdown",
      "metadata": {
        "id": "8qt9VdhepFTC"
      },
      "source": [
        "### Using strings"
      ]
    },
    {
      "cell_type": "markdown",
      "metadata": {
        "id": "dHEo51kypP5K"
      },
      "source": [
        "#### Reading and Printing Strings"
      ]
    },
    {
      "cell_type": "code",
      "execution_count": null,
      "metadata": {
        "colab": {
          "base_uri": "https://localhost:8080/"
        },
        "id": "Qaqth0ndYTf4",
        "outputId": "98324b9b-f717-4862-ce54-42c70ff3117a"
      },
      "outputs": [
        {
          "name": "stdout",
          "output_type": "stream",
          "text": [
            "Give a word: cake\n",
            "cakecakecake\n"
          ]
        }
      ],
      "source": [
        "# Part03_23.PrintThrice\n",
        "word = input(\"Give a word: \")\n",
        "word3Times = word + word + word\n",
        "print(word3Times)\n"
      ]
    },
    {
      "cell_type": "markdown",
      "metadata": {
        "id": "R_6QicuCqOBj"
      },
      "source": [
        "#### String Comparisons And \"Equals\""
      ]
    },
    {
      "cell_type": "code",
      "execution_count": null,
      "metadata": {
        "colab": {
          "base_uri": "https://localhost:8080/"
        },
        "id": "RlsWcqdOYTdc",
        "outputId": "9c4a0d76-e7d3-4d46-8a53-110187aef3ca"
      },
      "outputs": [
        {
          "name": "stdout",
          "output_type": "stream",
          "text": [
            "Give a string: true\n",
            "You got it right!\n"
          ]
        }
      ],
      "source": [
        "# Part03_24.IsItTrue\n",
        "word = input(\"Give a string: \")\n",
        "if word == \"true\":\n",
        "  print(\"You got it right!\")\n",
        "else:\n",
        "  print(\"Try again!\")  \n"
      ]
    },
    {
      "cell_type": "code",
      "execution_count": null,
      "metadata": {
        "colab": {
          "base_uri": "https://localhost:8080/"
        },
        "id": "w4A3xUFnYTa8",
        "outputId": "3eeb652b-f1d5-4d0e-f466-50a9300ff638"
      },
      "outputs": [
        {
          "name": "stdout",
          "output_type": "stream",
          "text": [
            "Enter username: Alex\n",
            "Enter password: sunshine\n",
            "You have successfully logged in!\n"
          ]
        }
      ],
      "source": [
        "# Part03_25.Login\n",
        "myDictUserPass = {\"Alex\":\"sunshine\",\"Emma\":\"haskell\"}\n",
        "user = input(\"Enter username: \")\n",
        "password = input(\"Enter password: \")\n",
        "ok = False\n",
        "for key in myDictUserPass:\n",
        "  if key == user:\n",
        "    if myDictUserPass.get(key) == password:\n",
        "      print(\"You have successfully logged in!\")\n",
        "      ok = True\n",
        "if ok == False:\n",
        "  print(\"Incorrect username or password!\")    \n",
        "\n"
      ]
    },
    {
      "cell_type": "markdown",
      "metadata": {
        "id": "06DKgA6v2lP2"
      },
      "source": [
        "#### Splitting a String"
      ]
    },
    {
      "cell_type": "code",
      "execution_count": null,
      "metadata": {
        "id": "Hge4WTc3YTYm"
      },
      "outputs": [],
      "source": [
        "# Part03_26.LineByLine\n",
        "\n",
        "while True:\n",
        "  text = input(\"\")\n",
        "  listSpliText = text.split()\n",
        "  if len(listSpliText) < 2:\n",
        "    for elements in listSpliText:\n",
        "      print(elements)\n",
        "    break\n",
        "  for elements in listSpliText:\n",
        "      print(elements)\n",
        "  "
      ]
    },
    {
      "cell_type": "code",
      "execution_count": null,
      "metadata": {
        "colab": {
          "base_uri": "https://localhost:8080/"
        },
        "id": "UPNHxd06YTWK",
        "outputId": "cff738fa-06a0-4c94-b621-9f2a4a387bba"
      },
      "outputs": [
        {
          "name": "stdout",
          "output_type": "stream",
          "text": [
            "Do you have a favorite flavor\n",
            "have\n",
            "favorite\n",
            "flavor\n",
            "was it a cat?\n",
            "java is a programming language\n",
            "java\n",
            "\n"
          ]
        }
      ],
      "source": [
        "# Part03_27.AVClub\n",
        "while True:\n",
        "  text = input()\n",
        "  listSplitText = text.split()\n",
        "  if len(listSplitText) == 0:\n",
        "    break\n",
        "  for part in listSplitText:\n",
        "    # the instruction \"in\" works like a loop list serching if the\n",
        "    # \"list\" part string, contains a caracters \"av\"\n",
        "    if \"av\" in part:\n",
        "      print(part)"
      ]
    },
    {
      "cell_type": "markdown",
      "metadata": {
        "id": "MyqL-I6Bwj_S"
      },
      "source": [
        "#### Data of Fixed Format"
      ]
    },
    {
      "cell_type": "code",
      "execution_count": null,
      "metadata": {
        "id": "BHbQ4uIgYTTu"
      },
      "outputs": [],
      "source": [
        "# PArt03_28.FirstWords\n",
        "while True:\n",
        "  text = input()\n",
        "  if text == \"\":\n",
        "    break\n",
        "  listSplitText = text.split()\n",
        "  print(listSplitText[0])\n"
      ]
    },
    {
      "cell_type": "code",
      "execution_count": null,
      "metadata": {
        "colab": {
          "base_uri": "https://localhost:8080/"
        },
        "id": "UMmGzQ7tYTRC",
        "outputId": "47603ea7-3e1a-4455-8a06-1b5ca6a0e5f9"
      },
      "outputs": [
        {
          "name": "stdout",
          "output_type": "stream",
          "text": [
            "this is a very important message\n",
            "message\n",
            "\n"
          ]
        }
      ],
      "source": [
        "# Part03_29.LastWords\n",
        "\n",
        "while True:\n",
        "  text = input()\n",
        "  if text == \"\":\n",
        "    break\n",
        "  listSplitText = text.split()\n",
        "  print(listSplitText[len(listSplitText)-1])\n"
      ]
    },
    {
      "cell_type": "markdown",
      "metadata": {
        "id": "MFq7ixTa0zrw"
      },
      "source": [
        "#### Secret messages"
      ]
    },
    {
      "cell_type": "markdown",
      "metadata": {
        "id": "ZvAWVxN303wG"
      },
      "source": [
        "#### Using Diverse Text"
      ]
    },
    {
      "cell_type": "code",
      "execution_count": null,
      "metadata": {
        "colab": {
          "base_uri": "https://localhost:8080/"
        },
        "id": "vEP5-3ErYTME",
        "outputId": "6fc9a7f6-9292-467e-a20e-9a9949131eb3"
      },
      "outputs": [
        {
          "name": "stdout",
          "output_type": "stream",
          "text": [
            "sebastian,2\n",
            "lucas,2\n",
            "lily,1\n",
            "gabriel,10\n",
            "hanna,5\n",
            "\n",
            "Age of the oldest: 10\n"
          ]
        }
      ],
      "source": [
        "# Part03_30.AgeOfTheOldest\n",
        "\n",
        "oldest = 0\n",
        "while True:\n",
        "  text = input()\n",
        "  if text == \"\":\n",
        "    break\n",
        "  listSplitText = text.split(\",\")\n",
        "  year = int(listSplitText[1])\n",
        "  if year > oldest:\n",
        "    oldest = year\n",
        "print(f\"Age of the oldest: {oldest}\")      \n"
      ]
    },
    {
      "cell_type": "code",
      "execution_count": null,
      "metadata": {
        "colab": {
          "base_uri": "https://localhost:8080/"
        },
        "id": "JmKy6ETFYTD7",
        "outputId": "6633ed61-8d78-4516-bc82-e3a28deb3b19"
      },
      "outputs": [
        {
          "name": "stdout",
          "output_type": "stream",
          "text": [
            "lily,1\n",
            "gabriel,10\n",
            "hanna,5\n",
            "\n",
            "Name of the oldest: : gabriel\n"
          ]
        }
      ],
      "source": [
        "# Part03_31.NameOfTheOldest\n",
        "\n",
        "oldest = 0\n",
        "name = \"\"\n",
        "while True:\n",
        "  text = input()\n",
        "  if text == \"\":\n",
        "    break\n",
        "  listSplitText = text.split(\",\")\n",
        "  year = int(listSplitText[1])\n",
        "  if year > oldest:\n",
        "    oldest = year\n",
        "    name = listSplitText[0]\n",
        "print(f\"Name of the oldest: : {name}\")"
      ]
    },
    {
      "cell_type": "markdown",
      "metadata": {
        "id": "wM_9MryD-3bh"
      },
      "source": [
        "#### Length of string"
      ]
    },
    {
      "cell_type": "code",
      "execution_count": null,
      "metadata": {
        "colab": {
          "base_uri": "https://localhost:8080/"
        },
        "id": "xnBDC2f1ZZOy",
        "outputId": "436b2d6c-5038-4e7d-d22c-b90a94803563"
      },
      "outputs": [
        {
          "name": "stdout",
          "output_type": "stream",
          "text": [
            "sebastian,2017\n",
            "lucas,2017\n",
            "lily,2017\n",
            "hanna,2014\n",
            "gabriel,2009\n",
            "\n",
            "Longest name: sebastian\n",
            "Average of the birth years: 2014.8\n"
          ]
        }
      ],
      "source": [
        "# Part03_32.PersonalDetails\n",
        "\n",
        "nameLenght = 0\n",
        "name = \"\"\n",
        "sum = 0\n",
        "inputs = 0\n",
        "\n",
        "while True:\n",
        "  text = input()\n",
        "  if text == \"\":\n",
        "    break\n",
        "  inputs +=1  \n",
        "  listSplitText = text.split(\",\") \n",
        "  nameCount = len(listSplitText[0])\n",
        "  #print(f\"The lenght is: {nameCount}\")\n",
        "  sum += int(listSplitText[1])\n",
        "  # nameLenght = 0\n",
        "  if nameCount > nameLenght:\n",
        "    nameLenght = nameCount\n",
        "    name = listSplitText[0]\n",
        "  #print(f\"Longest name at the monmet is: {name}\")\n",
        "  #print(f\"Longest number at the monmet is: {nameLenght}\")\n",
        "\n",
        "average = sum / inputs\n",
        "print(f\"Longest name: {name}\")\n",
        "print(f\"Average of the birth years: {average}\")"
      ]
    },
    {
      "cell_type": "markdown",
      "metadata": {
        "id": "z1ruzmsDnpdi"
      },
      "source": [
        "## Part 4"
      ]
    },
    {
      "cell_type": "markdown",
      "metadata": {
        "id": "_adtAsW-w3Lz"
      },
      "source": [
        "The main theme of the fourth part is object-oriented programming. You will learn to read data from files and to represent and handle information with the help of objects"
      ]
    },
    {
      "cell_type": "markdown",
      "metadata": {
        "id": "M-SACMbQw88T"
      },
      "source": [
        "### Introduction to object-oriented programming"
      ]
    },
    {
      "cell_type": "markdown",
      "metadata": {
        "id": "KFXzUgqNxCoL"
      },
      "source": [
        "#### Classes and Objects"
      ]
    },
    {
      "cell_type": "code",
      "execution_count": null,
      "metadata": {
        "colab": {
          "base_uri": "https://localhost:8080/"
        },
        "id": "agUkib47ZZMm",
        "outputId": "f2883880-f95a-4c27-c762-9e9c17647737"
      },
      "outputs": [
        {
          "name": "stdout",
          "output_type": "stream",
          "text": [
            "Alex balance 120\n"
          ]
        }
      ],
      "source": [
        "# Part04_01.YourFirstAccount\n",
        "\n",
        "class Account:\n",
        "  # Variables are balance and owner\n",
        "\n",
        "  # Constructor class\n",
        "  def __init__(self, owner, balance):\n",
        "    self.owner = owner\n",
        "    self.balance = balance\n",
        "\n",
        "  # Geters\n",
        "  def saldo(self):\n",
        "    return self.balance\n",
        "\n",
        "  # Seters\n",
        "\n",
        "  # Methods\n",
        "  def deposit(self,amount):\n",
        "    self.balance = self.balance + amount\n",
        "\n",
        "  def withdrawal(self,amount):\n",
        "    self.balance = self.balance - amount  \n",
        "\n",
        "  def toString(self):\n",
        "    toPrint = f\"{self.owner} balance {self.balance}\"\n",
        "    return toPrint \n",
        "\n",
        "owner1 = Account(\"Alex\",100)\n",
        "owner1.deposit(20)\n",
        "print(owner1.toString())\n",
        "\n",
        "\n"
      ]
    },
    {
      "cell_type": "code",
      "execution_count": null,
      "metadata": {
        "colab": {
          "base_uri": "https://localhost:8080/"
        },
        "id": "Y7eangzJZZKL",
        "outputId": "ad1b22f3-f042-4cec-cdf1-5198f3b16fd7"
      },
      "outputs": [
        {
          "name": "stdout",
          "output_type": "stream",
          "text": [
            "Matthews account balance 900\n",
            "My account balance 100\n"
          ]
        }
      ],
      "source": [
        "# Part04_02.YourFirstBankTransfer\n",
        "matthews = Account(\"Matthews account\", 1000)\n",
        "myAccount = Account(\"My account\", 0)\n",
        "\n",
        "matthews.withdrawal(100)\n",
        "myAccount.deposit(100)\n",
        "print(matthews.toString())\n",
        "print(myAccount.toString())"
      ]
    },
    {
      "cell_type": "markdown",
      "metadata": {
        "id": "IzEXiDXQpD3P"
      },
      "source": [
        "#### Creating Classes"
      ]
    },
    {
      "cell_type": "code",
      "execution_count": null,
      "metadata": {
        "colab": {
          "base_uri": "https://localhost:8080/",
          "height": 88
        },
        "id": "JeIukRgBZZHy",
        "outputId": "604e6df6-acc1-4b02-bd84-7d4002dccf1b"
      },
      "outputs": [
        {
          "name": "stdout",
          "output_type": "stream",
          "text": [
            "Name : Toby\n",
            "Breed : cooker\n",
            "Age:  2021\n"
          ]
        },
        {
          "data": {
            "application/vnd.google.colaboratory.intrinsic+json": {
              "type": "string"
            },
            "text/plain": [
              "'Toby'"
            ]
          },
          "execution_count": 8,
          "metadata": {},
          "output_type": "execute_result"
        }
      ],
      "source": [
        "# Part04_03.DogAttributes\n",
        "\n",
        "class Dog:\n",
        "\n",
        "  def __init__ (self, name, breed, age):\n",
        "    self.name = name \n",
        "    self.__breed = breed # Private Atribute __NameAtribut\n",
        "    self.__age = age # Private\n",
        "\n",
        "  def whoToString(self):\n",
        "    print(\"Name :\" , self.name)\n",
        "    print(\"Breed :\", self.__breed)\n",
        "    print(\"Age: \", self.__age)\n",
        "\n",
        "toby = Dog(\"Toby\", \"cooker\", \"2021\")\n",
        "toby.whoToString()\n",
        "toby.name\n",
        "# toby.age will sent an error since the atribute age is \"Private\""
      ]
    },
    {
      "cell_type": "markdown",
      "metadata": {
        "id": "2y-UrpPeFm4D"
      },
      "source": [
        "#### Defining a Constructor"
      ]
    },
    {
      "cell_type": "code",
      "execution_count": null,
      "metadata": {
        "colab": {
          "base_uri": "https://localhost:8080/"
        },
        "id": "fAdMUwuUxayT",
        "outputId": "31004dd5-48cf-4d52-ff82-acf62554b77c"
      },
      "outputs": [
        {
          "name": "stdout",
          "output_type": "stream",
          "text": [
            "The Class Code is:  IT Academy  and the number of seats is:  25\n"
          ]
        }
      ],
      "source": [
        "# Part04_04.Room\n",
        "\n",
        "class Room:\n",
        "\n",
        "  def __init__(self, classCode, numberOfSeats):\n",
        "    self.code = classCode\n",
        "    self.seats = numberOfSeats\n",
        "\n",
        "  def ToString(self):\n",
        "    print(\"The Class Code is: \", self.code, \" and the number of seats is: \" , self.seats )\n",
        "\n",
        "internetRoom = Room(\"IT Academy\", 25)\n",
        "internetRoom.ToString()    \n"
      ]
    },
    {
      "cell_type": "markdown",
      "metadata": {
        "id": "stXY-v4yFw-b"
      },
      "source": [
        "#### Defining Methods For an Object"
      ]
    },
    {
      "cell_type": "code",
      "execution_count": null,
      "metadata": {
        "colab": {
          "base_uri": "https://localhost:8080/"
        },
        "id": "q4mBpU9qxate",
        "outputId": "e58653b4-5a43-4fb3-ca15-0cd7e78b0e94"
      },
      "outputs": [
        {
          "name": "stdout",
          "output_type": "stream",
          "text": [
            "Troumpet\n"
          ]
        }
      ],
      "source": [
        "# Part04_05.Whistle\n",
        "\n",
        "class Whistle:\n",
        "  def __init__(self, whistleSound):\n",
        "    self.__sound = whistleSound # Private\n",
        "  def sound(self):\n",
        "    print(self.__sound)\n",
        "\n",
        "sound1 = Whistle(\"Troumpet\")\n",
        "sound1.sound()"
      ]
    },
    {
      "cell_type": "code",
      "execution_count": null,
      "metadata": {
        "colab": {
          "base_uri": "https://localhost:8080/"
        },
        "id": "Fyi5GWuFxarL",
        "outputId": "6176fb89-8c00-4110-f760-b299bbf5b84b"
      },
      "outputs": [
        {
          "name": "stdout",
          "output_type": "stream",
          "text": [
            "Who's there\n"
          ]
        }
      ],
      "source": [
        "# Part04_06.Door\n",
        "\n",
        "class Door:\n",
        "\n",
        "  def knock(self):\n",
        "    print(\"Who's there\")\n",
        "\n",
        "alexander = Door()\n",
        "alexander.knock()    "
      ]
    },
    {
      "cell_type": "code",
      "execution_count": null,
      "metadata": {
        "colab": {
          "base_uri": "https://localhost:8080/"
        },
        "id": "hZfKRNoJxaoy",
        "outputId": "9b0e365d-d0a0-4fe4-b4e4-ac7440ffcfbf"
      },
      "outputs": [
        {
          "name": "stdout",
          "output_type": "stream",
          "text": [
            "Banana , price  1.1 13  pcs\n"
          ]
        }
      ],
      "source": [
        "# Part04_07.Product\n",
        "\n",
        "class Product:\n",
        "\n",
        "  def __init__(self, initialName, initialPrice, initialQuantity):\n",
        "      self.name = initialName\n",
        "      self.price = initialPrice\n",
        "      self.quantity = initialQuantity\n",
        "\n",
        "  def printProduct(self):\n",
        "    print(self.name, \", price \", self.price, self.quantity, \" pcs\")    \n",
        "\n",
        "banana1 = Product(\"Banana\", 1.1, 13)\n",
        "banana1.printProduct()    "
      ]
    },
    {
      "cell_type": "markdown",
      "metadata": {
        "id": "AYjtQYh9XKc0"
      },
      "source": [
        "#### Changing an Instance Variable's Value in a Method"
      ]
    },
    {
      "cell_type": "code",
      "execution_count": null,
      "metadata": {
        "colab": {
          "base_uri": "https://localhost:8080/"
        },
        "id": "t8Uz9OSaxamk",
        "outputId": "caa789ee-36fa-4102-b34a-1bff1d240b56"
      },
      "outputs": [
        {
          "name": "stdout",
          "output_type": "stream",
          "text": [
            "value  100\n",
            "value  0\n",
            "value  0\n"
          ]
        }
      ],
      "source": [
        "# Part04_08.DecreasingCounter\n",
        "\n",
        "class DecreasingCounter:\n",
        "\n",
        "  def __init__(self, value):\n",
        "    self.value = value\n",
        "\n",
        "  def printValue(self):\n",
        "    print(\"value \", self.value)\n",
        "\n",
        "  def decrement(self):\n",
        "    if self.value > 0:\n",
        "      self.value = self.value - 1\n",
        "\n",
        "  def reset(self):\n",
        "    self.value = 0    \n",
        "\n",
        "\n",
        "counter = DecreasingCounter(100)\n",
        "counter.printValue()\n",
        "\n",
        "counter.reset()\n",
        "counter.printValue()\n",
        "\n",
        "counter.decrement()\n",
        "counter.printValue()\n"
      ]
    },
    {
      "cell_type": "code",
      "execution_count": null,
      "metadata": {
        "colab": {
          "base_uri": "https://localhost:8080/"
        },
        "id": "_hSEEof1xakL",
        "outputId": "49832e43-119f-4d81-8800-5131d73bed53"
      },
      "outputs": [
        {
          "name": "stdout",
          "output_type": "stream",
          "text": [
            "120000.0\n",
            "121200.0\n",
            "147887.0328416936\n"
          ]
        }
      ],
      "source": [
        "# Part04_09.Debt\n",
        "\n",
        "class Debt:\n",
        "  def __init__(self, initialBalance, initialInteresRate):\n",
        "    self.balance = initialBalance\n",
        "    self.interesRate = initialInteresRate\n",
        "\n",
        "  def printBalance(self):\n",
        "    print(self.balance)\n",
        "\n",
        "  def waitOneYear(self):\n",
        "    self.balance = self.balance * self.interesRate   \n",
        "\n",
        "mortgage = Debt(120000.0 , 1.01)\n",
        "mortgage.printBalance()\n",
        "\n",
        "mortgage.waitOneYear()\n",
        "mortgage.printBalance()\n",
        "\n",
        "year = 0\n",
        "\n",
        "while year < 20:\n",
        "  mortgage.waitOneYear()\n",
        "  year +=1\n",
        "\n",
        "mortgage.printBalance()  "
      ]
    },
    {
      "cell_type": "markdown",
      "metadata": {
        "id": "JjNj_i14DFkk"
      },
      "source": [
        "#### Returning a Value From a Method"
      ]
    },
    {
      "cell_type": "code",
      "execution_count": null,
      "metadata": {
        "colab": {
          "base_uri": "https://localhost:8080/"
        },
        "id": "-QJ07kymxaiD",
        "outputId": "ce2fc09c-671d-47ec-dbe4-f894bc8008ea"
      },
      "outputs": [
        {
          "name": "stdout",
          "output_type": "stream",
          "text": [
            "The song In The Garden has a lenght of 10910 seconds\n"
          ]
        }
      ],
      "source": [
        "# Part04_10.Song\n",
        "\n",
        "class Song:\n",
        "\n",
        "  def __init__(self, name, lenght):\n",
        "    self.name = name\n",
        "    self.lenght = lenght\n",
        "\n",
        "  def name(self):\n",
        "    return name\n",
        "\n",
        "  def lenght(self):\n",
        "    return lenght\n",
        "\n",
        "garden = Song(\"In The Garden\", 10910)\n",
        "print(\"The song\", garden.name, \"has a lenght of\" ,  garden.lenght, \"seconds\")\n",
        "\n"
      ]
    },
    {
      "cell_type": "code",
      "execution_count": null,
      "metadata": {
        "colab": {
          "base_uri": "https://localhost:8080/"
        },
        "id": "p7dQWE8hxaf8",
        "outputId": "e31700ab-d9f3-455c-ea67-c74166c7dd3f"
      },
      "outputs": [
        {
          "name": "stdout",
          "output_type": "stream",
          "text": [
            "How old are you? 4\n",
            "You may watch the film  Alvin and the Chipmunks: The Squeakquel\n"
          ]
        }
      ],
      "source": [
        "# Part04_11.Film\n",
        "\n",
        "class Film:\n",
        "\n",
        "  def __init__(self, filmName, filmaAgeRating):\n",
        "    self.name = filmName\n",
        "    self.ageRating = filmaAgeRating\n",
        "\n",
        "  def name(self):\n",
        "    return self.name  \n",
        "\n",
        "  def ageRating(self):\n",
        "    return self.ageRating\n",
        "\n",
        "chipmunks = Film(\"Alvin and the Chipmunks: The Squeakquel\", 0)\n",
        "\n",
        "age = int(input(\"How old are you? \"))\n",
        "\n",
        "if age >= chipmunks.ageRating:\n",
        "  print(\"You may watch the film \" , chipmunks.name)\n",
        "else:\n",
        "   print(\"You may not watch the film \" , chipmunks.name)  "
      ]
    },
    {
      "cell_type": "code",
      "execution_count": null,
      "metadata": {
        "colab": {
          "base_uri": "https://localhost:8080/"
        },
        "id": "R3RBSPtLxad5",
        "outputId": "6dcd7d6b-36f1-4dae-f640-be811efb8ee3"
      },
      "outputs": [
        {
          "output_type": "stream",
          "name": "stdout",
          "text": [
            "0\n",
            "False\n",
            "Not full! Value:  0\n",
            "Not full! Value:  1\n",
            "Not full! Value:  2\n",
            "Not full! Value:  3\n",
            "Not full! Value:  4\n"
          ]
        }
      ],
      "source": [
        "# Part04_12.Gauge\n",
        "\n",
        "class Gauge:\n",
        "\n",
        "  def __init__(self, value):\n",
        "    self.value = value\n",
        "\n",
        "  def increase(self):\n",
        "    if self.value < 5:\n",
        "      self.value += 1\n",
        "\n",
        "  def decrease(self):\n",
        "    if self.value > 0:\n",
        "      self.value -=1\n",
        "\n",
        "  def value(self):\n",
        "    return self.value\n",
        "\n",
        "  def fullval(self):\n",
        "    if self.value == 5:\n",
        "      return True\n",
        "    else:  \n",
        "      return False\n",
        "\n",
        "g = Gauge(0)\n",
        "\n",
        "print(g.value)\n",
        "print(g.fullval())\n",
        "\n",
        "while (not g.fullval()): \n",
        "  # This is iqual to write --> while(True): at some point the while\n",
        "  # will become (False) and it would make the loop while stop.\n",
        "  print(\"Not full! Value: \" , g.value)\n",
        "  g.increase()\n",
        "\n",
        "# print(\"Full! Value: \" , g.value)\n",
        "# g.decrease()\n",
        "# print(\"Not full! Value: \" , g.value)\n"
      ]
    },
    {
      "cell_type": "markdown",
      "source": [
        "#### A string representation of an object and the toString-method"
      ],
      "metadata": {
        "id": "4foo4oOXuc-e"
      }
    },
    {
      "cell_type": "code",
      "execution_count": null,
      "metadata": {
        "id": "LFTFZ5IKxabM",
        "colab": {
          "base_uri": "https://localhost:8080/"
        },
        "outputId": "82d260e4-948f-4a69-999d-65ea5fbfef5a"
      },
      "outputs": [
        {
          "output_type": "stream",
          "name": "stdout",
          "text": [
            "My name is Bond, James Bond\n"
          ]
        }
      ],
      "source": [
        "# Part04_13.Agent\n",
        "# In python the method toString is str __str__\n",
        "\n",
        "class Agent:\n",
        "\n",
        "  def __init__ (self, name, lastName):\n",
        "    self.name = name\n",
        "    self.lastName = lastName\n",
        "\n",
        "  def __str__(self):\n",
        "    return \"My name is \" + self.lastName + \", \" + self.name + \" \" + self.lastName\n",
        "\n",
        "bond = Agent(\"James\", \"Bond\")\n",
        "\n",
        "print(bond)\n"
      ]
    },
    {
      "cell_type": "markdown",
      "source": [
        "#### Method parameters"
      ],
      "metadata": {
        "id": "05SfhkN_wLXu"
      }
    },
    {
      "cell_type": "markdown",
      "source": [
        "#### A parameter and instance variable having the same name!"
      ],
      "metadata": {
        "id": "Gk5_0LFh4alJ"
      }
    },
    {
      "cell_type": "code",
      "execution_count": null,
      "metadata": {
        "id": "QN0N9bzPxaYr",
        "colab": {
          "base_uri": "https://localhost:8080/"
        },
        "outputId": "7b68ce08-922a-4389-f505-d95691738abb"
      },
      "outputs": [
        {
          "output_type": "stream",
          "name": "stdout",
          "text": [
            "multiplyByThree.multiply(2):  6\n"
          ]
        }
      ],
      "source": [
        "# Part04_14.Multiplier\n",
        "\n",
        "class Multiplier:\n",
        "\n",
        "  def __init__(self, number):\n",
        "    self.number = number\n",
        "\n",
        "  def multiply(self, number):\n",
        "    return self.number * number\n",
        "\n",
        "multiplyByThree = Multiplier(3)\n",
        "print(\"multiplyByThree.multiply(2): \",multiplyByThree.multiply(2))   \n"
      ]
    },
    {
      "cell_type": "markdown",
      "source": [
        "#### Calling an internal method"
      ],
      "metadata": {
        "id": "n4dAmV_lDR_s"
      }
    },
    {
      "cell_type": "code",
      "execution_count": null,
      "metadata": {
        "id": "iK6H8utIxaTM",
        "colab": {
          "base_uri": "https://localhost:8080/"
        },
        "outputId": "1f29630b-dd3e-45a6-bff3-8d04e2925066"
      },
      "outputs": [
        {
          "output_type": "stream",
          "name": "stdout",
          "text": [
            "Count  4\n",
            "Sum :  11\n",
            "<class 'int'>\n",
            "<class 'int'>\n"
          ]
        }
      ],
      "source": [
        "# Part04_15.Statistics\n",
        "\n",
        "class Statistics:\n",
        "\n",
        "  def __init__(self):\n",
        "    self.count = 0\n",
        "    self.sum =0\n",
        " \n",
        "  def addNumber(self, number):\n",
        "    self.sum += number\n",
        "    self.count += 1\n",
        "\n",
        "  def getCount(self):\n",
        "    return self.count\n",
        "\n",
        "  def sum(self):\n",
        "    return self.sum\n",
        "\n",
        "  def average(self):\n",
        "    if self.sum != 0:\n",
        "      return double(self.sum / self.count)\n",
        "    else:\n",
        "      return 0.0  \n",
        "\n",
        "\n",
        "statistics = Statistics()\n",
        "statistics.addNumber(3)\n",
        "statistics.addNumber(5)    \n",
        "statistics.addNumber(1)\n",
        "statistics.addNumber(2)\n",
        "\n",
        "print(\"Count \" , statistics.getCount())\n",
        "print(\"Sum : \" , statistics.sum)\n",
        "print(type(statistics.sum))\n",
        "print(type(statistics.getCount()))"
      ]
    },
    {
      "cell_type": "code",
      "source": [
        "statisticsT = Statistics()\n",
        "statisticsEven = Statistics()\n",
        "statisticsOdd = Statistics()\n",
        "\n",
        "while True:\n",
        "  number = int(input(\"Enter number: \"))\n",
        "  if number == -1:\n",
        "    break\n",
        "  statisticsT.addNumber(number)\n",
        "  if number %2 == 0:\n",
        "    statisticsEven.addNumber(number)\n",
        "  else:\n",
        "    statisticsOdd.addNumber(number)\n",
        "\n",
        "print(\"Count \" , statisticsT.getCount())\n",
        "print(\"Sum : \" , statisticsT.sum)\n",
        "print(\"Sum Even Numbers: \" , statisticsEven.sum) \n",
        "print(\"Sum Odd Numbers: \" , statisticsOdd.sum) "
      ],
      "metadata": {
        "id": "4Q44dk5qThCC",
        "colab": {
          "base_uri": "https://localhost:8080/"
        },
        "outputId": "f93e03c7-65e0-406d-ba08-88b37e8f681f"
      },
      "execution_count": null,
      "outputs": [
        {
          "output_type": "stream",
          "name": "stdout",
          "text": [
            "Enter number: 4\n",
            "Enter number: 5\n",
            "Enter number: 3\n",
            "Enter number: 2\n",
            "Enter number: -1\n",
            "Count  4\n",
            "Sum :  14\n",
            "Sum Even Numbers:  6\n",
            "Sum Odd Numbers:  8\n"
          ]
        }
      ]
    },
    {
      "cell_type": "code",
      "execution_count": null,
      "metadata": {
        "id": "DjreD55sxdHN",
        "colab": {
          "base_uri": "https://localhost:8080/"
        },
        "outputId": "a9561168-04af-41fb-b2db-3de0f323553e"
      },
      "outputs": [
        {
          "output_type": "stream",
          "name": "stdout",
          "text": [
            "The card has a balance of 10 euros\n",
            "The card has a balance of 110 euros\n",
            "The card has a balance of 107.4 euros\n",
            "The card has a balance of 102.80000000000001 euros\n"
          ]
        }
      ],
      "source": [
        "# Part04_16.PaymentCard\n",
        "class PaymentCard:\n",
        "\n",
        "  def __init__(self,openingBalance):\n",
        "    self.balance = openingBalance\n",
        "\n",
        "  def eatAffordably(self):\n",
        "    if (self.balance - 2.60) >= 0: \n",
        "      self.balance -= 2.60 \n",
        "\n",
        "  def eatHealtily(self):\n",
        "    if (self.balance - 4.60) >= 0:\n",
        "      self.balance -= 4.60\n",
        "\n",
        "  def addMoney(self, money):\n",
        "    if money > 0:\n",
        "      self.balance += money\n",
        "    if self.balace + money > 150:\n",
        "      self.balance = 150  \n",
        "     \n",
        "  def __str__(self):\n",
        "    return f\"The card has a balance of {self.balance} euros\"   \n",
        "\n",
        "card = PaymentCard(10)\n",
        "print(card)\n",
        "card.addMoney(100)\n",
        "print(card)\n",
        "card.eatAffordably()\n",
        "print(card)\n",
        "card.eatHealtily()\n",
        "print(card)\n"
      ]
    },
    {
      "cell_type": "markdown",
      "source": [
        "### Objects in a list"
      ],
      "metadata": {
        "id": "5ar9QxMKw6GG"
      }
    },
    {
      "cell_type": "markdown",
      "source": [
        "![objectsList.PNG](data:image/png;base64,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)"
      ],
      "metadata": {
        "id": "zafCvuoI8G-s"
      }
    },
    {
      "cell_type": "markdown",
      "source": [
        "#### Adding object to a list"
      ],
      "metadata": {
        "id": "2vTr8_R9xKO-"
      }
    },
    {
      "cell_type": "markdown",
      "source": [
        "#### Adding user-inputted objects to a list"
      ],
      "metadata": {
        "id": "ulV7huSLxM9d"
      }
    },
    {
      "cell_type": "code",
      "execution_count": null,
      "metadata": {
        "id": "GhYFmdqaxdEz",
        "colab": {
          "base_uri": "https://localhost:8080/"
        },
        "outputId": "73eff5d3-2453-4e16-80bf-1285fa2f1dc5"
      },
      "outputs": [
        {
          "output_type": "stream",
          "name": "stdout",
          "text": [
            "Nom: alexç\n",
            "Nom: martiu\n",
            "Nom: \n",
            "alexç (created at: 04/05/2022 10:34:43)\n",
            "martiu (created at: 04/05/2022 10:34:45)\n"
          ]
        }
      ],
      "source": [
        "# Part04_17.Items\n",
        "import datetime\n",
        "\n",
        "class Items:\n",
        "  \n",
        "  def __init__(self, firstName):\n",
        "    self.name = firstName\n",
        "    self.createAt = datetime.datetime.now()\n",
        "\n",
        "  def getname(self):\n",
        "    return self.name\n",
        "\n",
        "  def __str__(self):\n",
        "    dateFormat = self.createAt.strftime(\"%d/%m/%Y %H:%M:%S\")\n",
        "    return f\"{self.name} (created at: {dateFormat})\"\n",
        "\n",
        "llistaArray = []\n",
        "while True:\n",
        "  nom = input(\"Nom: \")\n",
        "  if nom == \"\":\n",
        "    break\n",
        "  item = Items(nom)\n",
        "  llistaArray.append(item)\n",
        "\n",
        "for item in llistaArray:\n",
        "  print(item) \n"
      ]
    },
    {
      "cell_type": "markdown",
      "source": [
        "#### Multiple constructor parameters"
      ],
      "metadata": {
        "id": "5sOXxYIfp8_z"
      }
    },
    {
      "cell_type": "code",
      "execution_count": null,
      "metadata": {
        "id": "ESJmLL2DxdCk",
        "colab": {
          "base_uri": "https://localhost:8080/"
        },
        "outputId": "e48f1c07-a53c-4833-bf91-386f959e49f4"
      },
      "outputs": [
        {
          "output_type": "stream",
          "name": "stdout",
          "text": [
            "First name: a\n",
            "Last name: l\n",
            "Identification number: \n",
            "l, a ()\n",
            "First name: d\n",
            "Last name: kç\n",
            "Identification number: 878\n",
            "kç, d (878)\n",
            "First name: \n",
            "a, l\n",
            "d, kç\n"
          ]
        }
      ],
      "source": [
        "# Part04_18.PersonalInformation\n",
        "\n",
        "class PersonalInformation:\n",
        "\n",
        "  def __init__(self, firstName, lastName, id):\n",
        "    self.firstName = firstName\n",
        "    self.lastName = lastName\n",
        "    self.id = id\n",
        "\n",
        "  def getFirstName(self):\n",
        "    return self.firstName\n",
        "\n",
        "  def getLastName(self):\n",
        "    return self.lastName\n",
        "\n",
        "  def getId(self):\n",
        "    return self.id\n",
        "\n",
        "  def __str__(self):\n",
        "    return f\"{self.lastName}, {self.firstName} ({self.id})\"\n",
        "\n",
        "llistaPersons = []\n",
        "while True:\n",
        "  firstName = input(\"First name: \")\n",
        "  if firstName == \"\":\n",
        "    break\n",
        "  lastName = input(\"Last name: \")\n",
        "  id = input(\"Identification number: \")\n",
        "\n",
        "  person = PersonalInformation(firstName, lastName, id)\n",
        "  print(person)\n",
        "  llistaPersons.append(person)\n",
        "\n",
        "for person in llistaPersons:\n",
        "  print(f\"{person.getFirstName()}, {person.getLastName()}\")\n",
        "\n"
      ]
    },
    {
      "cell_type": "code",
      "execution_count": null,
      "metadata": {
        "id": "L6XZZWFdxdAe",
        "colab": {
          "base_uri": "https://localhost:8080/"
        },
        "outputId": "35788ffd-24ac-4019-a653-83f09f393a0e"
      },
      "outputs": [
        {
          "output_type": "stream",
          "name": "stdout",
          "text": [
            "Name: q\n",
            "Duration: 24\n",
            "Name: e\n",
            "Duration: 25\n",
            "Name: f\n",
            "Duration: 50\n",
            "Name: f\n",
            "Duration: 6\n",
            "Name: \n",
            "Program's maximum duration? 30\n",
            "q,24 minutes\n",
            "e,25 minutes\n",
            "f,6 minutes\n"
          ]
        }
      ],
      "source": [
        "# Part04_19.TelevisionPrograms\n",
        "\n",
        "class TelevisionProgram:\n",
        "\n",
        "  def __init__(self, name, duration):\n",
        "    self.name = name\n",
        "    self.duration = duration\n",
        "\n",
        "  def  isAweson(self):\n",
        "    if \"MasterChef\" not in self.name:\n",
        "      return False\n",
        "    return True  \n",
        "   \n",
        "  def getName(self):\n",
        "    return self.name\n",
        "\n",
        "  def getDuration(self):\n",
        "    return self.duration\n",
        "\n",
        "  def __str__(self):\n",
        "    return f\"{self.name},{self.duration} minutes\"\n",
        "\n",
        "contenidor04_19 =[]\n",
        "while True:\n",
        "  nom = input(\"Name: \")\n",
        "  # if nom == \"\":\n",
        "  if not nom: # alternative way to ask if the String isEmpty\n",
        "    break\n",
        "  duration = int(input(\"Duration: \"))  \n",
        "  person = TelevisionProgram(nom,duration)\n",
        "  contenidor04_19.append(person)\n",
        "\n",
        "maxDuration = int(input(\"Program's maximum duration? \"))\n",
        "\n",
        "for person in contenidor04_19:5\n",
        "  if person.getDuration() <= maxDuration:\n",
        "    print(person)\n"
      ]
    },
    {
      "cell_type": "code",
      "execution_count": null,
      "metadata": {
        "id": "ZTgMpT6kxc8D",
        "colab": {
          "base_uri": "https://localhost:8080/"
        },
        "outputId": "1f7cf589-5e4c-4d76-e69a-ae42ed4c9a19"
      },
      "outputs": [
        {
          "output_type": "stream",
          "name": "stdout",
          "text": [
            "Title: tomo\n",
            "Pages: 256\n",
            "Publication year: 1694\n",
            "Title: has\n",
            "Pages: 352\n",
            "Publication year: 2010\n",
            "Title: \n",
            "What information will be printed? everything\n",
            "tomo, 256 pages, 1694\n",
            "has, 352 pages, 2010\n"
          ]
        }
      ],
      "source": [
        "# Part04_20.Books\n",
        "\n",
        "class Book:\n",
        "\n",
        "  def __init__(self, title, numPages, yearPublication):\n",
        "    self.title = title\n",
        "    self.numPages = numPages\n",
        "    self.yearPublication = yearPublication\n",
        "\n",
        "  def getTitle(self):\n",
        "    return self.title\n",
        "\n",
        "  def __str__(self):\n",
        "    return f\"{self.title}, {self.numPages} pages, {self.yearPublication}\" \n",
        "\n",
        "contenidor04_20 =[]\n",
        "while True: \n",
        "  title = input(\"Title: \")\n",
        "  if not title:\n",
        "    break\n",
        "  numPages = int(input(\"Pages: \"))\n",
        "  year = int(input(\"Publication year: \"))\n",
        "  bookObj = Book(title,numPages,year)\n",
        "  contenidor04_20.append(bookObj)\n",
        "\n",
        "what = input(\"What information will be printed? \")\n",
        "if \"name\" in what:\n",
        "  for book in contenidor04_20:\n",
        "    print(book.getTitle())\n",
        "if \"everything\" in what:\n",
        "  for book in contenidor04_20:\n",
        "    print(book)    \n"
      ]
    },
    {
      "cell_type": "markdown",
      "source": [
        "### Files and reading data"
      ],
      "metadata": {
        "id": "21YjEJDQ_m5n"
      }
    },
    {
      "cell_type": "markdown",
      "source": [
        "#### Reading From the Keyboard"
      ],
      "metadata": {
        "id": "nt1s6COn_qgo"
      }
    },
    {
      "cell_type": "code",
      "execution_count": null,
      "metadata": {
        "id": "se8PSQ2Uxc5q",
        "colab": {
          "base_uri": "https://localhost:8080/"
        },
        "outputId": "7ccee760-378e-4d86-d52b-ad9b5787f3c0"
      },
      "outputs": [
        {
          "output_type": "stream",
          "name": "stdout",
          "text": [
            "lalla\n",
            "lalal\n",
            "es\n",
            "sre\n",
            "end\n",
            "4\n"
          ]
        }
      ],
      "source": [
        "# Part04_21.NumberOfStrings\n",
        "contador = 0\n",
        "while True:\n",
        "  text = input(\"\")\n",
        "  if \"end\" in text:\n",
        "    break\n",
        "  contador +=1\n",
        "print(contador)    \n"
      ]
    },
    {
      "cell_type": "code",
      "execution_count": null,
      "metadata": {
        "id": "9UImOosvxaKT",
        "colab": {
          "base_uri": "https://localhost:8080/"
        },
        "outputId": "abe9a286-16b5-449d-96db-41cb90816729"
      },
      "outputs": [
        {
          "name": "stdout",
          "output_type": "stream",
          "text": [
            "2\n",
            "8\n",
            "4\n",
            "64\n",
            "4\n",
            "64\n",
            "end\n"
          ]
        }
      ],
      "source": [
        "# Part04_22.Cubes\n",
        "\n",
        "while True:\n",
        "  num= input()\n",
        "  if \"end\" in num:\n",
        "    break\n",
        "  numInt = int(num)\n",
        "  numCube = numInt*numInt*numInt\n",
        "  print(numCube)\n"
      ]
    },
    {
      "cell_type": "markdown",
      "source": [
        "#### [Files and the Filesystem](https://www.programiz.com/python-programming/file-operation) usig [Colab](https://machinelearningmastery.com/google-colab-for-machine-learning-projects/) and the [with](https://www.geeksforgeeks.org/with-statement-in-python/) Statement"
      ],
      "metadata": {
        "id": "qWYHl1FEC2_4"
      }
    },
    {
      "cell_type": "code",
      "source": [
        "# Mount our Google Drive to our working directory in order to acces to the Data \n",
        "# folder and be able to save and read our files.\n",
        "\n",
        "import os\n",
        "from google.colab import drive\n",
        " \n",
        "MOUNTPOINT = \"/content/gdrive\"\n",
        "DATADIR = os.path.join(MOUNTPOINT, \"MyDrive\")\n",
        "drive.mount(MOUNTPOINT)"
      ],
      "metadata": {
        "colab": {
          "base_uri": "https://localhost:8080/"
        },
        "id": "mgvo1eUlzJgO",
        "outputId": "c5573a93-f922-48c9-ea07-513f290552cd"
      },
      "execution_count": null,
      "outputs": [
        {
          "output_type": "stream",
          "name": "stdout",
          "text": [
            "Mounted at /content/gdrive\n"
          ]
        }
      ]
    },
    {
      "cell_type": "code",
      "source": [
        "from google.colab import drive\n",
        "drive.mount('/content/gdrive')"
      ],
      "metadata": {
        "colab": {
          "base_uri": "https://localhost:8080/"
        },
        "id": "340V7RHi4Yb2",
        "outputId": "ff198c97-6baf-4ede-a12a-83b80663fb6a"
      },
      "execution_count": null,
      "outputs": [
        {
          "output_type": "stream",
          "name": "stdout",
          "text": [
            "Drive already mounted at /content/gdrive; to attempt to forcibly remount, call drive.mount(\"/content/gdrive\", force_remount=True).\n"
          ]
        }
      ]
    },
    {
      "cell_type": "code",
      "source": [
        "print(DATADIR)"
      ],
      "metadata": {
        "colab": {
          "base_uri": "https://localhost:8080/"
        },
        "id": "0OWtrQ7R1ki9",
        "outputId": "90a7a798-a99a-49e3-fd3b-0eff224d2131"
      },
      "execution_count": null,
      "outputs": [
        {
          "output_type": "stream",
          "name": "stdout",
          "text": [
            "/content/gdrive/MyDrive\n"
          ]
        }
      ]
    },
    {
      "cell_type": "code",
      "source": [
        "# once the drive has been mounted the new route to the data folder is:\n",
        "url = \"/content/gdrive/MyDrive/Colab Notebooks/Datos\"\n",
        "/content/drive/MyDrive/Colab Notebooks/Datos/test.txt"
      ],
      "metadata": {
        "id": "uJBsM6-xz1NO"
      },
      "execution_count": null,
      "outputs": []
    },
    {
      "cell_type": "markdown",
      "source": [
        "#### Creating and write a new File"
      ],
      "metadata": {
        "id": "nP4u8_SyRjDu"
      }
    },
    {
      "cell_type": "code",
      "execution_count": null,
      "metadata": {
        "id": "ahBg5rzUxn_V"
      },
      "outputs": [],
      "source": [
        "# Part04_23.CreatingANewFile\n",
        "# writes directly to google drive\n",
        "\n",
        "with open(f\"{url}/test.txt\", \"w\") as outfile:\n",
        "    outfile.write(\"Hello NEW World!\")\n"
      ]
    },
    {
      "cell_type": "markdown",
      "source": [
        "#### Reading From a File"
      ],
      "metadata": {
        "id": "fsgQ4tXbC6p4"
      }
    },
    {
      "cell_type": "code",
      "execution_count": null,
      "metadata": {
        "id": "VoTEgK-Rxn9G",
        "colab": {
          "base_uri": "https://localhost:8080/"
        },
        "outputId": "002f50d2-3b98-4806-f5b2-cfcc39065876"
      },
      "outputs": [
        {
          "output_type": "stream",
          "name": "stdout",
          "text": [
            "Hello NEW World!\n"
          ]
        }
      ],
      "source": [
        "# Part04_24.PrintingAFile\n",
        "\n",
        "with open(f\"{url}/test.txt\", \"r\") as infile:\n",
        "    file_data = infile.read()\n",
        "    print(file_data)"
      ]
    },
    {
      "cell_type": "code",
      "execution_count": null,
      "metadata": {
        "id": "f_bTX3I6xn7N",
        "colab": {
          "base_uri": "https://localhost:8080/"
        },
        "outputId": "cbb7a0f6-9bc9-445f-8617-5778a2a1a822"
      },
      "outputs": [
        {
          "output_type": "stream",
          "name": "stdout",
          "text": [
            "Which file should have its contents printed? song1.txt\n",
            "No option for duality\n",
            "The old is where we come\n",
            "Clockspeed is fast, but we'll survive\n",
            "The new will overcome\n",
            "We are challengers, not followers\n",
            "We take the ball to build\n",
            "Easy safe services\n",
            "Are here to stay\n",
            "\n",
            "Value for society\n",
            "Value for life\n",
            "For you and me\n",
            "Tieto is here allright!\n"
          ]
        }
      ],
      "source": [
        "# Part04_25.PrintingASpecifiedFile\n",
        "url = \"/content/gdrive/MyDrive/Colab Notebooks/Datos\"\n",
        "\n",
        "song = input(\"Which file should have its contents printed? \")\n",
        "\n",
        "with open(f\"{url}/{song}\", \"r\") as infile:\n",
        "    file_data = infile.read()\n",
        "    print(file_data)"
      ]
    },
    {
      "cell_type": "markdown",
      "source": [
        "#### Read in [python line by line](https://www.geeksforgeeks.org/read-a-file-line-by-line-in-python/)"
      ],
      "metadata": {
        "id": "pPMAq6QDBIaB"
      }
    },
    {
      "cell_type": "code",
      "source": [
        "# Part04_25.PrintingASpecifiedFile opcio 2 amb un loop per crear una\n",
        "# llista de cada linea i un un loop per imprimir cada linea\n",
        "url = \"/content/gdrive/MyDrive/Colab Notebooks/Datos\"\n",
        "\n",
        "song = input(\"Which file should have its contents printed? \")\n",
        "# listSongLines = []\n",
        "count = 0\n",
        "with open(f\"{url}/{song}\", \"r\") as infile:\n",
        "  listSongLines = infile.readlines()\n",
        "  for line in listSongLines:\n",
        "        count += 1\n",
        "        print(\"Line{}: {}\".format(count, line.strip()))\n",
        "  \n",
        "for line in listSongLines:\n",
        "  print(line.strip())"
      ],
      "metadata": {
        "id": "SvAoTZtsAP5a"
      },
      "execution_count": null,
      "outputs": []
    },
    {
      "cell_type": "code",
      "execution_count": null,
      "metadata": {
        "id": "Hv0Dzwvdxn4q",
        "colab": {
          "base_uri": "https://localhost:8080/"
        },
        "outputId": "74f574c4-7dff-4f79-b350-e806b6cddc40"
      },
      "outputs": [
        {
          "output_type": "stream",
          "name": "stdout",
          "text": [
            "Name of the file: names.txt\n",
            "Enter names, an empty line quits: alex\n",
            "True\n",
            "The name is on the list.\n",
            "Enter names, an empty line quits: \n",
            "False\n",
            "Thank you!\n"
          ]
        }
      ],
      "source": [
        "# Part04_26.GuestListFromAFile\n",
        "url = \"/content/gdrive/MyDrive/Colab Notebooks/Datos\"\n",
        "\n",
        "fileData = input(\"Name of the file: \")\n",
        "with open(f\"{url}/{fileData}\", \"r\") as infile:\n",
        "  listOfNames = infile.readlines()\n",
        "\n",
        "CleanListOfNames = []\n",
        "\n",
        "for i in range(len(listOfNames)):\n",
        "    CleanListOfNames.append(listOfNames[i].strip()) #Elimina tots els caracters menys el nom ada\\n --> ada\n",
        "\n",
        "\n",
        "while True:\n",
        "  nom = input(\"Enter names, an empty line quits: \")\n",
        "  #print(nom in CleanListOfNames) #Print a True or False\n",
        "  if not nom:\n",
        "    break\n",
        "  if nom in CleanListOfNames:\n",
        "    print(\"The name is on the list.\")\n",
        "  else:    \n",
        "    print(\"The name is not on the list.\")\n",
        "print(\"Thank you!\")"
      ]
    },
    {
      "cell_type": "code",
      "execution_count": null,
      "metadata": {
        "id": "N5w45KZzxn2S",
        "colab": {
          "base_uri": "https://localhost:8080/"
        },
        "outputId": "39809f08-0796-4586-c27d-ed4272b1651e"
      },
      "outputs": [
        {
          "output_type": "stream",
          "name": "stdout",
          "text": [
            "Name of the file: names.txt\n",
            "Search for:ada\n",
            "['ada\\n', 'arto\\n', 'leena\\n', 'test\\n', 'leo\\n', 'jarmo\\n', 'alicia\\n', 'alex\\n', 'patricia\\n', 'salvador\\n']\n",
            "['ada', 'arto', 'leena', 'test', 'leo', 'jarmo', 'alicia', 'alex', 'patricia', 'salvador']\n",
            "Found!\n"
          ]
        }
      ],
      "source": [
        "# Part04_27.IsItInTheFile\n",
        "fileData = input(\"Name of the file: \")\n",
        "nom = input(\"Search for:\")\n",
        "url = \"/content/gdrive/MyDrive/Colab Notebooks/Datos\"\n",
        "\n",
        "try:\n",
        "  fileAux = open(f\"{url}/{fileData}\", \"r\")\n",
        "  listNames = fileAux.readlines()\n",
        "\n",
        "  print(listNames) #Debugin\n",
        "\n",
        "  listNamesClean =[]\n",
        "  for name in listNames:\n",
        "    listNamesClean.append(name.strip())\n",
        "\n",
        "  print(listNamesClean) #Debugin\n",
        "\n",
        "  if nom in listNamesClean:\n",
        "    print(\"Found!\")\n",
        "  else:    \n",
        "    print(\"Not found.\")\n",
        "   \n",
        "except:\n",
        "  print(f\"Reading the file {fileData} failed\")\n",
        "\n",
        "finally:\n",
        "  fileAux.close()  \n"
      ]
    },
    {
      "cell_type": "code",
      "execution_count": null,
      "metadata": {
        "id": "3fiUwVLXxp8z",
        "colab": {
          "base_uri": "https://localhost:8080/"
        },
        "outputId": "cc700e3a-7a34-4453-9886-7c7e68fcc2ba"
      },
      "outputs": [
        {
          "output_type": "stream",
          "name": "stdout",
          "text": [
            "Name of the file: numbers-2.txt\n",
            "Lower bound? 10\n",
            "Upper bound? 70\n",
            "Numbers:  2\n"
          ]
        }
      ],
      "source": [
        "# Part04_28.NumbersFromAFile\n",
        "\n",
        "fileData = input(\"Name of the file: \")\n",
        "lowerBound = int(input(\"Lower bound? \"))\n",
        "upperBound = int(input(\"Upper bound? \"))\n",
        "\n",
        "url = \"/content/gdrive/MyDrive/Colab Notebooks/Datos\"\n",
        "\n",
        "with open(f\"{url}/{fileData}\" , \"r\") as infile:\n",
        "  listNumbers = infile.readlines()\n",
        "\n",
        "listNumbersClean = []\n",
        "for number in listNumbers:\n",
        "  listNumbersClean.append(int(number.strip()))\n",
        "# listNumbersClean.sort()  It is not necessary to sort the list\n",
        "\n",
        "del listNumbers  \n",
        "count = 0\n",
        "for number in listNumbersClean:\n",
        "  if number >= lowerBound and number <= upperBound:\n",
        "    count += 1\n",
        "print(\"Numbers: \" , count)\n"
      ]
    },
    {
      "cell_type": "markdown",
      "source": [
        "#### An Empty Line In a File\n",
        "\n",
        "Sometimes an empty line finds it way into a file. Skipping an empty line can be done using the command continue and the isEmpty-method of the string.\n",
        "\n",
        "if (line.isEmpty()) {\n",
        "    continue;\n",
        "}"
      ],
      "metadata": {
        "id": "_fu50CVGSq6e"
      }
    },
    {
      "cell_type": "markdown",
      "source": [
        "#### Reading Data of a Specific Format From a File\n",
        "The world is full of data that are related to other data — these form collections. For example, personal information can include a name, date of birth and a phone number. Address information, on the other hand, can include a country, city, street address, postal number and so on.\n",
        "\n",
        "Data is often stored in files using a specific format. One such format that's already familiar to us is comma-separated values (CSV) format, i.e., data separated by commas."
      ],
      "metadata": {
        "id": "tExtYNzFDBCX"
      }
    },
    {
      "cell_type": "markdown",
      "source": [
        "![ReadingDataSpecificFormat.PNG](data:image/png;base64,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)"
      ],
      "metadata": {
        "id": "YGJCIVGGUE9F"
      }
    },
    {
      "cell_type": "code",
      "execution_count": null,
      "metadata": {
        "id": "-QOcfgwlxp7G",
        "colab": {
          "base_uri": "https://localhost:8080/"
        },
        "outputId": "33b861cc-cc03-49bf-eacc-cced6f6c35f7"
      },
      "outputs": [
        {
          "output_type": "stream",
          "name": "stdout",
          "text": [
            "Name of the file:data.txt\n",
            "lily, age 3\n",
            "anton, age 5\n",
            "levi, age 4\n",
            "amy, age 1\n"
          ]
        }
      ],
      "source": [
        "# Part04_29.RecordsFromAFile\n",
        "\n",
        "nameFile = input(\"Name of the file:\")\n",
        "url = \"/content/gdrive/MyDrive/Colab Notebooks/Datos\"\n",
        "\n",
        "try:\n",
        "  openFile = open(f\"{url}/{nameFile}\", \"r\")\n",
        "  llistaNameYear = openFile.readlines()\n",
        "\n",
        "except:\n",
        "  print(\"Somthing wrong with the file.\") \n",
        "\n",
        "else:\n",
        "  llistaNameYearClean = []\n",
        "\n",
        "  for line in llistaNameYear:\n",
        "    llistaNameYearClean.append(line.strip())\n",
        "\n",
        "  for line in llistaNameYearClean:\n",
        "    nameYearSplit = line.split(',')\n",
        "    print(f\"{nameYearSplit[0]}, age {nameYearSplit[1]}\") \n",
        "\n",
        "finally:\n",
        "  openFile.close()\n"
      ]
    },
    {
      "cell_type": "markdown",
      "source": [
        "#### Reading Objects From a File\n",
        "\n",
        "Creating objects from data that is read from a file is straightforward. Let's assume that we have a class called Person, as well as the data from before.\n",
        "\n",
        "Reading objects can be done like so:"
      ],
      "metadata": {
        "id": "hRBa9144DFZZ"
      }
    },
    {
      "cell_type": "markdown",
      "source": [
        "![ReadinObjectsFromFile.PNG](data:image/png;base64,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)"
      ],
      "metadata": {
        "id": "GCvePCH2gqGb"
      }
    },
    {
      "cell_type": "code",
      "source": [
        "print(DATADIR)"
      ],
      "metadata": {
        "colab": {
          "base_uri": "https://localhost:8080/"
        },
        "id": "uN6zWDspxNp5",
        "outputId": "4448dc7f-79d3-472d-cdba-741b23e64dae"
      },
      "execution_count": null,
      "outputs": [
        {
          "output_type": "stream",
          "name": "stdout",
          "text": [
            "/content/gdrive/MyDrive\n"
          ]
        }
      ]
    },
    {
      "cell_type": "markdown",
      "source": [
        "* [Error not defined](https://careerkarma.com/blog/python-nameerror-name-is-not-defined/)"
      ],
      "metadata": {
        "id": "PbhmXDvlb2zQ"
      }
    },
    {
      "cell_type": "code",
      "execution_count": null,
      "metadata": {
        "id": "lVAZpwYSxp1t"
      },
      "outputs": [],
      "source": [
        "# Part04_30.StoringRecords\n",
        "\n",
        "# First define the Class\n",
        "class Person:\n",
        "  def __init__(self, name, age):\n",
        "    self.name = name\n",
        "    self.age = age\n",
        "\n",
        "  def getName (self):\n",
        "    return self.name\n",
        "\n",
        "  def getAge (self):\n",
        "    return self.age\n",
        "\n",
        "  def __str__(self):\n",
        "    return f\"{self.name}, age: {self.age}\"\n",
        "\n",
        "# Second define the method in order to the code read it beforr to coll it\n",
        "# To avoid error type methode not defined\n",
        "\n",
        "def readRecordsFromFile(fileName):\n",
        "  url = \"/content/gdrive/MyDrive/Colab Notebooks/Datos\"\n",
        "  persons = []\n",
        "  try:\n",
        "    openFile = open(f\"{url}/{fileName}\", \"r\")\n",
        "    llistaNameAge = openFile.readlines()\n",
        "\n",
        "  except:\n",
        "    print (\"Something wrong with the file: \")\n",
        "\n",
        "  else:\n",
        "    llistaNameAgeClean = []\n",
        "\n",
        "    for line in llistaNameAge:\n",
        "      llistaNameAgeClean.append(line.strip())\n",
        "    for line in llistaNameAgeClean:\n",
        "      nameAgeSplit = line.split(',')\n",
        "      # print(nameAgeSplit[0],nameAgeSplit[1])\n",
        "      name = nameAgeSplit[0]\n",
        "      age = nameAgeSplit[1]\n",
        "      objectPerson = Person(name, age)\n",
        "      persons.append(objectPerson)\n",
        "\n",
        "    return persons  \n",
        "\n",
        "  finally:\n",
        "    openFile.close()\n",
        "\n",
        "# Execute the main code\n",
        "fileNameInput = input(\"Filename: \")\n",
        "records = readRecordsFromFile(fileNameInput)\n",
        "\n",
        "print(f\"Persons: {len(records)}\")\n",
        "print(\"Persons: \")\n",
        "for person in records:\n",
        "  print(person.name)\n"
      ]
    },
    {
      "cell_type": "code",
      "source": [
        "# Mount our Google Drive to our working directory in order to acces to the Data \n",
        "# folder and be able to save and read our files.\n",
        "\n",
        "import os\n",
        "from google.colab import drive\n",
        " \n",
        "MOUNTPOINT = \"/content/gdrive\"\n",
        "DATADIR = os.path.join(MOUNTPOINT, \"MyDrive\")\n",
        "drive.mount(MOUNTPOINT)\n",
        "\n",
        "url = \"/content/gdrive/MyDrive/Colab Notebooks/Datos\""
      ],
      "metadata": {
        "id": "x3aFEPoFvk4d"
      },
      "execution_count": null,
      "outputs": []
    },
    {
      "cell_type": "code",
      "execution_count": null,
      "metadata": {
        "id": "Tx_vb1Ok5_o2",
        "colab": {
          "base_uri": "https://localhost:8080/"
        },
        "outputId": "053d6307-133f-4328-fd37-b57881a29525"
      },
      "outputs": [
        {
          "output_type": "stream",
          "name": "stdout",
          "text": [
            "File: datateams.txt\n",
            "Team: SJ\n",
            "Games: 2\n",
            "Win: 0\n",
            "Losses: 2\n"
          ]
        }
      ],
      "source": [
        "# Part04_31.SportStatistics\n",
        "# datateams.txt\n",
        "class Statistics:\n",
        "\n",
        "  def __init__(self, homeTeam, visitTeam, homeScoreTeam, visitScoreTeam):\n",
        "    self.home = homeTeam\n",
        "    self.visit = visitTeam\n",
        "    self.homeScore = homeScoreTeam\n",
        "    self.visitScore = visitScoreTeam\n",
        "\n",
        "  def getHomeTeam(self):\n",
        "    return self.home\n",
        "\n",
        "  def getVisitTeam(self):\n",
        "    return self.visit\n",
        "\n",
        "  def getHomeScoreTeam(self):\n",
        "    return self.homeScore\n",
        "\n",
        "  def getVisitScoreTeam(self):\n",
        "    return self.visitScore\n",
        "\n",
        "  def __str__(self):\n",
        "    return f\"{self.home}, {self.visit}, {self.homeScore}, {self.visitScore}\"\n",
        "\n",
        "# Method runing a Try Except Else Finally to get the mesage of any file problem to\n",
        "# create a list of objects Statistics.\n",
        "def readRecordsFromFile(fileCsv):\n",
        "  listNewObjects = []\n",
        "  try:\n",
        "    readFile = open(f\"{url}/{fileCsv}\", \"r\")\n",
        "    listLines = readFile.readlines()\n",
        "  except:\n",
        "    print(\"Sorry, Error in file.\")\n",
        "\n",
        "  else:\n",
        "    partsComp = [line.strip() for line in listLines]\n",
        "    for parts in partsComp:\n",
        "      part = parts.split(\",\")\n",
        "      home = part[0]\n",
        "      visit = part[1]\n",
        "      homeScore = int(part[2])\n",
        "      visitScore = int(part[3])\n",
        "      newObject = Statistics(home, visit, homeScore, visitScore)  \n",
        "      listNewObjects.append(newObject)\n",
        "\n",
        "    return listNewObjects\n",
        "\n",
        "  finally:\n",
        "    readFile.close()\n",
        "\n",
        "# Method where a With() is used to open the file and close it after the transformation \n",
        "# in a listRecords list.\n",
        "def readRecordsFromFileUpdated(fileCsv):\n",
        "  listNewObjects = []\n",
        "  with open(f\"{url}/{fileCsv}\", \"r\") as readFile:\n",
        "    listRecords = [line.rstrip('\\n') for line in readFile]\n",
        "   \n",
        "  for line in listRecords:\n",
        "    partsLine = line.split(\",\")\n",
        "    home = partsLine[0]\n",
        "    visit = partsLine[1]\n",
        "    homeScore = int(partsLine[2])\n",
        "    visitScore = int(partsLine[3])\n",
        "    newObject = Statistics(home, visit, homeScore, visitScore)\n",
        "    listNewObjects.append(newObject)\n",
        "\n",
        "  return listNewObjects\n",
        "\n",
        "\n",
        "def games(team, listRecords):\n",
        "  games = 0\n",
        "  for objects in listRecords:\n",
        "    if objects.getHomeTeam() == team or objects.getVisitTeam() == team:\n",
        "      games += 1\n",
        "  return games\n",
        "\n",
        "\n",
        "def winLoss(team, listRecords):\n",
        "  win = 0\n",
        "  for objects in listRecords:\n",
        "    if (objects.getHomeTeam()==team and objects.getHomeScoreTeam() > objects.getVisitScoreTeam()) or (objects.getVisitTeam()==team and objects.getVisitScoreTeam() > objects.getHomeScoreTeam()):\n",
        "      win += 1\n",
        "\n",
        "  loss = games(team, listRecords)-win \n",
        "  return win , loss\n",
        "\n",
        "fileCsv = input(\"File: \")\n",
        "team = input(\"Team: \")\n",
        "listRecords = readRecordsFromFile(fileCsv)\n",
        "gamesCount = games(team, listRecords)\n",
        "winlossCount = winLoss(team, listRecords)\n",
        "print(f\"Games: {gamesCount}\")\n",
        "print(f\"Win: {winlossCount[0]}\")\n",
        "print(f\"Losses: {winlossCount[1]}\")\n"
      ]
    },
    {
      "cell_type": "markdown",
      "metadata": {
        "id": "id0HHq0f6JcF"
      },
      "source": [
        "## Part 5"
      ]
    },
    {
      "cell_type": "markdown",
      "source": [
        "### 1-Learning object-oriented programming"
      ],
      "metadata": {
        "id": "mdCFjiuxoqvn"
      }
    },
    {
      "cell_type": "markdown",
      "source": [
        "Part05_01.OneMinute. \n",
        "The timer has two hands, one for hundredths of a second and one for seconds. As it progresses, the number of hundredths of a second grows by one. When the hand corresponding to hundredths of a second reaches a value of 100, its value is set to zero, and the number of seconds grows by one. In the same way, when the value of the hand corresponding to seconds reaches the value of sixty, its value is set to zero."
      ],
      "metadata": {
        "id": "FGaX7Ttplwhd"
      }
    },
    {
      "cell_type": "code",
      "source": [
        "# Part05_01.OneMinute\n",
        "import time\n",
        "\n",
        "class ClockHand():\n",
        "\n",
        "  def __init__ (self, limit):\n",
        "    self.limit = limit\n",
        "    self.value = 0\n",
        "\n",
        "  def advance(self):\n",
        "    self.value +=1\n",
        "    if self.value >= self.limit:\n",
        "      self.value = 0\n",
        "\n",
        "  def getValue(self):\n",
        "    return self.value\n",
        " \n",
        "  def __str__(self):\n",
        "    if self.value < 10:\n",
        "      return f\"0{self.value}\"\n",
        "    return f\"{self.value}\"\n",
        "\n",
        "class Timer():\n",
        "\n",
        "  def __init__(self):\n",
        "    self.seconds = ClockHand(60)\n",
        "    self.hundredSeconds = ClockHand(100)\n",
        "\n",
        "  def advance(self):\n",
        "    self.hundredSeconds.advance()\n",
        "    if self.hundredSeconds.getValue() == 0:\n",
        "      self.seconds.advance()\n",
        "    \n",
        "  def __str__(self):\n",
        "    return f\"{self.seconds}:{self.hundredSeconds}\"\n",
        "    \n",
        "\n",
        "      \n",
        "timer = Timer()\n",
        "while True:\n",
        "  print(timer)\n",
        "  timer.advance()\n",
        "\n",
        "try:\n",
        "  time.sleep(1)\n",
        "except:\n",
        "  print(\"Error\")    \n",
        "\n",
        "# The program above will never stop running by itself. Press the red circle to the\n",
        "# left of the program's cell to turn it off.\n"
      ],
      "metadata": {
        "id": "XTMLtWxqmRnb"
      },
      "execution_count": null,
      "outputs": []
    },
    {
      "cell_type": "markdown",
      "source": [
        "#### Objeto\n",
        "\n",
        "Un objeto se refiere a una entidad independiente que contiene **datos (variables de instancia)** y **comportamiento (métodos)**. Los objetos pueden presentarse en muchas formas diferentes: algunos pueden describir conceptos del dominio del problema, otros se usan para coordinar la interacción que ocurre entre los objetos. Los objetos interactúan entre sí a través de llamadas a métodos: estas llamadas a métodos se utilizan tanto para solicitar información de los objetos como para darles instrucciones.\n",
        "**El estado de un objeto** es el valor de sus variables internas en cualquier momento dado."
      ],
      "metadata": {
        "id": "zIFnoGpexCg4"
      }
    },
    {
      "cell_type": "markdown",
      "source": [
        "#### Clase\n",
        "\n",
        "Una clase define los tipos de objetos que se pueden crear a partir de ella. Contiene **variables de instancia** que describen los datos del objeto, un **constructor o constructores** utilizados para crearlo y **métodos** que definen su comportamiento.\n",
        "Algunos de los métodos definidos anteriormente no devuelven un valor (métodos que tienen la palabra clave **void** en su definición), mientras que otros sí lo hacen (métodos que especifican el tipo de variable a devolver). La clase anterior también define el **toString** método, que devuelve la cadena utilizada para imprimir el objeto.\n"
      ],
      "metadata": {
        "id": "NxJsqqxqxZua"
      }
    },
    {
      "cell_type": "code",
      "source": [
        "# Part05_02.Book\n",
        "\n",
        "class Book():\n",
        "\n",
        "  def __init__(self, author, title, pages):\n",
        "    self.author = author\n",
        "    self.title = title\n",
        "    self.pages = pages\n",
        "\n",
        "  def getAuthor (self):\n",
        "    return self.author\n",
        "\n",
        "  def getTitle(self):\n",
        "    return self.title\n",
        "\n",
        "  def getPages(self):\n",
        "    return self.pages\n",
        "\n",
        "  def __str__(self):\n",
        "    return f\"{self.author}, {self.title}, {self.pages} pages\"      \n",
        "      \n",
        "newbook = Book(\"J. K. Rowling\", \"Harry Potter and the Sorcerer's Stone\", 223)\n",
        "print(newbook)      \n"
      ],
      "metadata": {
        "id": "zyU-sKkomSBU",
        "colab": {
          "base_uri": "https://localhost:8080/"
        },
        "outputId": "706f19d3-6f01-4907-8aaa-4147671ea782"
      },
      "execution_count": null,
      "outputs": [
        {
          "output_type": "stream",
          "name": "stdout",
          "text": [
            "J. K. Rowling, Harry Potter and the Sorcerer's Stone, 223 pages\n"
          ]
        }
      ]
    },
    {
      "cell_type": "code",
      "source": [
        "# Part05_03.Cube\n",
        "\n",
        "class Cube():\n",
        "\n",
        "  def __init__(self, edgeLength):\n",
        "    self.edgeLength = edgeLength\n",
        "\n",
        "  def volume(self):\n",
        "    return self.edgeLength * self.edgeLength * self.edgeLength\n",
        "\n",
        "  def __str__(self):\n",
        "    return f\"The length of the edge is {self.edgeLength} and the volume {self.volume()}\"\n",
        "\n",
        "edge = int(input(\"Edge Length: \"))\n",
        "cube = Cube(edge)\n",
        "print(cube)\n"
      ],
      "metadata": {
        "id": "c-sDdWjrmR-6",
        "colab": {
          "base_uri": "https://localhost:8080/"
        },
        "outputId": "f3355ee6-653a-42c7-b82f-7f6fe7fe147d"
      },
      "execution_count": null,
      "outputs": [
        {
          "output_type": "stream",
          "name": "stdout",
          "text": [
            "Edge Length: 8\n",
            "The length of the edge is 8 and the volume 512\n"
          ]
        }
      ]
    },
    {
      "cell_type": "code",
      "source": [
        "# Part05_04.Fitbyte\n",
        "\n",
        "class Fitbyte():\n",
        "\n",
        "  def __init__(self, age, restingHeartRate):\n",
        "    self.age = age\n",
        "    self.resting = restingHeartRate\n",
        "\n",
        "  def targetHeartRate(self, percentage):\n",
        "    maximumHeartRate = 206.3 - (0.711 * self.age)\n",
        "    targetHeartRate = ((maximumHeartRate - self.resting) * (percentage) + self.resting)\n",
        "    return targetHeartRate\n",
        "\n",
        "assistan = Fitbyte(30,60)\n",
        "percentage = 0.5\n",
        "while percentage < 1.0:\n",
        "  target = assistan.targetHeartRate(percentage)\n",
        "  print(f\"Target {percentage * 100} % of maximun: {target}\")\n",
        "  percentage = percentage + 0.1\n"
      ],
      "metadata": {
        "id": "bXGKzBGAmR6x",
        "colab": {
          "base_uri": "https://localhost:8080/"
        },
        "outputId": "02049070-b2dc-44bc-917f-8b78951bdbdd"
      },
      "execution_count": null,
      "outputs": [
        {
          "output_type": "stream",
          "name": "stdout",
          "text": [
            "Target 50.0 % of maximun: 122.48500000000001\n",
            "Target 60.0 % of maximun: 134.98200000000003\n",
            "Target 70.0 % of maximun: 147.479\n",
            "Target 80.0 % of maximun: 159.976\n",
            "Target 89.99999999999999 % of maximun: 172.473\n",
            "Target 99.99999999999999 % of maximun: 184.97000000000003\n"
          ]
        }
      ]
    },
    {
      "cell_type": "markdown",
      "source": [
        "### 2-Removing repetitive code (overloading methods and constructors)\n",
        "[Real Python](https://realpython.com/python-multiple-constructors/)"
      ],
      "metadata": {
        "id": "bwurny87oxaR"
      }
    },
    {
      "cell_type": "markdown",
      "source": [
        "##### Using Optional Argument Values in .__init__()\n",
        "A pretty useful technique for simulating multiple constructors in a Python class is to provide .__init__() with **optional argument** using **default argument values**. This way, you can call the class constructor in different ways and get a different behavior each time.\n",
        "\n",
        "An elegant and Pythonic way to simulate multiple constructors is to implement a .__init__() method with optional arguments. You can do this by specifying appropriate [default argument values](https://realpython.com/defining-your-own-python-function/#default-parameters)\n",
        "\n"
      ],
      "metadata": {
        "id": "TpQfcv2nCJaC"
      }
    },
    {
      "cell_type": "code",
      "source": [
        "def f(qty=6, item='bananas', price=1.74):\n",
        "  print(f'{qty} {item} cost ${price:.2f}')\n",
        "f(4, 'apples', 2.24)\n",
        "f(4, 'apples')\n",
        "f(4)\n",
        "f(item='kumquats', qty=9)\n",
        "f(price=2.29)"
      ],
      "metadata": {
        "colab": {
          "base_uri": "https://localhost:8080/"
        },
        "id": "dx8hJ2ikDkj4",
        "outputId": "fef8e145-8739-48a8-c504-6b6b90739542"
      },
      "execution_count": null,
      "outputs": [
        {
          "output_type": "stream",
          "name": "stdout",
          "text": [
            "4 apples cost $2.24\n",
            "4 apples cost $1.74\n",
            "4 bananas cost $1.74\n",
            "9 kumquats cost $1.74\n",
            "6 bananas cost $2.29\n"
          ]
        }
      ]
    },
    {
      "cell_type": "code",
      "source": [
        "def add(a: int, b: int) -> int:\n",
        "  return a+b"
      ],
      "metadata": {
        "id": "nKxC9FPbJwsr"
      },
      "execution_count": null,
      "outputs": []
    },
    {
      "cell_type": "code",
      "source": [
        "def concat(*args):\n",
        "  print(f'-> {\".\".join(args)}')\n",
        "\n",
        "concat('a', 'b', 'c')\n",
        "concat('foo', 'bar', 'baz', 'qux')\n"
      ],
      "metadata": {
        "colab": {
          "base_uri": "https://localhost:8080/"
        },
        "id": "wxGROKFNCxJw",
        "outputId": "6513be4f-db44-4e3e-fbf3-8639ed66d10a"
      },
      "execution_count": null,
      "outputs": [
        {
          "output_type": "stream",
          "name": "stdout",
          "text": [
            "-> a.b.c\n",
            "-> foo.bar.baz.qux\n"
          ]
        }
      ]
    },
    {
      "cell_type": "code",
      "source": [
        "class CumulativePowerFactory:\n",
        "    def __init__(self, exponent=2, *, start=0):\n",
        "        self._exponent = exponent\n",
        "        self.total = start\n",
        "\n",
        "    def __call__(self, base):\n",
        "        power = base ** self._exponent\n",
        "        self.total += power\n",
        "        return power\n",
        "\n",
        "square = CumulativePowerFactory()\n",
        "print(square(21))\n",
        "print(square(42))\n",
        "print(square.total)\n",
        "cube = CumulativePowerFactory(exponent=3)\n",
        "print(cube(21))\n",
        "print(cube(42))\n",
        "print(cube.total)\n",
        "initialized_cube = CumulativePowerFactory(exponent=3, start=2205)\n",
        "print(initialized_cube(21))\n",
        "print(initialized_cube(42))\n",
        "print(initialized_cube.total)"
      ],
      "metadata": {
        "colab": {
          "base_uri": "https://localhost:8080/"
        },
        "id": "vxHFaPG9LS9z",
        "outputId": "f108df37-6fb8-4b4b-db97-eb19337c8d9e"
      },
      "execution_count": null,
      "outputs": [
        {
          "output_type": "stream",
          "name": "stdout",
          "text": [
            "441\n",
            "1764\n",
            "2205\n",
            "9261\n",
            "74088\n",
            "83349\n",
            "9261\n",
            "74088\n",
            "85554\n"
          ]
        }
      ]
    },
    {
      "cell_type": "markdown",
      "source": [
        "##### Checking Argument Types in .__init__()\n",
        "Another strategy is to check the **data type** of the arguments to .__init__() to provide different behaviors depending on the concrete data type that you pass in the call. This technique allows you to simulate multiple constructors in a class."
      ],
      "metadata": {
        "id": "ckPc3NQxCa-p"
      }
    },
    {
      "cell_type": "markdown",
      "source": [
        ""
      ],
      "metadata": {
        "id": "PrkhDN_qMhEj"
      }
    },
    {
      "cell_type": "code",
      "source": [
        "from datetime import date\n",
        "class Person:\n",
        "  def __init__(self, name, birth_date):\n",
        "    self.name = name\n",
        "    if isinstance(birth_date, date):\n",
        "      self.birth_date = birth_date\n",
        "    elif isinstance(birth_date, str):\n",
        "      self.birth_date = date.fromisoformat(birth_date)\n",
        "    else:\n",
        "      raise ValueError(f\"unsupported date format: {birth_date}\")\n",
        "\n",
        "jane = Person(\"Jane Doe\", \"2000-11-29\")\n",
        "print(jane.birth_date)\n",
        "john = Person(\"John Doe\", date(1998, 5, 15))\n",
        "print(john.birth_date)\n",
        "linda = Person(\"Linda Smith\", 1011222000) # this line will rise a error value"
      ],
      "metadata": {
        "id": "c4hAK1DaMgo7"
      },
      "execution_count": null,
      "outputs": []
    },
    {
      "cell_type": "markdown",
      "source": [
        "##### Providing Multiple Constructors With @classmethod in Python\n",
        "\n",
        "A powerful technique for providing multiple constructors in Python is to use @classmethod. This decorator allows you to turn a regular method into a class method."
      ],
      "metadata": {
        "id": "hzlKtJw8OT0M"
      }
    },
    {
      "cell_type": "code",
      "source": [
        "# Here’s the basic syntax to define a class method:\n",
        "class DemoClass:\n",
        "  @classmethod\n",
        "  def class_method(cls):\n",
        "    print(f\"A class method from {cls.__name__}!\")\n",
        "DemoClass.class_method()\n",
        "demo = DemoClass()\n",
        "demo.class_method()   "
      ],
      "metadata": {
        "colab": {
          "base_uri": "https://localhost:8080/"
        },
        "id": "bFadhnlNMgWV",
        "outputId": "3902f913-6425-4597-a100-e682fcf799d8"
      },
      "execution_count": null,
      "outputs": [
        {
          "output_type": "stream",
          "name": "stdout",
          "text": [
            "A class method from DemoClass!\n",
            "A class method from DemoClass!\n"
          ]
        }
      ]
    },
    {
      "cell_type": "markdown",
      "source": [
        "###### Constructing a Circle From Its Diameter\n",
        "To create your first class constructor with @classmethod, say you’re coding a geometry-related application and need a Circle class. Initially, you define your class as follows:\n"
      ],
      "metadata": {
        "id": "RyNgiFi7U4rl"
      }
    },
    {
      "cell_type": "code",
      "source": [
        "import math\n",
        "\n",
        "class Circle:\n",
        "    def __init__(self, radius):\n",
        "        self.radius = radius\n",
        "\n",
        "    def area(self):\n",
        "        return math.pi * self.radius ** 2\n",
        "\n",
        "    def perimeter(self):\n",
        "        return 2 * math.pi * self.radius\n",
        "\n",
        "    def __repr__(self):\n",
        "        return f\"{self.__class__.__name__}(radius={self.radius})\"\n",
        "circle = Circle(42)\n",
        "print(circle)\n",
        "print(circle.area())\n",
        "print(circle.perimeter())    "
      ],
      "metadata": {
        "colab": {
          "base_uri": "https://localhost:8080/"
        },
        "id": "dH8lj-G1Uct9",
        "outputId": "0dae0bd4-75ba-4d9c-8b5b-5921772bc748"
      },
      "execution_count": null,
      "outputs": [
        {
          "output_type": "stream",
          "name": "stdout",
          "text": [
            "Circle(radius=42)\n",
            "5541.769440932395\n",
            "263.89378290154264\n"
          ]
        }
      ]
    },
    {
      "cell_type": "markdown",
      "source": [
        "The initializer of Circle takes a radius value as an argument and stores it in an instance attribute called .radius. Then the class implements methods to compute the circle’s area and perimeter using Python’s math module. The special method .**__repr__()** returns a suitable string representation for your class."
      ],
      "metadata": {
        "id": "pqam1aLEVJpG"
      }
    },
    {
      "cell_type": "markdown",
      "source": [
        "Cool! Your class works correctly! Now say that you also want to instantiate Circle using the diameter. You can do something like Circle(diameter / 2), but that’s not quite Pythonic or intuitive. It’d be better to have an alternative constructor to create circles by using their diameter directly.\n",
        "\n",
        "Go ahead and add the following class method to Circle right after .__init__():"
      ],
      "metadata": {
        "id": "4f-PZT4JVyQu"
      }
    },
    {
      "cell_type": "code",
      "source": [
        "class Circle:\n",
        "    def __init__(self, radius):\n",
        "        self.radius = radius\n",
        "\n",
        "    @classmethod\n",
        "    def from_diameter(cls, diameter):\n",
        "        return cls(radius=diameter / 2)    \n",
        "\n",
        "    def area(self):\n",
        "        return math.pi * self.radius ** 2\n",
        "\n",
        "    def perimeter(self):\n",
        "        return 2 * math.pi * self.radius\n",
        "\n",
        "    def __repr__(self):\n",
        "        return f\"{self.__class__.__name__}(radius={self.radius})\"\n",
        "        \n",
        "circle = Circle(42)\n",
        "print(circle)\n",
        "print(circle.area())\n",
        "print(circle.perimeter())\n",
        "print(Circle.from_diameter(84))\n",
        "print(circle.area())\n",
        "print(circle.perimeter())"
      ],
      "metadata": {
        "colab": {
          "base_uri": "https://localhost:8080/"
        },
        "id": "0NMDMBdgV3n-",
        "outputId": "11c7c4fa-c737-4849-bbb8-1e1e8294efe6"
      },
      "execution_count": null,
      "outputs": [
        {
          "output_type": "stream",
          "name": "stdout",
          "text": [
            "Circle(radius=42)\n",
            "5541.769440932395\n",
            "263.89378290154264\n",
            "Circle(radius=42.0)\n",
            "5541.769440932395\n",
            "263.89378290154264\n"
          ]
        }
      ]
    },
    {
      "cell_type": "markdown",
      "source": [
        ""
      ],
      "metadata": {
        "id": "q6YI919VWzq1"
      }
    },
    {
      "cell_type": "markdown",
      "source": [
        "Here, you define .from_diameter() as a class method. Its first argument receives a reference to the containing class, Circle.\n",
        "\n",
        "The second argument holds the diameter of the specific circle that you want to create. Inside the method, you first calculate the radius using the input value of diameter. Then you instantiate Circle by calling cls with the radius that results from the diameter argument.\n",
        "\n",
        "This way, you’re in full control of creating and initializing the instances of Circle using the diameter as an argument.\n",
        "The call to .from_diameter() on Circle returns a new instance of the class. To construct that instance, the method uses the diameter instead of the radius. Note that the rest of the functionality of Circle works the same as before.\n",
        "\n",
        "Using @classmethod as you did in the example above is the most common way to provide explicit multiple constructors in your classes. With this technique, you have the option to select the right name for each alternative constructor that you provide, which can make your code more readable and maintainable."
      ],
      "metadata": {
        "id": "dngkWhx2WWbO"
      }
    },
    {
      "cell_type": "markdown",
      "source": [
        "##### Exploring Multiple Constructors in Existing Python Classes"
      ],
      "metadata": {
        "id": "qUc147cSXRPu"
      }
    },
    {
      "cell_type": "code",
      "source": [
        "# Part05_05.ConstructorOverload\n",
        "\n",
        "class Product():\n",
        "\n",
        "  def __init__(self, name: str, location: str, weight: float):\n",
        "    self.name = name\n",
        "    self.location = location\n",
        "    self.weight = weight\n",
        "\n",
        "  @classmethod\n",
        "  def productName (cls, name):\n",
        "    return cls(name, \"shelf\", 1)\n",
        "\n",
        "  @classmethod\n",
        "  def productNameLocation (cls, name, location):\n",
        "    return cls(name, location, 1)\n",
        "\n",
        "  @classmethod\n",
        "  def productNameWeight (cls, name, weight):\n",
        "    return cls(name, \"shelf\", weight)\n",
        "\n",
        "  def __repr__(self):\n",
        "        return f\"{self.__class__.__name__}(name={self.name}, location= {self.location}, weight= {self.weight})\"\n",
        "\n",
        "testProduct = Product(\"CocaTest\", \"shelftest\", 100)\n",
        "tapeMeasure = Product.productName(\"Tape measure\")\n",
        "plaster = Product.productNameLocation(\"Plaster\", \"home improvement section\")\n",
        "tyre = Product.productNameWeight(\"Tyre\", 5)\n",
        "print(testProduct)\n",
        "print(tapeMeasure)\n",
        "print(plaster)\n",
        "print(tyre)"
      ],
      "metadata": {
        "id": "Rwo02RxXmRk6",
        "colab": {
          "base_uri": "https://localhost:8080/"
        },
        "outputId": "8da81f35-4a1d-44e2-a713-aca2adb8c0bd"
      },
      "execution_count": null,
      "outputs": [
        {
          "output_type": "stream",
          "name": "stdout",
          "text": [
            "Product(name=CocaTest, location= shelftest, weight= 100)\n",
            "Product(name=Tape measure, location= shelf, weight= 1)\n",
            "Product(name=Plaster, location= home improvement section, weight= 1)\n",
            "Product(name=Tyre, location= shelf, weight= 5)\n"
          ]
        }
      ]
    },
    {
      "cell_type": "code",
      "source": [
        "# Part05_06.OverloadedCounter\n",
        "\n",
        "class Counter():\n",
        "\n",
        "  def __init__(self, startValue):\n",
        "    self.number = startValue\n",
        "\n",
        "  # create a instance of the class with atribute value = 0 \n",
        "  @classmethod\n",
        "  def Counter(cls):\n",
        "    return cls(0)\n",
        "\n",
        "  # Method like Java public int getvalue() amb return\n",
        "  def getValue(self):\n",
        "    return self.number\n",
        "\n",
        "  # Method Void no return like Java public void increase()\n",
        "  def increase(self, increaseby=None):\n",
        "    if increaseby is not None and increasedBy >=0:\n",
        "      self.number += increaseby\n",
        "    self.number += 1\n",
        "  # Method Void no return like Java public void increase()\n",
        "  def decrease(self, decreaseby=None):\n",
        "    if decreaseby is not None and decreasedBy >=0:\n",
        "      self.number -= decreasedBy\n",
        "    self.number -= 1 \n",
        "\n",
        "\n"
      ],
      "metadata": {
        "id": "RKqf7qWumRiq"
      },
      "execution_count": null,
      "outputs": []
    },
    {
      "cell_type": "markdown",
      "source": [
        "### 3-Primitive and reference variables"
      ],
      "metadata": {
        "id": "lWir6KuXpBsY"
      }
    },
    {
      "cell_type": "markdown",
      "source": [
        "### 4-Objects and references"
      ],
      "metadata": {
        "id": "ahpx-O_ppFxg"
      }
    },
    {
      "cell_type": "code",
      "source": [
        "# Part05_07.NullPointerException\n",
        "# In Python Null is equal no None\n",
        "bar = None\n",
        "print(bar)\n"
      ],
      "metadata": {
        "id": "RyV6MEYumRgJ",
        "colab": {
          "base_uri": "https://localhost:8080/"
        },
        "outputId": "4eb5cd63-0594-46cb-9794-85195e45f912"
      },
      "execution_count": null,
      "outputs": [
        {
          "output_type": "stream",
          "name": "stdout",
          "text": [
            "None\n"
          ]
        }
      ]
    },
    {
      "cell_type": "code",
      "source": [
        "# Part05_08.BiggestPetShop\n",
        "class Pet():\n",
        "  def __init__(self,name, bread):\n",
        "    self.name = name\n",
        "    self.bread = bread\n",
        "  def getName(self):\n",
        "    return self.name\n",
        "  def getBread():\n",
        "    return self.getBread\n",
        "\n",
        "\n",
        "class Person():\n",
        "  def __init__(self, name, Pet):\n",
        "    self.name = name\n",
        "    self.Pet = Pet\n",
        "\n",
        "  def __str__(self):\n",
        "    return f\"{self.name} {self.Pet.name} {self.Pet.bread}\"  \n",
        "\n",
        "hulda = Pet(\"Hulda\", \"Golden retriever\")\n",
        "leo = Person(\"Leo\", hulda)\n",
        "print(leo)\n"
      ],
      "metadata": {
        "id": "mh2qEYbOmRd6",
        "colab": {
          "base_uri": "https://localhost:8080/"
        },
        "outputId": "dda171d7-e660-4b53-f24c-562f0c4c91a1"
      },
      "execution_count": null,
      "outputs": [
        {
          "output_type": "stream",
          "name": "stdout",
          "text": [
            "Leo Hulda Golden retriever\n"
          ]
        }
      ]
    },
    {
      "cell_type": "code",
      "source": [
        "# Part05_09.HealthStation\n",
        "class Person:\n",
        "  def __init__(self, name=str, age=int, heigh=int, weigh=int):\n",
        "    self.name = name\n",
        "    self.age = age\n",
        "    self.heigh = heigh\n",
        "    self.weigh = weigh\n",
        "\n",
        "  def getName(self):\n",
        "    return self.name  \n",
        "  \n",
        "  def getWeigh(self):\n",
        "    return self.weigh\n",
        "  \n",
        "  def setWeigh(self, newWeigh):\n",
        "    self.weigh = newWeigh\n",
        "\n",
        "class HealtStation:\n",
        "   \n",
        "  def __init__(self,name=str):\n",
        "    self.name = name\n",
        "    self.count = 0\n",
        "\n",
        "  def weigh (self, Person):\n",
        "    self.count +=1\n",
        "    return Person.getWeigh()\n",
        "\n",
        "  def feed(self, Person):\n",
        "    Person.setWeigh(Person.getWeigh()+1)  \n",
        "\n",
        "  def weighing(self):\n",
        "    return self.count  \n",
        "\n",
        "childreHospital = HealtStation(\"childrenHospital\")\n",
        "ethan = Person(\"Ethan\", 1, 110, 7)\n",
        "peter = Person(\"Peter\", 33, 176, 85)\n",
        "print(f\"weighing preformed: {childreHospital.weighing()}\")\n",
        "print(f\"{ethan.getName()} weight: {ethan.getWeigh()}\")\n",
        "print(f\"{peter.getName()} weight: {peter.getWeigh()}\")\n",
        "print(f\"{peter.getName()} weight: {peter.getWeigh()}\")\n",
        "print(f\"{ethan.getName()} weight: {childreHospital.weigh(ethan)}\")\n",
        "print(f\"{peter.getName()} weight: {childreHospital.weigh(peter)}\")\n",
        "print(f\"{peter.getName()} weight: {childreHospital.weigh(peter)}\")\n",
        "\n",
        "    \n",
        "print(f\"weighing preformed: {childreHospital.weighing()}\")"
      ],
      "metadata": {
        "id": "D68aqEFsmRbh",
        "colab": {
          "base_uri": "https://localhost:8080/"
        },
        "outputId": "598fdf6f-da16-4c0b-96e0-a72b25243a1c"
      },
      "execution_count": null,
      "outputs": [
        {
          "output_type": "stream",
          "name": "stdout",
          "text": [
            "weighing preformed: 0\n",
            "Ethan weight: 7\n",
            "Peter weight: 85\n",
            "Peter weight: 85\n",
            "Ethan weight: 7\n",
            "Peter weight: 85\n",
            "Peter weight: 85\n",
            "weighing preformed: 3\n"
          ]
        }
      ]
    },
    {
      "cell_type": "markdown",
      "source": [
        "##### IMPORTAN SOLUTION TO OVERLOAD METHODS IN PYTHON USING [ISINSTANCE](https://www.w3schools.com/python/ref_func_isinstance.asp)"
      ],
      "metadata": {
        "id": "OegrYwzhs6c0"
      }
    },
    {
      "cell_type": "code",
      "source": [
        "from types import ClassMethodDescriptorType\n",
        "# Part05_10.CardPayments\n",
        "\n",
        "class PaymentCard():\n",
        "\n",
        "  def __init__(self, balance):\n",
        "    self.balance = balance\n",
        "\n",
        "  def balance(self):\n",
        "    return self.balance\n",
        "\n",
        "  def addMoney(self, increase):\n",
        "    self.balance += increase\n",
        "    #return self.balance\n",
        "\n",
        "  def takeMoney(self, amount):\n",
        "    if self.balance >= amount:\n",
        "      self.balance -= amount\n",
        "      return True\n",
        "    return False  \n",
        "\n",
        "\n",
        "class PaymentTerminal():\n",
        "\n",
        "  def __init__ (self):\n",
        "    self. money = 1000\n",
        "    self.affordableMeals = 0\n",
        "    self.heartMeals = 0\n",
        "\n",
        "  # Method overload. Same method works diferent depending of the type of the parameter used.\n",
        "  def eatAffordably(self, payment):\n",
        "\n",
        "    if isinstance(payment, (float, int)):\n",
        "      if payment >= 2.50:\n",
        "        change = payment - 2.50\n",
        "        self.money +=2.50\n",
        "        self.affordableMeals +=1\n",
        "        return change\n",
        "      return payment\n",
        "\n",
        "    if isinstance(payment, PaymentCard): # The PaymentCard is the type of object we use to pass the if\n",
        "      if payment.balance >= 2.50:\n",
        "        self.affordableMeals +=1\n",
        "      return payment.takeMoney(2.50)\n",
        "\n",
        "  # Method overload. Same method works diferent depending of the paremetre used.\n",
        "  # If the parameter is a number float, works with cash , on the contrary, if the \n",
        "  # parameter is a PaymentCard Object, then use the object methods\n",
        "\n",
        "  def eatHeartily(self, payment):\n",
        "\n",
        "    if isinstance(payment, (float, int)):\n",
        "      if payment >= 4.30:\n",
        "        change = payment - 4.30\n",
        "        self.money += 4.30\n",
        "        self.heartMeals +=1\n",
        "        return change\n",
        "      return payment\n",
        "\n",
        "    if isinstance(payment, object): #The object is the general type we looking for to accept the if\n",
        "      if payment.balance >= 4.30:\n",
        "        self.heartMeals +=1\n",
        "      return payment.takeMoney(4.30)\n",
        "\n",
        "  def addMoneyToCard(self,PaymentCard,sum):\n",
        "    if sum > 0:\n",
        "      PaymentCard.addMoney(sum)\n",
        "      self.money += sum\n",
        "\n",
        "  def __str__(self):\n",
        "    return f\"PaymentTerminal money:{self.money}, Num Affordale: {self.affordableMeals}, Num Healthy: {self.heartMeals}\"    \n",
        "\n",
        "petesCard = PaymentCard(10)\n",
        "print(f\"Money {petesCard.balance}\")\n",
        "wasSuccessful = petesCard.takeMoney(8);\n",
        "print(f\"Successfully withdrew: {wasSuccessful}\")\n",
        "print(f\"Money {petesCard.balance}\")\n",
        "\n",
        "unicafeExactum = PaymentTerminal()\n",
        "print(PaymentTerminal())\n",
        "change = unicafeExactum.eatAffordably(10)\n",
        "print(f\"Remaining change {change}\")\n",
        "change = unicafeExactum.eatAffordably(5)\n",
        "print(f\"Remaining change {change}\")\n",
        "change = unicafeExactum.eatAffordably(4.30)\n",
        "print(f\"Remaining change {change}\")\n",
        "change = unicafeExactum.eatHeartily(4.30)\n",
        "print(f\"Remaining change {change}, {unicafeExactum}\")\n",
        "\n",
        "annesCard=PaymentCard(7)\n",
        "print(annesCard)\n",
        "print(type(annesCard))\n",
        "wasSuccessful = unicafeExactum.eatHeartily(annesCard)\n",
        "print(type(wasSuccessful))\n",
        "print(f\"Successfully withdrew: {wasSuccessful}\")\n",
        "wasSuccessful = unicafeExactum.eatAffordably(annesCard)\n",
        "print(type(wasSuccessful))\n",
        "print(f\"Successfully withdrew: {wasSuccessful}\")\n",
        "print(annesCard.balance)\n",
        "print(f\"Remaining change {change}, {unicafeExactum}\")\n",
        "wasSuccessful = unicafeExactum.eatAffordably(annesCard)\n",
        "print(f\"Successfully withdrew: {wasSuccessful}\")\n",
        "print(f\"Remaining change {change}, {unicafeExactum}\")"
      ],
      "metadata": {
        "id": "oWWRbQl7mRZH",
        "colab": {
          "base_uri": "https://localhost:8080/"
        },
        "outputId": "e65006fc-8846-415f-9fea-8680f7eefbe2"
      },
      "execution_count": null,
      "outputs": [
        {
          "output_type": "stream",
          "name": "stdout",
          "text": [
            "Money 10\n",
            "Successfully withdrew: True\n",
            "Money 2\n",
            "PaymentTerminal money:1000, Num Affordale: 0, Num Healthy: 0\n",
            "Remaining change 7.5\n",
            "Remaining change 2.5\n",
            "Remaining change 1.7999999999999998\n",
            "Remaining change 0.0, PaymentTerminal money:1011.8, Num Affordale: 3, Num Healthy: 1\n",
            "<__main__.PaymentCard object at 0x7f4500cbc690>\n",
            "<class '__main__.PaymentCard'>\n",
            "<class 'bool'>\n",
            "Successfully withdrew: True\n",
            "<class 'bool'>\n",
            "Successfully withdrew: True\n",
            "0.20000000000000018\n",
            "Remaining change 0.0, PaymentTerminal money:1011.8, Num Affordale: 4, Num Healthy: 2\n",
            "Successfully withdrew: False\n",
            "Remaining change 0.0, PaymentTerminal money:1011.8, Num Affordale: 4, Num Healthy: 2\n"
          ]
        }
      ]
    },
    {
      "cell_type": "code",
      "source": [
        "# Part05_11.ComparingApartments\n",
        "\n",
        "class Apartment:\n",
        "\n",
        "  def __init__(self,rooms,squares,pricePerSquare):\n",
        "    self.rooms = rooms\n",
        "    self.squares = squares\n",
        "    self.pricePerSquare = pricePerSquare\n",
        "\n",
        "  def largerThan(self,compared):\n",
        "    if self.squares > compared.squares:\n",
        "      return True\n",
        "    return False\n",
        "\n",
        "  def priceDifference (self, compared): \n",
        "    return abs((self.squares * self.pricePerSquare) - (compared.squares * compared.pricePerSquare))\n",
        "\n",
        "  def moreExpensiveThan(self, compared):\n",
        "    if (self.squares * self.pricePerSquare) > (compared.squares * compared.pricePerSquare):\n",
        "      return True\n",
        "    else:\n",
        "      return False \n",
        "\n",
        "\n",
        "manhattanStudio = Apartment(1,16,5500)\n",
        "attlantaTwoBedrooms = Apartment(2,38,4200)\n",
        "bangorThreeBedroomApt = Apartment(3,78,2500)\n",
        "\n",
        "print(manhattanStudio.largerThan(attlantaTwoBedrooms))\n",
        "print(bangorThreeBedroomApt.largerThan(attlantaTwoBedrooms))\n",
        "\n",
        "print(manhattanStudio.priceDifference(attlantaTwoBedrooms))\n",
        "print(bangorThreeBedroomApt.priceDifference(attlantaTwoBedrooms))\n",
        "\n",
        "print(manhattanStudio.moreExpensiveThan(attlantaTwoBedrooms))\n",
        "print(bangorThreeBedroomApt.moreExpensiveThan(attlantaTwoBedrooms))"
      ],
      "metadata": {
        "id": "WABhIzTgmRWq",
        "colab": {
          "base_uri": "https://localhost:8080/"
        },
        "outputId": "06165d53-9ae5-4605-af40-06212584f6ca"
      },
      "execution_count": null,
      "outputs": [
        {
          "output_type": "stream",
          "name": "stdout",
          "text": [
            "False\n",
            "True\n",
            "71600\n",
            "35400\n",
            "False\n",
            "True\n"
          ]
        }
      ]
    },
    {
      "cell_type": "markdown",
      "source": [
        "[Python special methods](http://conocepython.blogspot.com/p/metodos-especiales.html)"
      ],
      "metadata": {
        "id": "dt78Ywvk58in"
      }
    },
    {
      "cell_type": "markdown",
      "source": [
        "Comparing Objects in [Python to check if they are equals](https://faun.pub/the-right-way-to-overload-methods-and-operators-in-python-2f93232af031)\n",
        "\n",
        "[How to compare two objects in Python](https://www.adamsmith.haus/python/answers/how-to-compare-two-objects-in-python)\n",
        "\n",
        "list1 = [1, 2, 3]\n",
        "list2 = [1, 2, 3]\n",
        "list3 = list2\n",
        "\n",
        "* USE == TO COMPARE TWO OBJECTS FOR EQUALITY.\n",
        "\n",
        "Use **==** to compare two objects for equality. list1 and list2 are equal because they have the same value.\n",
        "\n",
        "* USE THE is KEYWORD TO COMPARE TWO OBJECTS FOR IDENTITY\n",
        "\n",
        "Use **is** to compare two objects for identity. Even though list1 and list2 have the same value, they point to two different objects. They are equal but not identical. list3 and list2 are identical because they point to the same object.\n",
        "\n",
        "* USE __eq__ TO COMPARE TWO CLASS INSTANCES\n",
        "\n",
        "Even if two class instances have the same attribute values, comparing them using == will return False. To override this default functionality, define an **__eq__** method."
      ],
      "metadata": {
        "id": "8YWDDDjd_z0r"
      }
    },
    {
      "cell_type": "code",
      "source": [
        "# Part05_12.Song\n",
        "\n",
        "class Song:\n",
        "\n",
        "  def __init__ (self, artist, name, durationInSeconds):\n",
        "    self.artist = artist\n",
        "    self.name = name\n",
        "    self.duration = durationInSeconds\n",
        "\n",
        "  def __eq__(self, other):\n",
        "    \n",
        "    # TO COMPARE TWO OBJECTS FOR IDENTITY OR LOCATED AT THE SAME POSITION\n",
        "    if self is other:\n",
        "      return True\n",
        "\n",
        "    # TO COMPARE TWO OBJECTS FOR EQUALITY and\n",
        "    # TO COMPARE TWO OBJECTS IF THEY ARE SAME CLASS INSTANCES \n",
        "    if (isinstance(other, Song)):\n",
        "      return self.artist == other.artist and self.name == other.name and self.duration == other.duration\n",
        "    \n",
        "    return False\n",
        "\n",
        "  def equals(self,compared):\n",
        "    if self == compared:\n",
        "      return True\n",
        "    return False  \n",
        "\n",
        "  def __str__(self):\n",
        "    return f\"{self.artist}: {self.name} ({self.duration} s)\"\n",
        "\n",
        "jackSparrow = Song(\"The Lonely Island\", \"Jack Sparrow\", 196);\n",
        "anotherSparrow = Song(\"The Lonely Island\", \"Jack Sparrow\", 196)\n",
        "thirdSparrow = jackSparrow\n",
        "\n",
        "# Execute the method equals\n",
        "if jackSparrow.equals(anotherSparrow):\n",
        "  print(\"Songs are equal.\")\n",
        "        \n",
        "if jackSparrow.equals(\"Another object\"):\n",
        "  print(\"Strange things are afoot.\")\n",
        "\n",
        "# Execute the overwriter the special method __eq__ with ==\n",
        "if jackSparrow == anotherSparrow:\n",
        "  print(\"Songs are equal.\")\n",
        "\n",
        "if jackSparrow == thirdSparrow:\n",
        "  print(\"Songs are equal.\")\n",
        "        \n",
        "if jackSparrow == \"Another object\":\n",
        "  print(\"Strange things are afoot.\")  \n"
      ],
      "metadata": {
        "id": "xv-Zt13ymRUJ",
        "colab": {
          "base_uri": "https://localhost:8080/"
        },
        "outputId": "1ae08e61-9ca3-464e-d924-fb91486401d7"
      },
      "execution_count": null,
      "outputs": [
        {
          "output_type": "stream",
          "name": "stdout",
          "text": [
            "Songs are equal.\n",
            "Songs are equal.\n",
            "Songs are equal.\n"
          ]
        }
      ]
    },
    {
      "cell_type": "code",
      "source": [
        "# Part05_13.IdenticalTwins\n",
        "\n",
        "class SimpleDate:\n",
        "\n",
        "  def SimpleDate(self, day, month, year):\n",
        "    self.day = day\n",
        "    self.month = month\n",
        "    self.year = year\n",
        "\n",
        "  def __eq__(self, other):\n",
        "\n",
        "\n",
        "\n",
        "\n",
        "    return False  \n",
        "\n",
        "\n",
        "\n",
        "\n",
        "\n",
        "class Person:\n",
        "\n",
        "  def Person(self, name, birthday, height, weight):\n",
        "    self.name = name\n",
        "    self.birthday = birthday\n",
        "    self.height = height\n",
        "    self.weight = weight\n",
        "\n",
        "  def __eq__(self, other):\n",
        "\n",
        "\n",
        "\n",
        "\n",
        "\n",
        "\n",
        "    return False \n",
        "\n",
        "\n",
        "\n",
        "\n",
        "date = SimpleDate(24, 3, 2017);\n",
        "date2 = SimpleDate(23, 7, 2017);\n",
        "\n",
        "leo = Person(\"Leo\", date, 62, 9);\n",
        "lily = Person(\"Lily\", date2, 65, 8)\n",
        "\n",
        "if leo.equals(lily):\n",
        "  print(\"Is this quite correct?\")\n",
        "\n",
        "leoWithDifferentWeight = Person(\"Leo\", date, 62, 10);\n",
        "\n",
        "if leo.equals(leoWithDifferentWeight):\n",
        "  print(\"Is this quite correct?\")"
      ],
      "metadata": {
        "id": "T2DuV0QzmRRr"
      },
      "execution_count": null,
      "outputs": []
    },
    {
      "cell_type": "code",
      "source": [
        "# Part05_14.Books\n",
        "\n",
        "class Book:\n",
        "\n",
        "  def __init__(self, name, publicationYear):\n",
        "    self.name = name\n",
        "    self.publicationYear = publicationYear\n",
        "  def __eq__(self, other):\n",
        "    if (isinstance(other, Book)):\n",
        "      return self.name == other.name and self.publicationYear == other.publicationYear\n",
        "    return False  \n",
        "\n",
        "books = []\n",
        "while True:\n",
        "  name = input(\"Name (empty will stop):\")\n",
        "  if not name:\n",
        "    break\n",
        "  year = input(\"Publication year:\")\n",
        "  book = Book(name, year)\n",
        "  if book in books:\n",
        "    print(\"The book is already on the list. Let's not add the same book again.\")\n",
        "  else:  \n",
        "    books.append(book)\n",
        "    print(f\"Thank you! Books added: {len(books)}\")\n",
        "    \n",
        "\n"
      ],
      "metadata": {
        "id": "hmIhNk3TmRPR",
        "colab": {
          "base_uri": "https://localhost:8080/"
        },
        "outputId": "7346eb2d-e0dd-47b6-dfa6-02536bf0adcb"
      },
      "execution_count": null,
      "outputs": [
        {
          "name": "stdout",
          "output_type": "stream",
          "text": [
            "Name (empty will stop):Bossypants\n",
            "Publication year:2013\n",
            "Thank you! Books added: 1\n",
            "Name (empty will stop):Bossypants\n",
            "Publication year:2013\n",
            "Thank you! Books added: 2\n",
            "Name (empty will stop):\n"
          ]
        }
      ]
    },
    {
      "cell_type": "code",
      "source": [
        "# Part05_15.Archive\n",
        "\n",
        "class Item:\n",
        "  def __init__(self, iden, name):\n",
        "    self.iden = iden\n",
        "    self.name = name\n",
        "\n",
        "  def __eq__(self, other):\n",
        "    if (isinstance(other, Item)):\n",
        "      return self.iden == other.iden\n",
        "    return False\n",
        "\n",
        "  def __str__(self):\n",
        "    return f\"{self.iden}: {self.name}\"\n",
        "\n",
        "listItems =[]\n",
        "while True:\n",
        "  iden = input(\"Identifier? (empty will stop)\")\n",
        "  if not iden:\n",
        "    break\n",
        "  name = input(\"Name? (empty will stop)\")\n",
        "  if not name:\n",
        "    break\n",
        "  newItem = Item(iden, name)\n",
        "\n",
        "  if newItem in listItems:\n",
        "    continue\n",
        "  else: \n",
        "    listItems.append(newItem)\n",
        "\n",
        "print(\"==Items==\")\n",
        "for item in listItems:\n",
        "  print(item)\n"
      ],
      "metadata": {
        "id": "RZdJjkPZmRM1",
        "colab": {
          "base_uri": "https://localhost:8080/"
        },
        "outputId": "08377e04-e3ab-4db1-e1b3-c88329ce6be3"
      },
      "execution_count": null,
      "outputs": [
        {
          "output_type": "stream",
          "name": "stdout",
          "text": [
            "Identifier? (empty will stop)B07H8ND8HH\n",
            "Name? (empty will stop)He-Man figure\n",
            "Identifier? (empty will stop)B07H8ND8HH\n",
            "Name? (empty will stop)He-Man\n",
            "Identifier? (empty will stop)B07NQFMZYG\n",
            "Name? (empty will stop)He-Man figure\n",
            "Identifier? (empty will stop)B07NQFMZYG\n",
            "Name? (empty will stop)He-Man figure\n",
            "Identifier? (empty will stop)\n",
            "==Items==\n",
            "B07H8ND8HH: He-Man figure\n",
            "B07NQFMZYG: He-Man figure\n"
          ]
        }
      ]
    },
    {
      "cell_type": "code",
      "source": [
        "# Part05_16.DatingApp\n",
        "\n",
        "class SimpleDate:\n",
        "  def __init__ (self, day, month, year):\n",
        "    self.day = day\n",
        "    self.month = month\n",
        "    self.year = year\n",
        "\n",
        "  def __str__ (self):\n",
        "    return f\"{self.day}.{self.month}.{self.year}\"\n",
        "\n",
        "  def advance (self):\n",
        "    if self.day < 30:\n",
        "      self.day +=1\n",
        "    else:\n",
        "      self.day = 1\n",
        "      if self.month < 12:\n",
        "        self.month +=1\n",
        "      else:\n",
        "        self.month = 1\n",
        "        self.year +=1\n",
        "\n",
        "  def advanceDays(self, days):\n",
        "    i = 0\n",
        "    while i < days:\n",
        "      self.advance()\n",
        "      i +=1\n",
        "\n",
        "  def afterNumberOfDays(self,days):\n",
        "    newDate = SimpleDate(self.day, self.month, self.year)\n",
        "    newDate.advanceDays(days)\n",
        "    return newDate    \n",
        "\n",
        "date = SimpleDate(13,2,2015)\n",
        "print(f\"Friday of the examined week is {date}\")\n",
        "\n",
        "newDate = date.afterNumberOfDays(7)\n",
        "week = 1\n",
        "while week <= 7:\n",
        "  print(f\"Friday after {week}, week is {newDate}\")\n",
        "  newDate = newDate.afterNumberOfDays(7)\n",
        "  week +=1\n",
        "\n",
        "print(f\"The date after 790 days from the examined Friday is {date.afterNumberOfDays(790)}\")"
      ],
      "metadata": {
        "id": "ZeLtmjFrmRKR",
        "colab": {
          "base_uri": "https://localhost:8080/"
        },
        "outputId": "b84a0128-31b6-46aa-e717-a543f1ae5ae4"
      },
      "execution_count": null,
      "outputs": [
        {
          "output_type": "stream",
          "name": "stdout",
          "text": [
            "Friday of the examined week is 13.2.2015\n",
            "Friday after 1, week is 20.2.2015\n",
            "Friday after 2, week is 27.2.2015\n",
            "Friday after 3, week is 4.3.2015\n",
            "Friday after 4, week is 11.3.2015\n",
            "Friday after 5, week is 18.3.2015\n",
            "Friday after 6, week is 25.3.2015\n",
            "Friday after 7, week is 2.4.2015\n",
            "The date after 790 days from the examined Friday is 23.4.2017\n"
          ]
        }
      ]
    },
    {
      "cell_type": "markdown",
      "source": [
        "##### So your question is about whether final exists in Python. It does not"
      ],
      "metadata": {
        "id": "k71QJZq5m5bP"
      }
    },
    {
      "cell_type": "markdown",
      "source": [
        "Part 1 Plus: Primero cree el método public Money plus (adición de dinero) que devuelve un nuevo objeto de dinero que vale la cantidad total del objeto cuyo método se llamó y el objeto que se recibe como parámetro.\n",
        "\n",
        "Part 2 Less: Cree el método public boolean lessThan(Dinero comparado) que devuelve verdadero si el objeto de dinero en el que se invoca el método tiene un valor menor que el objeto de dinero dado como parámetro.\n",
        "\n",
        "Part 3 Minus: Escriba el método public Money minus (Diminutor de dinero) que devuelve un nuevo objeto de dinero que vale la diferencia del objeto cuyo método se llamó y el objeto recibido como parámetro. Si la diferencia fuera negativa, el valor del objeto de dinero creado se establece en 0.\n"
      ],
      "metadata": {
        "id": "52fZ_GDx7naJ"
      }
    },
    {
      "cell_type": "code",
      "source": [
        "# Part05_17.Money\n",
        "\n",
        "class Money:\n",
        "\n",
        "  def __init__(self, euros, cents):\n",
        "    if cents > 99:\n",
        "      self.euros = int(euros + cents /100)\n",
        "      # print(self.euros)\n",
        "      self.cents = cents % 100\n",
        "      # print(self.cents)\n",
        "    else:\n",
        "      self.euros = euros\n",
        "      self.cents = cents\n",
        "\n",
        "  def euros(self):\n",
        "    return self.euros\n",
        "\n",
        "  def cents(self):\n",
        "    return self.cents\n",
        "\n",
        "  def __str__ (self):\n",
        "    zero = \"\"\n",
        "    if self.cents < 10:\n",
        "      zero = \"0\"\n",
        "    return f\"{self.euros},{zero}{self.cents} euros\"\n",
        "  \n",
        "  def plus(self, adition):\n",
        "    euros = self.euros + adition.euros\n",
        "    cents = self.cents + adition.cents\n",
        "    newObject = Money(euros, cents)\n",
        "    return newObject\n",
        "\n",
        "  def lessThan(self, compared):\n",
        "    if self.euros < compared.euros:\n",
        "      return True\n",
        "    if self.euros == compared.euros and self.cents < compared.cents:\n",
        "      return True\n",
        "    return False\n",
        "\n",
        "  def minus(self, decreaser):\n",
        "    if self.euros < 0:\n",
        "      eurosResto = (-1*(abs(self.euros) + (self.cents / 100))) - (abs(decreaser.euros) + (decreaser.cents / 100))\n",
        "    elif decreaser.euros < 0:\n",
        "      eurosResto = (abs(self.euros) + (self.cents / 100)) - (-1 * ((abs(decreaser.euros) + (decreaser.cents / 100))))\n",
        "    else:\n",
        "      eurosResto = ((self.euros) + (self.cents / 100)) - ((decreaser.euros) + (decreaser.cents / 100))\n",
        "\n",
        "    if (eurosResto > 0):\n",
        "      eurosr  = int(eurosResto / 100)\n",
        "      centsr = int(eurosResto * 100)\n",
        "    else:\n",
        "      eurosr  = 0\n",
        "      centsr = 0\n",
        "\n",
        "    newObject = Money(eurosr, centsr)\n",
        "    return newObject \n",
        "\n",
        "  def minusUpdated (self, decreased):\n",
        "    if(not self.lessThan(decreased)):\n",
        "      centsSelf = (self.euros * 100)  + self.cents\n",
        "      centsDecreased = (decreased.euros * 100) + decreased.cents\n",
        "      resulCents = centsSelf - centsDecreased\n",
        "      euros = resulCents / 100\n",
        "      cents = resulCents-(euros*100)\n",
        "\n",
        "      newObject = Money(euros, cents)\n",
        "      return newObject\n",
        "    newObject = Money(0, 0)\n",
        "    return newObject  \n",
        "\n",
        "\n",
        "\n",
        "a = Money(1,215)\n",
        "print(a)\n",
        "b = Money(3,50)\n",
        "print(b)\n",
        "c = Money(2,50)\n",
        "print(c)\n",
        "\n",
        "# print(a.plus(b))\n",
        "\n",
        "print(a.lessThan(b)) #False\n",
        "print(b.lessThan(a)) #True\n",
        "print(b.lessThan(c)) #False\n",
        "\n",
        "print(a.minus(b))\n",
        "print(b.minus(c))\n",
        "print(b.minus(a))\n",
        "\n",
        "print(a.minusUpdated(b))\n",
        "print(b.minusUpdated(c))\n",
        "print(b.minusUpdated(a))\n"
      ],
      "metadata": {
        "id": "PQ38zVhtmRH3",
        "colab": {
          "base_uri": "https://localhost:8080/"
        },
        "outputId": "25309903-5e8b-491d-8d92-b9470029b6d4"
      },
      "execution_count": null,
      "outputs": [
        {
          "output_type": "stream",
          "name": "stdout",
          "text": [
            "3,15 euros\n",
            "3,50 euros\n",
            "2,50 euros\n",
            "True\n",
            "False\n",
            "False\n",
            "0,00 euros\n",
            "1,00 euros\n",
            "0,35 euros\n",
            "0,00 euros\n",
            "1.0,00.0 euros\n",
            "0.35,00.0 euros\n"
          ]
        }
      ]
    },
    {
      "cell_type": "code",
      "source": [
        "int(((260/100) % 2) *100)"
      ],
      "metadata": {
        "colab": {
          "base_uri": "https://localhost:8080/"
        },
        "id": "FyYXx4gDF8vk",
        "outputId": "e4f57b82-d497-47ab-cbce-56f8c1314999"
      },
      "execution_count": null,
      "outputs": [
        {
          "output_type": "execute_result",
          "data": {
            "text/plain": [
              "60"
            ]
          },
          "metadata": {},
          "execution_count": 3
        }
      ]
    },
    {
      "cell_type": "markdown",
      "source": [
        "## Part 6"
      ],
      "metadata": {
        "id": "WdMwLq6EpK6A"
      }
    },
    {
      "cell_type": "markdown",
      "source": [
        "### Objects on a list and a list as part of an object"
      ],
      "metadata": {
        "id": "EQ_D84yZpY8Q"
      }
    },
    {
      "cell_type": "markdown",
      "source": [
        "The sixth part of the course material handles objects consisting of objects, and we'll take a look at separating the text user interface and the program logic."
      ],
      "metadata": {
        "id": "kRdskQqOBS7l"
      }
    },
    {
      "cell_type": "code",
      "source": [
        "# Part06_01.Menu\n",
        "# %debug\n",
        "class Menu():\n",
        "  # Buil the class constructor with a list as argument and use it to\n",
        "  # store objects like Strings use in this case.\n",
        "  def __init__(self):\n",
        "    self.meals = []\n",
        "\n",
        "  def addMeal(self, meal):\n",
        "    if meal not in self.meals:\n",
        "      self.meals.append(meal) \n",
        "\n",
        "  def clearMenu(self):\n",
        "    self.meals.clear()\n",
        "\n",
        "  def printMeals(self):\n",
        "    for meal in self.meals:\n",
        "      print(meal)\n",
        "\n",
        "menuM = Menu()\n",
        "menuM.addMeal(\"Tofu ratatouille\")\n",
        "menuM.addMeal(\"Chilli coconut chicken\")\n",
        "menuM.addMeal(\"Chilli coconut chicken\")\n",
        "menuM.addMeal(\"Meatballs with mustard sauce\")\n",
        "menuM.printMeals()\n",
        "menuM.clearMenu()\n",
        "print(\"--------------------------------\")\n",
        "menuM.addMeal(\"Tomato and mozzarella salad\")\n",
        "menuM.printMeals()\n",
        "\n"
      ],
      "metadata": {
        "id": "kFptbRnfmRFT",
        "colab": {
          "base_uri": "https://localhost:8080/"
        },
        "outputId": "0e44ed0a-6520-45b3-ebb5-9535d41bd549"
      },
      "execution_count": null,
      "outputs": [
        {
          "output_type": "stream",
          "name": "stdout",
          "text": [
            "Tofu ratatouille\n",
            "Chilli coconut chicken\n",
            "Meatballs with mustard sauce\n",
            "--------------------------------\n",
            "Tomato and mozzarella salad\n"
          ]
        }
      ]
    },
    {
      "cell_type": "code",
      "source": [
        "# Part06_02.Stack\n",
        "\n",
        "class Stack():\n",
        "\n",
        "  def __init__(self):\n",
        "    self.llista = []\n",
        "\n",
        "  def isEmpty(self):\n",
        "    if not self.llista:\n",
        "      return False\n",
        "    return True \n",
        "\n",
        "  def add(self, value):\n",
        "    self.llista.append(value)\n",
        "\n",
        "  def take(self):\n",
        "    indexLast = len(self.llista)-1\n",
        "    valueLast = self.llista[indexLast]\n",
        "    self.llista.pop(indexLast)\n",
        "    return valueLast\n",
        "\n",
        "  def values(self):\n",
        "    return self.llista \n",
        "\n",
        "s = Stack()\n",
        "print(s.isEmpty())\n",
        "print(s.values())\n",
        "s.add(\"value\")\n",
        "print(s.isEmpty())\n",
        "print(s.values())"
      ],
      "metadata": {
        "id": "WKCuySAnmRCh",
        "colab": {
          "base_uri": "https://localhost:8080/"
        },
        "outputId": "94f54f84-1972-47d9-aa30-65afe1b43cd9"
      },
      "execution_count": null,
      "outputs": [
        {
          "output_type": "stream",
          "name": "stdout",
          "text": [
            "False\n",
            "[]\n",
            "True\n",
            "['value']\n"
          ]
        }
      ]
    },
    {
      "cell_type": "code",
      "source": [
        "# Osa06_03.Viestipalvelu\n",
        "\n",
        "class Message():\n",
        "  def __init__ (self, sender, content):\n",
        "    self.sender = sender\n",
        "    self.content = content\n",
        "  def getSender(self):\n",
        "    return self.sender  \n",
        "  def getContent(self):\n",
        "    return self.content\n",
        "  def __str__(self):\n",
        "    return f\"{self.sender}: {self.content}\"\n",
        "  def __eq__ (self):\n",
        "    if self is other:\n",
        "      return True\n",
        "    if isinstance(other, Message):\n",
        "      return self.sender == other.sender and self.content == other.content\n",
        "    return False \n",
        "\n",
        "class MessagingServices():\n",
        "  def __init__(self):\n",
        "    self.llista = []\n",
        "  def add(self, Message):\n",
        "    self.llista.append(Message)\n",
        "  def getMessages(self):\n",
        "    for message in self.llista:\n",
        "      print(message)      \n",
        "\n",
        "m1 = Message(\"Alex\", \"Message1\")\n",
        "m2 = Message(\"Salva\", \"Message2\")\n",
        "ms = MessagingServices()\n",
        "ms.add(m1)\n",
        "ms.add(m2)\n",
        "ms.getMessages()"
      ],
      "metadata": {
        "id": "zq_sU9EKmQ8J",
        "colab": {
          "base_uri": "https://localhost:8080/"
        },
        "outputId": "2eaee911-f9c7-4ef1-8c5d-70af98403fe5"
      },
      "execution_count": null,
      "outputs": [
        {
          "output_type": "stream",
          "name": "stdout",
          "text": [
            "Alex: Message1\n",
            "Salva: Message2\n"
          ]
        }
      ]
    },
    {
      "cell_type": "code",
      "source": [
        "# Osa06_04.JoukonTulostaminen\n",
        "\n",
        "class SimpleCollection():\n",
        "  def __init__(self,name):\n",
        "    self.name = name\n",
        "    self.elements = []\n",
        "  def add(self, element):\n",
        "    self.elements.append(element)\n",
        "  def getElements(self):\n",
        "    for element in elements:\n",
        "      print(element)\n",
        "  def __str__(self):\n",
        "    printOutput = f\"The Collection {self.name}\"\n",
        "    if not self.elements:\n",
        "      return f\"{printOutput} is empty.\"\n",
        "    elementInElements = \"\"\n",
        "    for element in self.elements:\n",
        "      if len(self.elements) <= 1:\n",
        "        elementInElements = element + \"\\n\"\n",
        "      else:\n",
        "        elementInElements = elementInElements + element + \"\\n\"\n",
        "    if len(self.elements) > 1:\n",
        "      return f\"{printOutput} has {len(self.elements)} elements:\\n{elementInElements}\"\n",
        "    else:\n",
        "      return f\"{printOutput} has {len(self.elements)} element:\\n{elementInElements}\" \n",
        "\n",
        "\n",
        "j = SimpleCollection(\"characters\")\n",
        "print(j)\n",
        "j.add(\"magneto\")\n",
        "print(j)\n",
        "j.add(\"mystique\")\n",
        "print(j)\n",
        "j.add(\"phoenix\")\n",
        "print(j)\n"
      ],
      "metadata": {
        "id": "2ULgj_WImQzh",
        "colab": {
          "base_uri": "https://localhost:8080/"
        },
        "outputId": "a25906be-6229-4f98-9887-d5fec1c8ee48"
      },
      "execution_count": null,
      "outputs": [
        {
          "output_type": "stream",
          "name": "stdout",
          "text": [
            "The Collection characters is empty.\n",
            "The Collection characters has 1 element:\n",
            "magneto\n",
            "\n",
            "The Collection characters has 2 elements:\n",
            "magneto\n",
            "mystique\n",
            "\n",
            "The Collection characters has 3 elements:\n",
            "magneto\n",
            "mystique\n",
            "phoenix\n",
            "\n"
          ]
        }
      ]
    },
    {
      "cell_type": "code",
      "source": [
        "# Part06_05.SantasWorkshop\n",
        "class Gift():\n",
        "  def __init__(self, name, weight):\n",
        "    self.name = name\n",
        "    self.weight = weight\n",
        "\n",
        "  def getName(self):\n",
        "    return self.name\n",
        "\n",
        "  def getWeight(self):\n",
        "    return self.weight\n",
        "\n",
        "  def __str__(self):\n",
        "    return f\"{self.name} ({self.weight} Kg)\"  \n",
        "\n",
        "\n",
        "class Package():\n",
        "  def __init__(self):\n",
        "    self.gifts = []\n",
        "  def addGift(self, Gift):\n",
        "    self.gifts.append(Gift)\n",
        "\n",
        "  def totalWeight(self):\n",
        "    totalWeight = 0\n",
        "    for gift in self.gifts:\n",
        "      totalWeight = totalWeight + gift.getWeight()\n",
        "    return totalWeight\n",
        "\n",
        "gift1 = Gift(\"Harry Potter and the Philosopher's Stone\", 2)\n",
        "gift2 = Gift(\"Harry Potter\", 3)\n",
        "print(gift1.getName())\n",
        "print(gift1.getWeight())\n",
        "print(gift1)    \n",
        "\n",
        "newPackage = Package()\n",
        "newPackage.addGift(gift1)\n",
        "newPackage.addGift(gift2)\n",
        "print(newPackage.totalWeight())\n",
        "\n"
      ],
      "metadata": {
        "id": "1Tr1g2vLpQLf",
        "colab": {
          "base_uri": "https://localhost:8080/"
        },
        "outputId": "7ed01d26-6ce3-425b-a11a-81e2a667dd33"
      },
      "execution_count": null,
      "outputs": [
        {
          "output_type": "stream",
          "name": "stdout",
          "text": [
            "Harry Potter and the Philosopher's Stone\n",
            "2\n",
            "Harry Potter and the Philosopher's Stone (2 Kg)\n",
            "5\n"
          ]
        }
      ]
    },
    {
      "cell_type": "code",
      "source": [
        "# Part06_06.LongestInCollection\n",
        "\n",
        "class SimpleCollection():\n",
        "  def __init__(self,name):\n",
        "    self.name = name\n",
        "    self.elements = []\n",
        "  def add(self, element):\n",
        "    self.elements.append(element)\n",
        "  def getElements(self):\n",
        "    for element in elements:\n",
        "      print(element)\n",
        "  def __str__(self):\n",
        "    return f\"{self.elements}\"   \n",
        "\n",
        "  def longest(self):\n",
        "    if not self.elements:\n",
        "      return None #Python use none istead null\n",
        "    objectTest = self.elements[0]\n",
        "    for element in self.elements:\n",
        "      if len(element) > len(objectTest):\n",
        "        objectTest = element\n",
        "    return objectTest\n",
        "\n",
        "j = SimpleCollection(\"characters\")\n",
        "print(j)\n",
        "j.add(\"magneto\")\n",
        "j.add(\"mystique\")\n",
        "j.add(\"phoenix\")\n",
        "print(\"Longest: \" + j.longest())\n",
        "print(j)\n",
        "     \n"
      ],
      "metadata": {
        "id": "72ci7zxypQIz",
        "colab": {
          "base_uri": "https://localhost:8080/"
        },
        "outputId": "96ec65d5-e54b-4bc9-c9eb-1dd12b3ef0de"
      },
      "execution_count": null,
      "outputs": [
        {
          "output_type": "stream",
          "name": "stdout",
          "text": [
            "[]\n",
            "Longest: mystique\n",
            "['magneto', 'mystique', 'phoenix']\n"
          ]
        }
      ]
    },
    {
      "cell_type": "code",
      "source": [
        "# Part06_07.HeightOrder\n",
        "\n",
        "class Person():\n",
        "  def __init__(self,name,height):\n",
        "    self.name = name\n",
        "    self.height = height\n",
        "  def getName(self):\n",
        "    return self.name\n",
        "  def getHeight(self):\n",
        "    return self.height\n",
        "  def __str__(self):\n",
        "    return f\"{self.name} ({self.height} cm)\"\n",
        "\n",
        "class Room():\n",
        "\n",
        "  def __init__(self):\n",
        "    self.people = []\n",
        "  def add(self, Person):\n",
        "    self.people.append(Person)\n",
        "  def isEmpty(self):\n",
        "    if not self.people:\n",
        "      return True\n",
        "    return False\n",
        "\n",
        "  def getPersons(self):\n",
        "    for Person in self.people:\n",
        "      print(f\"{Person.getName()} ({Person.getHeight()} cm)\")\n",
        "\n",
        "  def shortest(self):\n",
        "    if not self.people:\n",
        "      return None\n",
        "    objectTest = self.people[0]\n",
        "    for Person in self.people:\n",
        "      if Person.getHeight() < objectTest.getHeight():\n",
        "        objectTest = Person\n",
        "    return objectTest\n",
        "\n",
        "  def take(self):\n",
        "    if not self.people:\n",
        "      return None\n",
        "    objectSortest = self.shortest()\n",
        "    self.people.remove(objectSortest)\n",
        "    return objectSortest\n",
        "\n",
        "room1 = Room()\n",
        "print(f\"Empty room? {room1.isEmpty()}\")\n",
        "\n",
        "room = Room()\n",
        "room.add(Person(\"Lea\", 183))\n",
        "room.add(Person(\"Kenya\", 182))\n",
        "room.add(Person(\"Auli\", 186))\n",
        "room.add(Person(\"Nina\", 172))\n",
        "room.add(Person(\"Terhi\", 185))\n",
        "print(f\"Empty room? {room.isEmpty()}\")\n",
        "print(room.getPersons())\n",
        "\n",
        "print(room.shortest())\n",
        "room.shortest()\n",
        "room.take()\n",
        "print(room.getPersons())\n",
        "\n",
        "# It's now possible to print the persons in height order.\n",
        "while not room.isEmpty():\n",
        "  print(room.take())\n"
      ],
      "metadata": {
        "id": "edNuCP86pQGB",
        "colab": {
          "base_uri": "https://localhost:8080/"
        },
        "outputId": "58082c1f-4644-483b-c15c-698e67827953"
      },
      "execution_count": null,
      "outputs": [
        {
          "output_type": "stream",
          "name": "stdout",
          "text": [
            "Empty room? True\n",
            "Empty room? False\n",
            "Lea (183 cm)\n",
            "Kenya (182 cm)\n",
            "Auli (186 cm)\n",
            "Nina (172 cm)\n",
            "Terhi (185 cm)\n",
            "None\n",
            "Nina (172 cm)\n",
            "Lea (183 cm)\n",
            "Kenya (182 cm)\n",
            "Auli (186 cm)\n",
            "Terhi (185 cm)\n",
            "None\n",
            "Kenya (182 cm)\n",
            "Lea (183 cm)\n",
            "Terhi (185 cm)\n",
            "Auli (186 cm)\n"
          ]
        }
      ]
    },
    {
      "cell_type": "code",
      "source": [
        "# Part06_08.CargoHold\n",
        "\n",
        "class Item():\n",
        "  def __init__(self, name, weight):\n",
        "   self.name = name\n",
        "   self.weight = weight\n",
        "  def getName(self):\n",
        "    return self.name\n",
        "  def getWeight(self):\n",
        "    return self.weight\n",
        "  def __str__(self):\n",
        "    return f\"{self.name} ({self.weight} Kg)\"\n",
        "\n",
        "class Suitcase():\n",
        "  def __init__(self, limitWeight):\n",
        "    self.limitWeight = limitWeight\n",
        "    self.listSuitcases = []\n",
        "\n",
        "  def totalWeight(self):\n",
        "    totalWeight = 0\n",
        "    for Item in self.listSuitcases:\n",
        "      totalWeight = totalWeight + Item.getWeight()\n",
        "    return totalWeight  \n",
        "\n",
        "  def addItem(self, Item):\n",
        "    total = self.totalWeight() + Item.getWeight()\n",
        "    if total <= self.limitWeight:\n",
        "      self.listSuitcases.append(Item)\n",
        "\n",
        "  def printItems(self):\n",
        "    if not self.listSuitcases:\n",
        "      print(\"The suitcase is empty.\")\n",
        "    for Item in self.listSuitcases:\n",
        "      print(Item)\n",
        "\n",
        "  def heaviest(self):\n",
        "    if not self.listSuitcases:\n",
        "      return None\n",
        "    heaviest = self.listSuitcases[0]\n",
        "    for Item in self.listSuitcases:\n",
        "      if Item.getWeight() > heaviest.getWeight():\n",
        "        heaviest = Item\n",
        "      return heaviest    \n",
        "\n",
        "  def __str__(self):\n",
        "    resultWeight = self.totalWeight()\n",
        "    if not self.listSuitcases:\n",
        "      return f\"no items ({resultWeight} Kg)\"\n",
        "    if len(self.listSuitcases) > 1:\n",
        "      return f\"{len(self.listSuitcases)} items ({resultWeight} Kg)\" \n",
        "    else:\n",
        "      return f\"{len(self.listSuitcases)} item ({resultWeight} Kg)\"\n",
        "\n",
        "class Hold():\n",
        "\n",
        "  def __init__(self, limitWeight):\n",
        "    self.limitWeight = limitWeight\n",
        "    self.listSuitcases = []\n",
        "\n",
        "  def totalWeight(self):\n",
        "    totalWeightHold = 0\n",
        "    for Suitcase in self.listSuitcases:\n",
        "      totalWeightHold += Suitcase.totalWeight()\n",
        "    return totalWeightHold  \n",
        "  \n",
        "  def addSuitcase(self,Suitcase):\n",
        "    total = self.totalWeight() + Suitcase.totalWeight()\n",
        "    if total <= self.limitWeight:\n",
        "      self.listSuitcases.append(Suitcase)\n",
        "\n",
        "  def printItems(self):\n",
        "    for Suitcase in self.listSuitcases:\n",
        "      Suitcase.printItems()\n",
        "\n",
        "  def __str__(self):\n",
        "    if not self.listSuitcases:\n",
        "      return f\"no suitcases in the Hold\"\n",
        "    if len(self.listSuitcases) == 1:\n",
        "      return f\"1 suitcase ({self.totalWeight()} Kg)\"\n",
        "    else:\n",
        "      return f\"{len(self.listSuitcases)} suitcases ({self.totalWeight()} Kg)\"  \n",
        "\n",
        "book = Item(\"The lord of the rings\", 2)\n",
        "phone = Item(\"Nokia 3210\", 1)\n",
        "brick = Item(\"Brick\", 4)\n",
        "#print(book.getName())\n",
        "#print(book.getWeight())\n",
        "#print(book)\n",
        "suitcase1 = Suitcase(5)\n",
        "suitcase2 = Suitcase(5)\n",
        "suitcase1.addItem(book)\n",
        "suitcase1.addItem(phone)\n",
        "suitcase1.addItem(brick)\n",
        "suitcase2.addItem(phone)\n",
        "suitcase2.addItem(brick)\n",
        "\n",
        "#print(suitcase1)\n",
        "#print(suitcase1.heaviest())\n",
        "\n",
        "hold1 = Hold(25)\n",
        "hold1.addSuitcase(suitcase1)\n",
        "hold1.addSuitcase(suitcase2)\n",
        "#print(hold1)\n",
        "hold1.printItems()\n"
      ],
      "metadata": {
        "id": "OWqLJR2FpQDK",
        "colab": {
          "base_uri": "https://localhost:8080/"
        },
        "outputId": "bbf5e697-c8fa-415b-be87-b8052a8b3ae9"
      },
      "execution_count": null,
      "outputs": [
        {
          "output_type": "stream",
          "name": "stdout",
          "text": [
            "The lord of the rings (2 Kg)\n",
            "Nokia 3210 (1 Kg)\n",
            "Nokia 3210 (1 Kg)\n",
            "Brick (4 Kg)\n"
          ]
        }
      ]
    },
    {
      "cell_type": "markdown",
      "source": [
        "### Separating the user interface from program logic"
      ],
      "metadata": {
        "id": "19HYTSXtpcBQ"
      }
    },
    {
      "cell_type": "markdown",
      "source": [
        "* Looping and quitting\n",
        "* Storing relevant information\n",
        "* Combining the solutions to sub-problems\n",
        "* Objects as a natural part of problem solving\n",
        "* Word set\n",
        "* Earlier solution as part of implementation\n",
        "* hanging the implementation of a class\n",
        "* Implementing new functionality: palindromes"
      ],
      "metadata": {
        "id": "-BpeIFqlBKZc"
      }
    },
    {
      "cell_type": "code",
      "source": [
        "class UserInterface():\n",
        "  def UserInterface(self):\n",
        "    self.input = input()\n",
        "  def start(self):\n",
        "    return None\n",
        "      \n",
        "\n",
        "UserInterface = UserInterface()\n",
        "UserInterface.start()"
      ],
      "metadata": {
        "id": "IoZsbbfQJmdj"
      },
      "execution_count": null,
      "outputs": []
    },
    {
      "cell_type": "markdown",
      "source": [
        "#### Programming tips"
      ],
      "metadata": {
        "id": "VTkh60RMCTyU"
      }
    },
    {
      "cell_type": "code",
      "source": [
        "# Part06_09.SimpleDictionary\n",
        "\n",
        "class SimpleDictionary():\n",
        "  def __init__(self):\n",
        "    self.translations = {}\n",
        "  def translate(self, word):\n",
        "    return self.translations.get(word)\n",
        "  def add(self, word, traslation):\n",
        "    return self.translations.update({word: traslation})\n",
        "  def addlist(self, lista):\n",
        "    #Dictionary pyton method update is iterable\n",
        "    return self.translations.update(lista)\n",
        "\n",
        "class TextUI():\n",
        "  def __init__(self):\n",
        "    # self.input = input(\"Command: \")\n",
        "    self.dictionary = SimpleDictionary()\n",
        "\n",
        "  def start(self):\n",
        "    while True:\n",
        "      word = input(\"Command: \")\n",
        "      if word == \"end\":\n",
        "        print(\"Bye bye!\")\n",
        "        break\n",
        "      elif word == \"add\":\n",
        "        word = input(\"Word: \")\n",
        "        translation = input(\"Translation: \")\n",
        "        self.dictionary.add(word,translation)\n",
        "      elif word == \"search\":\n",
        "        wordToBeTrans = input(\"To be translated: \")\n",
        "        if wordToBeTrans in self.dictionary.translations:\n",
        "          print(self.dictionary.translate(wordToBeTrans)) \n",
        "        else:\n",
        "          print(\"Nothing to translated\")\n",
        "      else:\n",
        "        print(\"Unknown command\")\n",
        "\n",
        "#engToSpa = SimpleDictionary()\n",
        "#words = [(\"apple\", \"manzana\"), (\"bird\", \"pajaro\"), (\"big\", \"grande\")]\n",
        "#engToSpa.addlist(words)\n",
        "#engToSpa.add(\"black\", \"negro\")\n",
        "#engToSpa.translate(\"apple\")\n",
        "\n",
        "newTest = TextUI()\n",
        "newTest.start()"
      ],
      "metadata": {
        "id": "MQR1LjIWpQAE",
        "colab": {
          "base_uri": "https://localhost:8080/"
        },
        "outputId": "4f415fed-f7fa-4701-ef7e-65f7bcf162bf"
      },
      "execution_count": null,
      "outputs": [
        {
          "name": "stdout",
          "output_type": "stream",
          "text": [
            "Command: add\n",
            "Word: bl\n",
            "Translation: ne\n",
            "Command: seach\n",
            "Unknown command\n",
            "Command: search\n",
            "To be translated: sw\n"
          ]
        }
      ]
    },
    {
      "cell_type": "code",
      "source": [
        "# Part06_10.TodoList\n",
        "\n",
        "class TodoList():\n",
        "  \n",
        "  def __init__(self):\n",
        "    self.listItems = {}\n",
        "  def add(self, todo):\n",
        "    count = len(self.listItems) +1\n",
        "    self.listItems.update({count: todo})\n",
        "  def printKey(self):\n",
        "    for key, todo in self.listItems.items():\n",
        "      print (f\"{key}:{todo}\")\n",
        "  def remove(self, key):\n",
        "    self.listItems.pop(key, None)\n",
        "\n",
        "class UserInterface():\n",
        "  def __init__(self):\n",
        "    self.Todo = TodoList()\n",
        "  def start(self):\n",
        "    while True:\n",
        "      order = input(\"Command: \")\n",
        "      if order == \"stop\":\n",
        "        break\n",
        "      elif order == \"add\":\n",
        "        todo = input(\"To add: \")\n",
        "        self.Todo.add(todo)\n",
        "      elif order == \"list\":\n",
        "        self.Todo.printKey()\n",
        "      elif order == \"remove\":\n",
        "        remove = (int)(input(\"Which one is removed? \"))\n",
        "        self.Todo.remove(remove)\n",
        "      else:\n",
        "        print(\"Unknow Command\")\n",
        "\n",
        "newTodo = UserInterface()\n",
        "newTodo.start()\n"
      ],
      "metadata": {
        "id": "r4qiXI_XpP9I",
        "colab": {
          "base_uri": "https://localhost:8080/"
        },
        "outputId": "aa50c0c8-075c-4d6f-c385-7afbc99dda52"
      },
      "execution_count": null,
      "outputs": [
        {
          "name": "stdout",
          "output_type": "stream",
          "text": [
            "Command: add\n",
            "To add: tod\n",
            "Command: add\n",
            "To add: tod2\n",
            "Command: add\n",
            "To add: tod3\n",
            "Command: list\n",
            "1:tod\n",
            "2:tod2\n",
            "3:tod3\n",
            "Command: remove\n",
            "Which one is removed? 2\n",
            "Command: list\n",
            "1:tod\n",
            "3:tod3\n",
            "Command: sstop\n",
            "Unknow Command\n",
            "Command: stop\n"
          ]
        }
      ]
    },
    {
      "cell_type": "markdown",
      "source": [
        "### From one entity to many parts\n",
        "### Program Logic\n",
        "### User interface"
      ],
      "metadata": {
        "id": "TQe0BtXs9aJv"
      }
    },
    {
      "cell_type": "code",
      "source": [
        "# Part06_11.Averages\n",
        "\n",
        "class GradeRegister():\n",
        "  def __init__(self):\n",
        "    self.Grades = []\n",
        "    self.Points = []\n",
        "\n",
        "  def pointsToGrades(self, points):\n",
        "    grade = 0\n",
        "    if points < 50:\n",
        "      grade = 0\n",
        "    elif points < 60:\n",
        "      grade = 1\n",
        "    elif points < 70:\n",
        "      grade = 2\n",
        "    elif points < 80:\n",
        "      grade = 3\n",
        "    elif points < 90:\n",
        "      grade = 4\n",
        "    else:\n",
        "      grade = 5\n",
        "    return grade  \n",
        "\n",
        "  def addGradeAndPoints(self,point):\n",
        "    self.Points.append(point)\n",
        "    self.Grades.append(self.pointsToGrades(point))\n",
        "\n",
        "  def numberOfGrades(self, grade):\n",
        "    return self.Grades.count(grade)    \n",
        "\n",
        "  def averageOfGrades(self):\n",
        "    sum = 0\n",
        "    if not self.Grades:\n",
        "      return -1\n",
        "    for grade in self.Grades:\n",
        "      sum = sum + grade\n",
        "    average = sum / len(self.Grades)\n",
        "    return average\n",
        "\n",
        "  def averageOfPoints(self):\n",
        "    sum = 0\n",
        "    if not self.Points:\n",
        "      return -1\n",
        "    for point in self.Points:\n",
        "      sum += point\n",
        "    average = sum / len(self.Points)\n",
        "    return average\n",
        "\n",
        "\n",
        "\n",
        "class UserInterface():\n",
        "  def __init__(self):\n",
        "    self.GradeRegister = GradeRegister()\n",
        "\n",
        "  def readPoints(self):    \n",
        "    while True:\n",
        "      inp = input(\"Points: \")\n",
        "      if inp == \"\":\n",
        "        break\n",
        "      points = int(inp)\n",
        "      if points < 0 or points > 100:\n",
        "        print(\"Impossible number.\")\n",
        "        continue\n",
        "      self.GradeRegister.addGradeAndPoints(points)\n",
        "\n",
        "  def printGradeDistribution(self):\n",
        "    grade = 5\n",
        "    while grade >= 0:\n",
        "      stars = self.GradeRegister.numberOfGrades(grade)\n",
        "      print(f\"{grade}: \", end=\"\")\n",
        "      self.printStars(stars)\n",
        "      print(\"\")\n",
        "      grade -=1\n",
        "\n",
        "  def printStars(self,stars):\n",
        "    while stars > 0:\n",
        "      print(\"*\", end=\"\")\n",
        "      stars -=1\n",
        "\n",
        "  def start(self):\n",
        "    self.readPoints()\n",
        "    print(\"\")\n",
        "    self.printGradeDistribution()\n",
        "    print(self.GradeRegister.averageOfGrades())\n",
        "    print(self.GradeRegister.averageOfPoints())\n",
        "\n",
        "\n",
        "newRegister = UserInterface()\n",
        "newRegister.start()   \n"
      ],
      "metadata": {
        "id": "_0ZYZEoxpP6p",
        "colab": {
          "base_uri": "https://localhost:8080/"
        },
        "outputId": "db8e71a8-89a4-420d-c832-3eba20da3d2c"
      },
      "execution_count": null,
      "outputs": [
        {
          "output_type": "stream",
          "name": "stdout",
          "text": [
            "Points: 89\n",
            "Points: 89\n",
            "Points: 89\n",
            "Points: 78\n",
            "Points: 65\n",
            "Points: 12\n",
            "Points: 415\n",
            "Impossible number.\n",
            "Points: 99\n",
            "Points: 98\n",
            "Points: 120\n",
            "Impossible number.\n",
            "Points: 56\n",
            "Points: 35\n",
            "Points: 89\n",
            "Points: 54\n",
            "Points: \n",
            "\n",
            "5: **\n",
            "4: ****\n",
            "3: *\n",
            "2: *\n",
            "1: **\n",
            "0: **\n",
            "2.75\n",
            "71.08333333333333\n"
          ]
        }
      ]
    },
    {
      "cell_type": "code",
      "source": [
        "# Part6_12.JokeManager\n",
        "import random\n",
        "\n",
        "class JokeManager():\n",
        "  def __init__(self):\n",
        "    self.Jokes = []\n",
        "  def addJoke(self, joke):\n",
        "    self.Jokes.append(joke)\n",
        "  def drawJoke(self):\n",
        "    if not self.Jokes:\n",
        "      print(\"Jokes are in short supply.\")\n",
        "    randomJoke = random.choice(self.Jokes)\n",
        "    print(randomJoke)\n",
        "  def printJokes(self):\n",
        "    for joke in self.Jokes:\n",
        "      print(joke)\n",
        "\n",
        "class UserInterface():\n",
        "  def __init__(self):\n",
        "    self.Jokes = JokeManager()\n",
        "  def options(self):\n",
        "    print(\"Commands: \")\n",
        "    print(\"1 - adding\\n2 - drawing\\n3 - printing\\nX - ending\\n\")\n",
        "\n",
        "  def start(self):\n",
        "    while True:\n",
        "      self.options()\n",
        "      option = input(\"\")\n",
        "      if option == \"X\":\n",
        "        print(\"Bye, Bye\")\n",
        "        break\n",
        "      if option == \"1\":\n",
        "        joke = input(\"Write the joke to be added:\")\n",
        "        self.Jokes.addJoke(joke)\n",
        "      if option == \"2\":\n",
        "        self.Jokes.drawJoke()\n",
        "      if option == \"3\":\n",
        "        self.Jokes.printJokes() \n",
        "\n",
        "newManager = UserInterface()\n",
        "newManager.start()\n"
      ],
      "metadata": {
        "id": "XJxqu1n5piai"
      },
      "execution_count": null,
      "outputs": []
    },
    {
      "cell_type": "markdown",
      "source": [
        "### Introduction to testing"
      ],
      "metadata": {
        "id": "AvuTZmQvpf6R"
      }
    },
    {
      "cell_type": "markdown",
      "source": [
        "#### Error Situations and Step-By-Step Problem Resolving\n",
        "#### Stack Trace\n",
        "#### Checklist for Troubleshooting\n",
        "#### Passing Test Input to Scanner\n",
        "#### Unit Testing"
      ],
      "metadata": {
        "id": "IrhDGHGtC5sc"
      }
    },
    {
      "cell_type": "markdown",
      "source": [
        "#### Test-Driven Development"
      ],
      "metadata": {
        "id": "vVD9Od0BDRh8"
      }
    },
    {
      "cell_type": "code",
      "source": [
        "# Part06_13.Exercises"
      ],
      "metadata": {
        "id": "6m7BjXsKpjBr"
      },
      "execution_count": null,
      "outputs": []
    },
    {
      "cell_type": "markdown",
      "source": [
        "### Complex programs"
      ],
      "metadata": {
        "id": "e31q-QwMDZrY"
      }
    },
    {
      "cell_type": "markdown",
      "source": [
        "## Part 7"
      ],
      "metadata": {
        "id": "R_cQ7sAEpQ4v"
      }
    },
    {
      "cell_type": "markdown",
      "source": [
        "### Programming paradigms"
      ],
      "metadata": {
        "id": "jLyxxE8XpnmQ"
      }
    },
    {
      "cell_type": "code",
      "source": [
        "# Part07_01.LiquidContainers\n",
        "# Exemple of Procedural programming\n",
        "\n",
        "amountFirst = 0\n",
        "amountSecond = 0\n",
        "\n",
        "while True:\n",
        "  print(f\"First: {amountFirst}/100\")\n",
        "  print(f\"Second: {amountSecond}/100\")\n",
        "  intro = input()\n",
        "  \n",
        "  if intro == \"quit\":\n",
        "    break\n",
        "\n",
        "  valores = intro.split(\" \")\n",
        "  command = valores[0]\n",
        "  amount = int(valores[1])  \n",
        "\n",
        "  if command == \"add\":\n",
        "    if amount < 0:\n",
        "      continue\n",
        "    if (amountFirst + amount) > 100:\n",
        "      amountFirst = 100\n",
        "    else:\n",
        "      amountFirst += amount\n",
        "\n",
        "  if command == \"move\":\n",
        "    if amount <= 0 and amountFirst == 0:\n",
        "      continue\n",
        "\n",
        "    if amountFirst <= amount:\n",
        "      amount = amountFirst\n",
        "      amountFirst = 0\n",
        "      if (amountSecond + amount) > 100:\n",
        "        amountSecond = 100\n",
        "      else:\n",
        "        amountSecond += amount\n",
        "\n",
        "    else:\n",
        "      amountFirst -= amount;\n",
        "      if (amountSecond + amount) > 100:\n",
        "        amountSecond = 100\n",
        "      else:\n",
        "        amountSecond += amount\n",
        "\n",
        "  if command == \"remove\":\n",
        "    if amountSecond < amount:\n",
        "      amountSecond = 0\n",
        "    else:\n",
        "      amountSecond -= amount\n"
      ],
      "metadata": {
        "id": "IQWAzWBHpSYF",
        "colab": {
          "base_uri": "https://localhost:8080/"
        },
        "outputId": "bc47fdb0-3058-4772-d37b-0a3f2ac83de2"
      },
      "execution_count": 10,
      "outputs": [
        {
          "name": "stdout",
          "output_type": "stream",
          "text": [
            "First: 0/100\n",
            "Second: 0/100\n",
            "quit\n"
          ]
        }
      ]
    },
    {
      "cell_type": "code",
      "source": [
        "# Part07_02.LiquidContainers2\n",
        "# Exemple of Object-Oriented Programming\n",
        "# The code MUST be refactor to modify the class Container to include all the logic that filter\n",
        "# the quantity to add or substract to the main amount.\n",
        "\n",
        "class Container():\n",
        "  def __init__(self):\n",
        "    self.amount = 0\n",
        "    self.max = 100\n",
        "  def contains(self):\n",
        "    return self.amount\n",
        "\n",
        "  def add(self, qty):\n",
        "    if qty <= 0:\n",
        "      self.amount += 0\n",
        "    elif (self.amount + qty) > self.max:\n",
        "      self.amount = self.max\n",
        "    else:\n",
        "      self.amount += qty\n",
        "\n",
        "  def remove(self, qty):\n",
        "    if qty <= 0:\n",
        "      self.amount -= 0\n",
        "    elif self.amount < qty:\n",
        "      self.amount = 0\n",
        "    else:\n",
        "      self.amount -= qty\n",
        "\n",
        "  def __str__(self):\n",
        "    return f\"{self.amount}/{self.max}\"\n",
        "\n",
        "class UserInterface():\n",
        "\n",
        "  container1 = Container()\n",
        "  container2 = Container()\n",
        "\n",
        "  def UserInterface(self,):\n",
        "    self.container1 = Container()\n",
        "    self.container2 = Container()\n",
        "\n",
        "  def status(self):\n",
        "    print(self.container1)\n",
        "    print(self.container2)\n",
        "\n",
        "  def start(self):\n",
        "    while True:\n",
        "      self.status()\n",
        "      intro = input()\n",
        "  \n",
        "      if intro == \"quit\":\n",
        "        break\n",
        "\n",
        "      valores = intro.split(\" \")\n",
        "      command = valores[0]\n",
        "      amount = int(valores[1])  \n",
        "\n",
        "      if command == \"add\":\n",
        "        self.container1.add(amount)\n",
        "\n",
        "      if command == \"move\":\n",
        "        \n",
        "        if self.container1.contains() <= amount:\n",
        "          remain = self.container1.contains()\n",
        "          self.container1.remove(amount)\n",
        "          self.container2.add(remain)\n",
        "        else:\n",
        "          self.container1.remove(amount)\n",
        "          self.container2.add(amount)\n",
        "\n",
        "      if command == \"remove\":\n",
        "       self.container2.remove(amount)\n",
        "\n",
        "ux = UserInterface()\n",
        "ux.start()\n"
      ],
      "metadata": {
        "id": "TAFioCA2pVTH",
        "colab": {
          "base_uri": "https://localhost:8080/"
        },
        "outputId": "ee358830-422f-4010-ed76-a93114ac56e1"
      },
      "execution_count": 51,
      "outputs": [
        {
          "name": "stdout",
          "output_type": "stream",
          "text": [
            "0/100\n",
            "0/100\n",
            "add 20\n",
            "20/100\n",
            "0/100\n",
            "move 10\n",
            "10/100\n",
            "10/100\n",
            "move -5\n",
            "10/100\n",
            "10/100\n",
            "remove 10\n",
            "10/100\n",
            "0/100\n",
            "quit\n"
          ]
        }
      ]
    },
    {
      "cell_type": "markdown",
      "source": [
        "### Algorithms"
      ],
      "metadata": {
        "id": "jMEN_7tepq7A"
      }
    },
    {
      "cell_type": "code",
      "source": [
        "# Part07_03.Sorting"
      ],
      "metadata": {
        "id": "Mf8tB1bgpVPv"
      },
      "execution_count": null,
      "outputs": []
    },
    {
      "cell_type": "code",
      "source": [
        "# Part07_04.ReadymadeSortingAlgorithms"
      ],
      "metadata": {
        "id": "j8d2EfMlpVNY"
      },
      "execution_count": null,
      "outputs": []
    },
    {
      "cell_type": "code",
      "source": [
        "# Part07_05.Searching"
      ],
      "metadata": {
        "id": "fnRQVEoEpVLI"
      },
      "execution_count": null,
      "outputs": []
    },
    {
      "cell_type": "code",
      "source": [
        "# Part07_06.GradeStatistics"
      ],
      "metadata": {
        "id": "kurnePwIpVIl"
      },
      "execution_count": null,
      "outputs": []
    },
    {
      "cell_type": "markdown",
      "source": [
        "### Larger programming exercises"
      ],
      "metadata": {
        "id": "iz5ZBlWHpuY4"
      }
    },
    {
      "cell_type": "code",
      "source": [
        "# Part07_07.RecipeSearch"
      ],
      "metadata": {
        "id": "r7HVpSLcpVGI"
      },
      "execution_count": null,
      "outputs": []
    },
    {
      "cell_type": "code",
      "source": [
        "# Part07_08.BigYear"
      ],
      "metadata": {
        "id": "Hf1JWYsspVDP"
      },
      "execution_count": null,
      "outputs": []
    }
  ],
  "metadata": {
    "colab": {
      "collapsed_sections": [
        "mU0I0mMuFxLd"
      ],
      "name": "Helsinki Java I in Python.ipynb",
      "provenance": [],
      "mount_file_id": "1Rm-aj5IHQj9RM4NtF1qgIh-tfhLkbyF6",
      "authorship_tag": "ABX9TyOTS/9NaFnde/2CuJl2G2SK",
      "include_colab_link": true
    },
    "kernelspec": {
      "display_name": "Python 3",
      "name": "python3"
    },
    "language_info": {
      "name": "python"
    }
  },
  "nbformat": 4,
  "nbformat_minor": 0
}