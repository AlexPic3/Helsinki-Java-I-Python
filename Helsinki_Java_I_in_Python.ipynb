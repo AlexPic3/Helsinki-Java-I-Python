{
  "nbformat": 4,
  "nbformat_minor": 0,
  "metadata": {
    "colab": {
      "name": "Helsinki Java I in Python.ipynb",
      "provenance": [],
      "collapsed_sections": [],
      "authorship_tag": "ABX9TyOwA7jd6KOOBT3vHb0m5L0W",
      "include_colab_link": true
    },
    "kernelspec": {
      "name": "python3",
      "display_name": "Python 3"
    },
    "language_info": {
      "name": "python"
    }
  },
  "cells": [
    {
      "cell_type": "markdown",
      "metadata": {
        "id": "view-in-github",
        "colab_type": "text"
      },
      "source": [
        "<a href=\"https://colab.research.google.com/github/AlexPic3/Helsinki-Java-I-Python/blob/main/Helsinki_Java_I_in_Python.ipynb\" target=\"_parent\"><img src=\"https://colab.research.google.com/assets/colab-badge.svg\" alt=\"Open In Colab\"/></a>"
      ]
    },
    {
      "cell_type": "markdown",
      "source": [
        "# [Helsinki](https://java-programming.mooc.fi/) Java I in Python\n"
      ],
      "metadata": {
        "id": "4LjiusiRwaZv"
      }
    },
    {
      "cell_type": "code",
      "execution_count": null,
      "metadata": {
        "colab": {
          "base_uri": "https://localhost:8080/"
        },
        "id": "d4GaJsNBvD-X",
        "outputId": "7082987f-0898-4d73-9d6a-409e96de6ba3"
      },
      "outputs": [
        {
          "output_type": "stream",
          "name": "stdout",
          "text": [
            "Integer: 3\n",
            "The squared of the number  3  is  9\n",
            "The squared of the number 3 is 9\n"
          ]
        }
      ],
      "source": [
        "# Part02_01.Squared\n",
        "number = int(input(\"Integer: \"))\n",
        "squarered = number * number\n",
        "squa = pow(number,2)\n",
        "print(\"The squared of the number \",number,\" is \",squarered)\n",
        "print(f\"The squared of the number {number} is {squa}\")"
      ]
    },
    {
      "cell_type": "code",
      "source": [
        "# Part02_02.SquareRootOfSum\n",
        "import math\n",
        "number = int(input(\"Integer: \"))\n",
        "sqroot = math.sqrt(number)\n",
        "print(f\"The squared root of the number {number} is {sqroot}\")"
      ],
      "metadata": {
        "colab": {
          "base_uri": "https://localhost:8080/"
        },
        "id": "RISgTJ86wtDw",
        "outputId": "d4854ac5-9e15-4b7a-ce9e-0603144fb630"
      },
      "execution_count": null,
      "outputs": [
        {
          "output_type": "stream",
          "name": "stdout",
          "text": [
            "Integer: 50\n",
            "The squared root of the number 50 is 7.0710678118654755\n"
          ]
        }
      ]
    },
    {
      "cell_type": "code",
      "source": [
        "# Part02_03.AbsoluteValue\n",
        "number = int(input(\"Integer: \"))\n",
        "if number <0:\n",
        "    #print (number*(-1))\n",
        "    print (abs(number))\n",
        "else:\n",
        "    print (number)"
      ],
      "metadata": {
        "colab": {
          "base_uri": "https://localhost:8080/"
        },
        "id": "8ZuIzV4kwtBZ",
        "outputId": "345ccfb1-d1d2-4aa1-dd2a-a704da65b2fa"
      },
      "execution_count": null,
      "outputs": [
        {
          "output_type": "stream",
          "name": "stdout",
          "text": [
            "Integer: -5\n",
            "5\n"
          ]
        }
      ]
    },
    {
      "cell_type": "code",
      "source": [
        "# Part02_04.ComparingNumbers\n",
        "first = int(input(\"First number \"))\n",
        "second = int(input(\"Second number \"))\n",
        "if first > second:\n",
        "    print('{}, is greater that ,{}'.format(first, second))\n",
        "elif first < second:\n",
        "    print('{}, is samller that ,{}'.format(first, second))\n",
        "else:\n",
        "    print('{}, is equal to ,{}'.format(first, second))"
      ],
      "metadata": {
        "colab": {
          "base_uri": "https://localhost:8080/"
        },
        "id": "TVIZKTaJws_C",
        "outputId": "f810de67-a973-44ed-9244-f0f3a5e10cb5"
      },
      "execution_count": null,
      "outputs": [
        {
          "output_type": "stream",
          "name": "stdout",
          "text": [
            "First number 5\n",
            "Second number 6\n",
            "5, is samller that ,6\n"
          ]
        }
      ]
    },
    {
      "cell_type": "markdown",
      "source": [
        "## Ending a Loop"
      ],
      "metadata": {
        "id": "S5RND0V8Qymf"
      }
    },
    {
      "cell_type": "code",
      "source": [
        "# Part02_05.CarryOn\n",
        "\n",
        "while True:\n",
        "    variable = input(\"Shall we carry on? (no, Exit)\")\n",
        "    if variable == \"no\":\n",
        "        break"
      ],
      "metadata": {
        "colab": {
          "base_uri": "https://localhost:8080/"
        },
        "id": "vK6l4zznws8v",
        "outputId": "ec4c0634-ce75-459a-a19d-56f59abf80df"
      },
      "execution_count": null,
      "outputs": [
        {
          "name": "stdout",
          "output_type": "stream",
          "text": [
            "Shall we carry on? (no, Exit)jo\n",
            "Shall we carry on? (no, Exit)nk\n",
            "Shall we carry on? (no, Exit)no\n"
          ]
        }
      ]
    },
    {
      "cell_type": "code",
      "source": [
        "# Part02_06.AreWeThereYet\n",
        "\n",
        "while True:\n",
        "  number = int(input(\"Give a number: \"))\n",
        "  if number == 4:\n",
        "    break"
      ],
      "metadata": {
        "id": "ixAfY049ws6Z",
        "colab": {
          "base_uri": "https://localhost:8080/"
        },
        "outputId": "cb74cfb8-1182-4ec6-ee43-e36519bf4291"
      },
      "execution_count": null,
      "outputs": [
        {
          "name": "stdout",
          "output_type": "stream",
          "text": [
            "Give a number:5\n",
            "Give a number:9\n",
            "Give a number:4\n"
          ]
        }
      ]
    },
    {
      "cell_type": "markdown",
      "source": [
        "## Returning to the Start of the Loop"
      ],
      "metadata": {
        "id": "mU0I0mMuFxLd"
      }
    },
    {
      "cell_type": "code",
      "source": [
        "# Part02_07.OnlyPositives\n",
        "# Write a program that asks the user for numbers. If the number is negative \n",
        "# (smaller than zero), the program prints for user \"Unsuitable number\" and asks\n",
        "# the user for a new number. If the number is zero, the program exits the loop.\n",
        "# If the number is positive, the program prints the number to the power of two.\n",
        "\n",
        "while True:\n",
        "  number = int(input(\"Give a number: \"))\n",
        "  if number < 0:\n",
        "    print (\"Unsuitable number: \")\n",
        "    continue\n",
        "  if number > 0:\n",
        "    print(number * number)\n",
        "  if number == 0:\n",
        "    break\n",
        "\n"
      ],
      "metadata": {
        "id": "dGLzhNp0ws4P",
        "colab": {
          "base_uri": "https://localhost:8080/"
        },
        "outputId": "15c4032d-67a6-4c46-a264-39f2ef22454b"
      },
      "execution_count": null,
      "outputs": [
        {
          "name": "stdout",
          "output_type": "stream",
          "text": [
            "Give a number: 2\n",
            "4\n",
            "Give a number: 5\n",
            "25\n",
            "Give a number: 0\n"
          ]
        }
      ]
    },
    {
      "cell_type": "code",
      "source": [
        "while True:\n",
        "  number = int(input(\"Give a number: \"))\n",
        "  if number < 0:\n",
        "    print (\"Unsuitable number: \")\n",
        "    continue\n",
        "  if number == 0:\n",
        "    break  \n",
        "  print(number * number)\n",
        "  "
      ],
      "metadata": {
        "colab": {
          "base_uri": "https://localhost:8080/"
        },
        "id": "xlUv2d40ZqGZ",
        "outputId": "d0799d24-fba7-47ac-bd77-255514509c37"
      },
      "execution_count": 33,
      "outputs": [
        {
          "name": "stdout",
          "output_type": "stream",
          "text": [
            "Give a number: 2\n",
            "4\n",
            "Give a number: 4\n",
            "16\n",
            "Give a number: 0\n"
          ]
        }
      ]
    },
    {
      "cell_type": "markdown",
      "source": [
        "## Calculation with Loops"
      ],
      "metadata": {
        "id": "Mi7ZIgGudTs5"
      }
    },
    {
      "cell_type": "code",
      "source": [
        "# Part02_08.NumberOfNumbers\n",
        "# Write a program that reads values from the user until they input a 0.\n",
        "# After this, the program prints the total number of inputted values.\n",
        "# The zero that's used to exit the loop should not be included in the total\n",
        "# number count.\n",
        "\n",
        "numval = 0\n",
        "\n",
        "while True:\n",
        "  number = int(input(\"Give a number: \"))\n",
        "  if number == 0:\n",
        "    break\n",
        "  else:\n",
        "    print(number)\n",
        "    numval +=1\n",
        "\n",
        "print ('Number of numbers: {}'. format(numval))\n"
      ],
      "metadata": {
        "id": "GVStoSZfws14",
        "colab": {
          "base_uri": "https://localhost:8080/"
        },
        "outputId": "f26aba00-51e9-4821-bb4b-ccec02c09754"
      },
      "execution_count": 37,
      "outputs": [
        {
          "output_type": "stream",
          "name": "stdout",
          "text": [
            "Give a number: 3\n",
            "3\n",
            "Give a number: 5\n",
            "5\n",
            "Give a number: 6\n",
            "6\n",
            "Give a number: 0\n",
            "Number of numbers: 3\n"
          ]
        }
      ]
    },
    {
      "cell_type": "code",
      "source": [
        "# Part02_09.NumberOfNegativeNumbers\n",
        "# Write a program that reads values from the user until they input a 0.\n",
        "# After this, the program prints the total number of inputted values that\n",
        "# are negative. The zero that's used to exit the loop should not be included\n",
        "# in the total number count.\n",
        "\n",
        "NumberOfNegativeNumbers = 0\n",
        "\n",
        "while True:\n",
        "  num = int(input(\"Give a number: \"))\n",
        "  if num < 0:\n",
        "    NumberOfNegativeNumbers +=1\n",
        "  elif num > 0:\n",
        "    continue\n",
        "  else:\n",
        "    break\n",
        "\n",
        "print('Number of negative numbers: {}'.format(NumberOfNegativeNumbers))     \n",
        "\n",
        "\n",
        "\n"
      ],
      "metadata": {
        "id": "OOqXfpe7wszP",
        "colab": {
          "base_uri": "https://localhost:8080/"
        },
        "outputId": "842925c9-ca0c-4af7-fad8-ee50decab8c5"
      },
      "execution_count": 40,
      "outputs": [
        {
          "output_type": "stream",
          "name": "stdout",
          "text": [
            "Give a number: 4\n",
            "Give a number: 5\n",
            "Give a number: -1\n",
            "Give a number: -4\n",
            "Give a number: 0\n",
            "Number of negative numbers: 2\n"
          ]
        }
      ]
    },
    {
      "cell_type": "code",
      "source": [
        "# Part02_10.SumOfNumbers"
      ],
      "metadata": {
        "id": "yJOgqOjDxG0L"
      },
      "execution_count": null,
      "outputs": []
    },
    {
      "cell_type": "code",
      "source": [
        "# Part02_11.NumberAndSumOfNumbers"
      ],
      "metadata": {
        "id": "88gL76vrwsw5"
      },
      "execution_count": null,
      "outputs": []
    },
    {
      "cell_type": "code",
      "source": [
        "# Part02_12.AverageOfNumbers"
      ],
      "metadata": {
        "id": "ve4zdnhnwsuB"
      },
      "execution_count": null,
      "outputs": []
    },
    {
      "cell_type": "code",
      "source": [
        "# Part02_13.AverageOfPositiveNumbers"
      ],
      "metadata": {
        "id": "cFI4ezcwwsrn"
      },
      "execution_count": null,
      "outputs": []
    },
    {
      "cell_type": "code",
      "source": [
        "# Part02_14.Counting"
      ],
      "metadata": {
        "id": "JuubiCkTwspP"
      },
      "execution_count": null,
      "outputs": []
    },
    {
      "cell_type": "code",
      "source": [
        "# Part02_15.CountingToHundred"
      ],
      "metadata": {
        "id": "x2CFgPiPwskH"
      },
      "execution_count": null,
      "outputs": []
    },
    {
      "cell_type": "code",
      "source": [
        "# Part02_16.FromWhereToWhere"
      ],
      "metadata": {
        "id": "J2wFfT0pwsXn"
      },
      "execution_count": null,
      "outputs": []
    },
    {
      "cell_type": "code",
      "source": [
        "# Part02_17.SumOfASequence"
      ],
      "metadata": {
        "id": "FMrBsIEnxTBY"
      },
      "execution_count": null,
      "outputs": []
    },
    {
      "cell_type": "code",
      "source": [
        "# Part02_18.SumOfASequenceTheSequel"
      ],
      "metadata": {
        "id": "SaMMf4ATxS-n"
      },
      "execution_count": null,
      "outputs": []
    },
    {
      "cell_type": "code",
      "source": [
        "# Part02_19.Factorial"
      ],
      "metadata": {
        "id": "GW-3z1pKxS8P"
      },
      "execution_count": null,
      "outputs": []
    },
    {
      "cell_type": "code",
      "source": [
        "# Part02_20.RepeatingBreakingAndRemembering"
      ],
      "metadata": {
        "id": "-BNn4zOKxS5n"
      },
      "execution_count": null,
      "outputs": []
    },
    {
      "cell_type": "code",
      "source": [
        "# Part02_21.InAHoleInTheGround"
      ],
      "metadata": {
        "id": "b85-Q2XexS3f"
      },
      "execution_count": null,
      "outputs": []
    },
    {
      "cell_type": "code",
      "source": [
        "# Part02_22.Reprint"
      ],
      "metadata": {
        "id": "2D1aMp7rxS1W"
      },
      "execution_count": null,
      "outputs": []
    },
    {
      "cell_type": "code",
      "source": [
        "# Part02_23.FromOneToParameter"
      ],
      "metadata": {
        "id": "PGwbIV6TxSy3"
      },
      "execution_count": null,
      "outputs": []
    },
    {
      "cell_type": "code",
      "source": [
        "# Part02_24.FromParameterToOne"
      ],
      "metadata": {
        "id": "-miungwmxSwe"
      },
      "execution_count": null,
      "outputs": []
    },
    {
      "cell_type": "code",
      "source": [
        "# Part02_25.Division"
      ],
      "metadata": {
        "id": "qJm2WuOyxSt3"
      },
      "execution_count": null,
      "outputs": []
    },
    {
      "cell_type": "code",
      "source": [
        "# Part02_26.DivisibleByThree"
      ],
      "metadata": {
        "id": "1_QvCN0qxSrf"
      },
      "execution_count": null,
      "outputs": []
    },
    {
      "cell_type": "code",
      "source": [
        "# Part02_27.NumberUno"
      ],
      "metadata": {
        "id": "lCNEIFKMxSo_"
      },
      "execution_count": null,
      "outputs": []
    },
    {
      "cell_type": "code",
      "source": [
        "# Part02_28.Word"
      ],
      "metadata": {
        "id": "RaCjrfCPxSkf"
      },
      "execution_count": null,
      "outputs": []
    },
    {
      "cell_type": "code",
      "source": [
        "# Part02_29.Summation"
      ],
      "metadata": {
        "id": "KNLNNJvRxShf"
      },
      "execution_count": null,
      "outputs": []
    },
    {
      "cell_type": "code",
      "source": [
        "# Part02_30.Smallest"
      ],
      "metadata": {
        "id": "6C54GzGExkBP"
      },
      "execution_count": null,
      "outputs": []
    },
    {
      "cell_type": "code",
      "source": [
        "# Part02_31.Greatest"
      ],
      "metadata": {
        "id": "UjrNLXfZxj9H"
      },
      "execution_count": null,
      "outputs": []
    },
    {
      "cell_type": "code",
      "source": [
        "# Part02_32.Averaging"
      ],
      "metadata": {
        "id": "n-vxuPrlxj7B"
      },
      "execution_count": null,
      "outputs": []
    },
    {
      "cell_type": "code",
      "source": [
        "# Part02_33.StarSign"
      ],
      "metadata": {
        "id": "AXneIDV5xj4b"
      },
      "execution_count": null,
      "outputs": []
    },
    {
      "cell_type": "code",
      "source": [
        "# Part02_34.AdvancedAstrology"
      ],
      "metadata": {
        "id": "eEn287YMxj2X"
      },
      "execution_count": null,
      "outputs": []
    }
  ]
}