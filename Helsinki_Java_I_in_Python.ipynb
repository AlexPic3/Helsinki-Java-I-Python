{
  "nbformat": 4,
  "nbformat_minor": 0,
  "metadata": {
    "colab": {
      "name": "Helsinki Java I in Python.ipynb",
      "provenance": [],
      "collapsed_sections": [],
      "toc_visible": true,
      "authorship_tag": "ABX9TyO5I6jwDsR4nscUSoeZqCLm",
      "include_colab_link": true
    },
    "kernelspec": {
      "name": "python3",
      "display_name": "Python 3"
    },
    "language_info": {
      "name": "python"
    }
  },
  "cells": [
    {
      "cell_type": "markdown",
      "metadata": {
        "id": "view-in-github",
        "colab_type": "text"
      },
      "source": [
        "<a href=\"https://colab.research.google.com/github/AlexPic3/Helsinki-Java-I-Python/blob/main/Helsinki_Java_I_in_Python.ipynb\" target=\"_parent\"><img src=\"https://colab.research.google.com/assets/colab-badge.svg\" alt=\"Open In Colab\"/></a>"
      ]
    },
    {
      "cell_type": "markdown",
      "source": [
        "# [Helsinki](https://java-programming.mooc.fi/) Java I in Python\n"
      ],
      "metadata": {
        "id": "4LjiusiRwaZv"
      }
    },
    {
      "cell_type": "code",
      "execution_count": 1,
      "metadata": {
        "colab": {
          "base_uri": "https://localhost:8080/"
        },
        "id": "d4GaJsNBvD-X",
        "outputId": "7082987f-0898-4d73-9d6a-409e96de6ba3"
      },
      "outputs": [
        {
          "output_type": "stream",
          "name": "stdout",
          "text": [
            "Integer: 3\n",
            "The squared of the number  3  is  9\n",
            "The squared of the number 3 is 9\n"
          ]
        }
      ],
      "source": [
        "# Part02_01.Squared\n",
        "number = int(input(\"Integer: \"))\n",
        "squarered = number * number\n",
        "squa = pow(number,2)\n",
        "print(\"The squared of the number \",number,\" is \",squarered)\n",
        "print(f\"The squared of the number {number} is {squa}\")"
      ]
    },
    {
      "cell_type": "code",
      "source": [
        "# Part02_02.SquareRootOfSum\n",
        "import math\n",
        "number = int(input(\"Integer: \"))\n",
        "sqroot = math.sqrt(number)\n",
        "print(f\"The squared root of the number {number} is {sqroot}\")"
      ],
      "metadata": {
        "colab": {
          "base_uri": "https://localhost:8080/"
        },
        "id": "RISgTJ86wtDw",
        "outputId": "d4854ac5-9e15-4b7a-ce9e-0603144fb630"
      },
      "execution_count": 6,
      "outputs": [
        {
          "output_type": "stream",
          "name": "stdout",
          "text": [
            "Integer: 50\n",
            "The squared root of the number 50 is 7.0710678118654755\n"
          ]
        }
      ]
    },
    {
      "cell_type": "code",
      "source": [
        "# Part02_03.AbsoluteValue\n",
        "number = int(input(\"Integer: \"))\n",
        "if number <0:\n",
        "    #print (number*(-1))\n",
        "    print (abs(number))\n",
        "else:\n",
        "    print (number)"
      ],
      "metadata": {
        "colab": {
          "base_uri": "https://localhost:8080/"
        },
        "id": "8ZuIzV4kwtBZ",
        "outputId": "345ccfb1-d1d2-4aa1-dd2a-a704da65b2fa"
      },
      "execution_count": 5,
      "outputs": [
        {
          "output_type": "stream",
          "name": "stdout",
          "text": [
            "Integer: -5\n",
            "5\n"
          ]
        }
      ]
    },
    {
      "cell_type": "code",
      "source": [
        "# Part02_04.ComparingNumbers\n",
        "first = int(input(\"First number \"))\n",
        "second = int(input(\"Second number \"))\n",
        "if first > second:\n",
        "    print('{}, is greater that ,{}'.format(first, second))\n",
        "elif first < second:\n",
        "    print('{}, is samller that ,{}'.format(first, second))\n",
        "else:\n",
        "    print('{}, is equal to ,{}'.format(first, second))"
      ],
      "metadata": {
        "colab": {
          "base_uri": "https://localhost:8080/"
        },
        "id": "TVIZKTaJws_C",
        "outputId": "f810de67-a973-44ed-9244-f0f3a5e10cb5"
      },
      "execution_count": 3,
      "outputs": [
        {
          "output_type": "stream",
          "name": "stdout",
          "text": [
            "First number 5\n",
            "Second number 6\n",
            "5, is samller that ,6\n"
          ]
        }
      ]
    },
    {
      "cell_type": "code",
      "source": [
        "# Part02_05.CarryOn\n",
        "\n",
        "while True:\n",
        "    variable = input(\"Shall we carry on? (no, Exit)\")\n",
        "    if variable == \"no\":\n",
        "        break"
      ],
      "metadata": {
        "colab": {
          "base_uri": "https://localhost:8080/"
        },
        "id": "vK6l4zznws8v",
        "outputId": "ec4c0634-ce75-459a-a19d-56f59abf80df"
      },
      "execution_count": 2,
      "outputs": [
        {
          "name": "stdout",
          "output_type": "stream",
          "text": [
            "Shall we carry on? (no, Exit)jo\n",
            "Shall we carry on? (no, Exit)nk\n",
            "Shall we carry on? (no, Exit)no\n"
          ]
        }
      ]
    },
    {
      "cell_type": "code",
      "source": [
        "# Part02_06.AreWeThereYet\n",
        "\n"
      ],
      "metadata": {
        "id": "ixAfY049ws6Z"
      },
      "execution_count": null,
      "outputs": []
    },
    {
      "cell_type": "code",
      "source": [
        "# Part02_07.OnlyPositives"
      ],
      "metadata": {
        "id": "dGLzhNp0ws4P"
      },
      "execution_count": null,
      "outputs": []
    },
    {
      "cell_type": "code",
      "source": [
        "# Part02_08.NumberOfNumbers"
      ],
      "metadata": {
        "colab": {
          "base_uri": "https://localhost:8080/",
          "height": 165
        },
        "id": "GVStoSZfws14",
        "outputId": "9d183e05-ea07-42c1-ca60-dd82c0535894"
      },
      "execution_count": 7,
      "outputs": [
        {
          "output_type": "error",
          "ename": "NameError",
          "evalue": "ignored",
          "traceback": [
            "\u001b[0;31m---------------------------------------------------------------------------\u001b[0m",
            "\u001b[0;31mNameError\u001b[0m                                 Traceback (most recent call last)",
            "\u001b[0;32m<ipython-input-7-37c12771e1b1>\u001b[0m in \u001b[0;36m<module>\u001b[0;34m()\u001b[0m\n\u001b[0;32m----> 1\u001b[0;31m \u001b[0mPart02_08\u001b[0m\u001b[0;34m.\u001b[0m\u001b[0mNumberOfNumbers\u001b[0m\u001b[0;34m\u001b[0m\u001b[0;34m\u001b[0m\u001b[0m\n\u001b[0m",
            "\u001b[0;31mNameError\u001b[0m: name 'Part02_08' is not defined"
          ]
        }
      ]
    },
    {
      "cell_type": "code",
      "source": [
        "# Part02_09.NumberOfNegativeNumbers"
      ],
      "metadata": {
        "id": "OOqXfpe7wszP"
      },
      "execution_count": null,
      "outputs": []
    },
    {
      "cell_type": "code",
      "source": [
        "# Part02_10.SumOfNumbers"
      ],
      "metadata": {
        "id": "yJOgqOjDxG0L"
      },
      "execution_count": null,
      "outputs": []
    },
    {
      "cell_type": "code",
      "source": [
        "# Part02_11.NumberAndSumOfNumbers"
      ],
      "metadata": {
        "id": "88gL76vrwsw5"
      },
      "execution_count": null,
      "outputs": []
    },
    {
      "cell_type": "code",
      "source": [
        "# Part02_12.AverageOfNumbers"
      ],
      "metadata": {
        "id": "ve4zdnhnwsuB"
      },
      "execution_count": null,
      "outputs": []
    },
    {
      "cell_type": "code",
      "source": [
        "# Part02_13.AverageOfPositiveNumbers"
      ],
      "metadata": {
        "id": "cFI4ezcwwsrn"
      },
      "execution_count": null,
      "outputs": []
    },
    {
      "cell_type": "code",
      "source": [
        "# Part02_14.Counting"
      ],
      "metadata": {
        "id": "JuubiCkTwspP"
      },
      "execution_count": null,
      "outputs": []
    },
    {
      "cell_type": "code",
      "source": [
        "# Part02_15.CountingToHundred"
      ],
      "metadata": {
        "id": "x2CFgPiPwskH"
      },
      "execution_count": null,
      "outputs": []
    },
    {
      "cell_type": "code",
      "source": [
        "# Part02_16.FromWhereToWhere"
      ],
      "metadata": {
        "id": "J2wFfT0pwsXn"
      },
      "execution_count": null,
      "outputs": []
    },
    {
      "cell_type": "code",
      "source": [
        "# Part02_17.SumOfASequence"
      ],
      "metadata": {
        "id": "FMrBsIEnxTBY"
      },
      "execution_count": null,
      "outputs": []
    },
    {
      "cell_type": "code",
      "source": [
        "# Part02_18.SumOfASequenceTheSequel"
      ],
      "metadata": {
        "id": "SaMMf4ATxS-n"
      },
      "execution_count": null,
      "outputs": []
    },
    {
      "cell_type": "code",
      "source": [
        "# Part02_19.Factorial"
      ],
      "metadata": {
        "id": "GW-3z1pKxS8P"
      },
      "execution_count": null,
      "outputs": []
    },
    {
      "cell_type": "code",
      "source": [
        "# Part02_20.RepeatingBreakingAndRemembering"
      ],
      "metadata": {
        "id": "-BNn4zOKxS5n"
      },
      "execution_count": null,
      "outputs": []
    },
    {
      "cell_type": "code",
      "source": [
        "# Part02_21.InAHoleInTheGround"
      ],
      "metadata": {
        "id": "b85-Q2XexS3f"
      },
      "execution_count": null,
      "outputs": []
    },
    {
      "cell_type": "code",
      "source": [
        "# Part02_22.Reprint"
      ],
      "metadata": {
        "id": "2D1aMp7rxS1W"
      },
      "execution_count": null,
      "outputs": []
    },
    {
      "cell_type": "code",
      "source": [
        "# Part02_23.FromOneToParameter"
      ],
      "metadata": {
        "id": "PGwbIV6TxSy3"
      },
      "execution_count": null,
      "outputs": []
    },
    {
      "cell_type": "code",
      "source": [
        "# Part02_24.FromParameterToOne"
      ],
      "metadata": {
        "id": "-miungwmxSwe"
      },
      "execution_count": null,
      "outputs": []
    },
    {
      "cell_type": "code",
      "source": [
        "# Part02_25.Division"
      ],
      "metadata": {
        "id": "qJm2WuOyxSt3"
      },
      "execution_count": null,
      "outputs": []
    },
    {
      "cell_type": "code",
      "source": [
        "# Part02_26.DivisibleByThree"
      ],
      "metadata": {
        "id": "1_QvCN0qxSrf"
      },
      "execution_count": null,
      "outputs": []
    },
    {
      "cell_type": "code",
      "source": [
        "# Part02_27.NumberUno"
      ],
      "metadata": {
        "id": "lCNEIFKMxSo_"
      },
      "execution_count": null,
      "outputs": []
    },
    {
      "cell_type": "code",
      "source": [
        "# Part02_28.Word"
      ],
      "metadata": {
        "id": "RaCjrfCPxSkf"
      },
      "execution_count": null,
      "outputs": []
    },
    {
      "cell_type": "code",
      "source": [
        "# Part02_29.Summation"
      ],
      "metadata": {
        "id": "KNLNNJvRxShf"
      },
      "execution_count": null,
      "outputs": []
    },
    {
      "cell_type": "code",
      "source": [
        "# Part02_30.Smallest"
      ],
      "metadata": {
        "id": "6C54GzGExkBP"
      },
      "execution_count": null,
      "outputs": []
    },
    {
      "cell_type": "code",
      "source": [
        "# Part02_31.Greatest"
      ],
      "metadata": {
        "id": "UjrNLXfZxj9H"
      },
      "execution_count": null,
      "outputs": []
    },
    {
      "cell_type": "code",
      "source": [
        "# Part02_32.Averaging"
      ],
      "metadata": {
        "id": "n-vxuPrlxj7B"
      },
      "execution_count": null,
      "outputs": []
    },
    {
      "cell_type": "code",
      "source": [
        "# Part02_33.StarSign"
      ],
      "metadata": {
        "id": "AXneIDV5xj4b"
      },
      "execution_count": null,
      "outputs": []
    },
    {
      "cell_type": "code",
      "source": [
        "# Part02_34.AdvancedAstrology"
      ],
      "metadata": {
        "id": "eEn287YMxj2X"
      },
      "execution_count": null,
      "outputs": []
    }
  ]
}